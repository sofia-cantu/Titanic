{
  "cells": [
    {
      "cell_type": "markdown",
      "metadata": {
        "id": "UVSJzitfGkEN"
      },
      "source": [
        "### Import libraries"
      ]
    },
    {
      "cell_type": "code",
      "source": [
        "!pip install catboost\n"
      ],
      "metadata": {
        "colab": {
          "base_uri": "https://localhost:8080/",
          "height": 0
        },
        "id": "ek8Bf7a7LWyI",
        "outputId": "caecce47-7bba-44ca-959b-dd4d2bb61de7"
      },
      "execution_count": 28,
      "outputs": [
        {
          "output_type": "stream",
          "name": "stdout",
          "text": [
            "Requirement already satisfied: catboost in /usr/local/lib/python3.10/dist-packages (1.2.5)\n",
            "Requirement already satisfied: graphviz in /usr/local/lib/python3.10/dist-packages (from catboost) (0.20.3)\n",
            "Requirement already satisfied: matplotlib in /usr/local/lib/python3.10/dist-packages (from catboost) (3.7.1)\n",
            "Requirement already satisfied: numpy>=1.16.0 in /usr/local/lib/python3.10/dist-packages (from catboost) (1.26.4)\n",
            "Requirement already satisfied: pandas>=0.24 in /usr/local/lib/python3.10/dist-packages (from catboost) (2.1.4)\n",
            "Requirement already satisfied: scipy in /usr/local/lib/python3.10/dist-packages (from catboost) (1.13.1)\n",
            "Requirement already satisfied: plotly in /usr/local/lib/python3.10/dist-packages (from catboost) (5.15.0)\n",
            "Requirement already satisfied: six in /usr/local/lib/python3.10/dist-packages (from catboost) (1.16.0)\n",
            "Requirement already satisfied: python-dateutil>=2.8.2 in /usr/local/lib/python3.10/dist-packages (from pandas>=0.24->catboost) (2.8.2)\n",
            "Requirement already satisfied: pytz>=2020.1 in /usr/local/lib/python3.10/dist-packages (from pandas>=0.24->catboost) (2024.1)\n",
            "Requirement already satisfied: tzdata>=2022.1 in /usr/local/lib/python3.10/dist-packages (from pandas>=0.24->catboost) (2024.1)\n",
            "Requirement already satisfied: contourpy>=1.0.1 in /usr/local/lib/python3.10/dist-packages (from matplotlib->catboost) (1.2.1)\n",
            "Requirement already satisfied: cycler>=0.10 in /usr/local/lib/python3.10/dist-packages (from matplotlib->catboost) (0.12.1)\n",
            "Requirement already satisfied: fonttools>=4.22.0 in /usr/local/lib/python3.10/dist-packages (from matplotlib->catboost) (4.53.1)\n",
            "Requirement already satisfied: kiwisolver>=1.0.1 in /usr/local/lib/python3.10/dist-packages (from matplotlib->catboost) (1.4.5)\n",
            "Requirement already satisfied: packaging>=20.0 in /usr/local/lib/python3.10/dist-packages (from matplotlib->catboost) (24.1)\n",
            "Requirement already satisfied: pillow>=6.2.0 in /usr/local/lib/python3.10/dist-packages (from matplotlib->catboost) (9.4.0)\n",
            "Requirement already satisfied: pyparsing>=2.3.1 in /usr/local/lib/python3.10/dist-packages (from matplotlib->catboost) (3.1.2)\n",
            "Requirement already satisfied: tenacity>=6.2.0 in /usr/local/lib/python3.10/dist-packages (from plotly->catboost) (9.0.0)\n"
          ]
        }
      ]
    },
    {
      "cell_type": "code",
      "execution_count": 29,
      "metadata": {
        "id": "y0Ul8CMZGkEU"
      },
      "outputs": [],
      "source": [
        "import pandas as pd\n",
        "from sklearn.metrics import accuracy_score\n",
        "from catboost import CatBoostClassifier\n",
        "import numpy as np\n",
        "from catboost import Pool\n",
        "from sklearn.model_selection import GridSearchCV\n",
        "import matplotlib.pyplot as plt\n",
        "import seaborn as sns\n",
        "from sklearn.metrics import confusion_matrix, classification_report"
      ]
    },
    {
      "cell_type": "markdown",
      "metadata": {
        "id": "LbzexatsGkEX"
      },
      "source": [
        "### Exploratory Analysis"
      ]
    },
    {
      "cell_type": "code",
      "execution_count": 30,
      "metadata": {
        "id": "FSA1wEGDGkEX"
      },
      "outputs": [],
      "source": [
        "df = pd.read_csv('train.csv', index_col=0)"
      ]
    },
    {
      "cell_type": "markdown",
      "source": [
        "The first 10 rows of the dataset to understand its structure"
      ],
      "metadata": {
        "id": "aBdr_BelMlWj"
      }
    },
    {
      "cell_type": "code",
      "source": [
        "print(df.head(10))"
      ],
      "metadata": {
        "colab": {
          "base_uri": "https://localhost:8080/",
          "height": 0
        },
        "id": "LFtbVkOMMdv3",
        "outputId": "c6df3a59-8c1a-46e7-b943-58568e7da96c"
      },
      "execution_count": 31,
      "outputs": [
        {
          "output_type": "stream",
          "name": "stdout",
          "text": [
            "             Survived  Pclass  \\\n",
            "PassengerId                     \n",
            "1                   0       3   \n",
            "2                   1       1   \n",
            "3                   1       3   \n",
            "4                   1       1   \n",
            "5                   0       3   \n",
            "6                   0       3   \n",
            "7                   0       1   \n",
            "8                   0       3   \n",
            "9                   1       3   \n",
            "10                  1       2   \n",
            "\n",
            "                                                          Name     Sex   Age  \\\n",
            "PassengerId                                                                    \n",
            "1                                      Braund, Mr. Owen Harris    male  22.0   \n",
            "2            Cumings, Mrs. John Bradley (Florence Briggs Th...  female  38.0   \n",
            "3                                       Heikkinen, Miss. Laina  female  26.0   \n",
            "4                 Futrelle, Mrs. Jacques Heath (Lily May Peel)  female  35.0   \n",
            "5                                     Allen, Mr. William Henry    male  35.0   \n",
            "6                                             Moran, Mr. James    male   NaN   \n",
            "7                                      McCarthy, Mr. Timothy J    male  54.0   \n",
            "8                               Palsson, Master. Gosta Leonard    male   2.0   \n",
            "9            Johnson, Mrs. Oscar W (Elisabeth Vilhelmina Berg)  female  27.0   \n",
            "10                         Nasser, Mrs. Nicholas (Adele Achem)  female  14.0   \n",
            "\n",
            "             SibSp  Parch            Ticket     Fare Cabin Embarked  \n",
            "PassengerId                                                          \n",
            "1                1      0         A/5 21171   7.2500   NaN        S  \n",
            "2                1      0          PC 17599  71.2833   C85        C  \n",
            "3                0      0  STON/O2. 3101282   7.9250   NaN        S  \n",
            "4                1      0            113803  53.1000  C123        S  \n",
            "5                0      0            373450   8.0500   NaN        S  \n",
            "6                0      0            330877   8.4583   NaN        Q  \n",
            "7                0      0             17463  51.8625   E46        S  \n",
            "8                3      1            349909  21.0750   NaN        S  \n",
            "9                0      2            347742  11.1333   NaN        S  \n",
            "10               1      0            237736  30.0708   NaN        C  \n"
          ]
        }
      ]
    },
    {
      "cell_type": "markdown",
      "source": [
        "Stats for numerical variables"
      ],
      "metadata": {
        "id": "IvHDa2YhM0lt"
      }
    },
    {
      "cell_type": "code",
      "source": [
        "print(df.describe())"
      ],
      "metadata": {
        "colab": {
          "base_uri": "https://localhost:8080/",
          "height": 0
        },
        "id": "ANb2tSbCMv5t",
        "outputId": "88a17ede-8d5f-4ace-aebc-cb1078688888"
      },
      "execution_count": 32,
      "outputs": [
        {
          "output_type": "stream",
          "name": "stdout",
          "text": [
            "         Survived      Pclass         Age       SibSp       Parch        Fare\n",
            "count  891.000000  891.000000  714.000000  891.000000  891.000000  891.000000\n",
            "mean     0.383838    2.308642   29.699118    0.523008    0.381594   32.204208\n",
            "std      0.486592    0.836071   14.526497    1.102743    0.806057   49.693429\n",
            "min      0.000000    1.000000    0.420000    0.000000    0.000000    0.000000\n",
            "25%      0.000000    2.000000   20.125000    0.000000    0.000000    7.910400\n",
            "50%      0.000000    3.000000   28.000000    0.000000    0.000000   14.454200\n",
            "75%      1.000000    3.000000   38.000000    1.000000    0.000000   31.000000\n",
            "max      1.000000    3.000000   80.000000    8.000000    6.000000  512.329200\n"
          ]
        }
      ]
    },
    {
      "cell_type": "markdown",
      "source": [
        "Missing values in each column"
      ],
      "metadata": {
        "id": "SXKLoNwINFWN"
      }
    },
    {
      "cell_type": "code",
      "source": [
        "print(df.isnull().sum())"
      ],
      "metadata": {
        "colab": {
          "base_uri": "https://localhost:8080/",
          "height": 0
        },
        "id": "mnm2ofAGM_7P",
        "outputId": "4f8ca004-0ab7-47d6-9d67-80a96ee21aa4"
      },
      "execution_count": 33,
      "outputs": [
        {
          "output_type": "stream",
          "name": "stdout",
          "text": [
            "Survived      0\n",
            "Pclass        0\n",
            "Name          0\n",
            "Sex           0\n",
            "Age         177\n",
            "SibSp         0\n",
            "Parch         0\n",
            "Ticket        0\n",
            "Fare          0\n",
            "Cabin       687\n",
            "Embarked      2\n",
            "dtype: int64\n"
          ]
        }
      ]
    },
    {
      "cell_type": "markdown",
      "source": [
        "Distribution of the variable: 'Survived'"
      ],
      "metadata": {
        "id": "X6uQq1L9NR9Y"
      }
    },
    {
      "cell_type": "code",
      "source": [
        "sns.countplot(x='Survived', data=df)\n",
        "plt.title('Survival Distribution (0 = No, 1 = Yes)')\n",
        "plt.show()"
      ],
      "metadata": {
        "colab": {
          "base_uri": "https://localhost:8080/",
          "height": 492
        },
        "id": "cAI_nRB0NN5W",
        "outputId": "e9ddc254-1622-4a14-85ff-ba58b3abf53d"
      },
      "execution_count": 34,
      "outputs": [
        {
          "output_type": "display_data",
          "data": {
            "text/plain": [
              "<Figure size 640x480 with 1 Axes>"
            ],
            "image/png": "[encoded data removed]"
          },
          "metadata": {}
        }
      ]
    },
    {
      "cell_type": "markdown",
      "source": [
        "Distribution of varieble: 'Pclass'"
      ],
      "metadata": {
        "id": "xghbjzlzNk8j"
      }
    },
    {
      "cell_type": "code",
      "source": [
        "sns.countplot(x='Pclass', data=df)\n",
        "plt.title('Passenger Class Distribution')\n",
        "plt.show()"
      ],
      "metadata": {
        "colab": {
          "base_uri": "https://localhost:8080/",
          "height": 492
        },
        "id": "Gv3bD7vPNbPr",
        "outputId": "0f7402e3-9395-48ee-c23f-f712d587aca9"
      },
      "execution_count": 35,
      "outputs": [
        {
          "output_type": "display_data",
          "data": {
            "text/plain": [
              "<Figure size 640x480 with 1 Axes>"
            ],
            "image/png": "[encoded data removed]"
          },
          "metadata": {}
        }
      ]
    },
    {
      "cell_type": "markdown",
      "source": [
        "Age distribution"
      ],
      "metadata": {
        "id": "LSmMHpDwNxq5"
      }
    },
    {
      "cell_type": "code",
      "source": [
        "sns.histplot(df['Age'].dropna(), kde=True, bins=30)\n",
        "plt.title('Age Distribution')\n",
        "plt.show()"
      ],
      "metadata": {
        "colab": {
          "base_uri": "https://localhost:8080/",
          "height": 492
        },
        "id": "xfxBFP07NuUp",
        "outputId": "22115c2a-2e14-4f54-c989-8707d04535f4"
      },
      "execution_count": 36,
      "outputs": [
        {
          "output_type": "display_data",
          "data": {
            "text/plain": [
              "<Figure size 640x480 with 1 Axes>"
            ],
            "image/png": "[encoded data removed]"
          },
          "metadata": {}
        }
      ]
    },
    {
      "cell_type": "markdown",
      "source": [
        "Survival comparison by gender"
      ],
      "metadata": {
        "id": "zNdO-Ls-N48E"
      }
    },
    {
      "cell_type": "code",
      "source": [
        "custom_palette = ['darkcyan', 'aquamarine']\n",
        "sns.countplot(x='Survived', hue='Sex', data=df, palette=custom_palette)\n",
        "plt.title('Survival by Gender')\n",
        "plt.show()"
      ],
      "metadata": {
        "colab": {
          "base_uri": "https://localhost:8080/",
          "height": 492
        },
        "id": "bfGXK6WnN3EZ",
        "outputId": "e0f8bc53-ed22-4ff2-edb4-ab2fb4032422"
      },
      "execution_count": 37,
      "outputs": [
        {
          "output_type": "display_data",
          "data": {
            "text/plain": [
              "<Figure size 640x480 with 1 Axes>"
            ],
            "image/png": "[encoded data removed]"
          },
          "metadata": {}
        }
      ]
    },
    {
      "cell_type": "markdown",
      "source": [
        "Survival comparison by class"
      ],
      "metadata": {
        "id": "PkwCKxmFOCSZ"
      }
    },
    {
      "cell_type": "code",
      "source": [
        "custom_palette = ['darkcyan', 'aquamarine', 'lightslategrey']\n",
        "sns.countplot(x='Survived', hue='Pclass', data=df, palette=custom_palette)\n",
        "plt.title('Survival by Class')\n",
        "plt.show()"
      ],
      "metadata": {
        "colab": {
          "base_uri": "https://localhost:8080/",
          "height": 492
        },
        "id": "S1a98pACOAfk",
        "outputId": "4a8f9622-cdce-4145-c6b2-f60e5a3740b5"
      },
      "execution_count": 38,
      "outputs": [
        {
          "output_type": "display_data",
          "data": {
            "text/plain": [
              "<Figure size 640x480 with 1 Axes>"
            ],
            "image/png": "[encoded data removed]"
          },
          "metadata": {}
        }
      ]
    },
    {
      "cell_type": "markdown",
      "source": [
        "Analysis of the fare paid"
      ],
      "metadata": {
        "id": "LFg7GjXDOKMx"
      }
    },
    {
      "cell_type": "code",
      "source": [
        "sns.histplot(df['Fare'], kde=True, bins=30)\n",
        "plt.title('Fare Distribution')\n",
        "plt.show()"
      ],
      "metadata": {
        "colab": {
          "base_uri": "https://localhost:8080/",
          "height": 492
        },
        "id": "AYNO01DmOIDY",
        "outputId": "9003b6d6-5f25-4185-83cf-8f5ffdfb3186"
      },
      "execution_count": 39,
      "outputs": [
        {
          "output_type": "display_data",
          "data": {
            "text/plain": [
              "<Figure size 640x480 with 1 Axes>"
            ],
            "image/png": "[encoded data removed]"
          },
          "metadata": {}
        }
      ]
    },
    {
      "cell_type": "markdown",
      "source": [
        "Survival comparison by embarkation port"
      ],
      "metadata": {
        "id": "LlVpo7afOSWy"
      }
    },
    {
      "cell_type": "code",
      "source": [
        "custom_palette = ['darkcyan', 'aquamarine', 'lightslategrey']\n",
        "sns.countplot(x='Survived', hue='Embarked', data=df, palette=custom_palette)\n",
        "plt.title('Survival by Embarkation Port')\n",
        "plt.show()"
      ],
      "metadata": {
        "colab": {
          "base_uri": "https://localhost:8080/",
          "height": 492
        },
        "id": "latbf25JOQw8",
        "outputId": "91b07036-8351-45e9-e4fb-1834c86aab1f"
      },
      "execution_count": 40,
      "outputs": [
        {
          "output_type": "display_data",
          "data": {
            "text/plain": [
              "<Figure size 640x480 with 1 Axes>"
            ],
            "image/png": "[encoded data removed]"
          },
          "metadata": {}
        }
      ]
    },
    {
      "cell_type": "markdown",
      "source": [
        "Correlation matrix between numerical variables"
      ],
      "metadata": {
        "id": "kSm1X23fOmy3"
      }
    },
    {
      "cell_type": "code",
      "source": [
        "plt.figure(figsize=(10, 8))\n",
        "numeric_cols = df.select_dtypes(include=['float64', 'int64']).columns\n",
        "sns.heatmap(df[numeric_cols].corr(), annot=True, cmap='Blues')\n",
        "plt.title('Correlation Matrix')\n",
        "plt.show()"
      ],
      "metadata": {
        "colab": {
          "base_uri": "https://localhost:8080/",
          "height": 719
        },
        "id": "_eVmftm0LegW",
        "outputId": "c324c55d-2949-4168-e55e-a6f92337d47b"
      },
      "execution_count": 41,
      "outputs": [
        {
          "output_type": "display_data",
          "data": {
            "text/plain": [
              "<Figure size 1000x800 with 2 Axes>"
            ],
            "image/png": "[encoded data removed]"
          },
          "metadata": {}
        }
      ]
    },
    {
      "cell_type": "markdown",
      "metadata": {
        "id": "-TDq7fR7GkEY"
      },
      "source": [
        "#### Cleaning the data"
      ]
    },
    {
      "cell_type": "code",
      "execution_count": 42,
      "metadata": {
        "id": "SAHKWWJ6GkEY",
        "outputId": "1cf3b6e7-0264-49b6-bad6-4eecc7b6d676",
        "colab": {
          "base_uri": "https://localhost:8080/",
          "height": 0
        }
      },
      "outputs": [
        {
          "output_type": "stream",
          "name": "stdout",
          "text": [
            "<class 'pandas.core.frame.DataFrame'>\n",
            "Index: 891 entries, 1 to 891\n",
            "Data columns (total 11 columns):\n",
            " #   Column    Non-Null Count  Dtype  \n",
            "---  ------    --------------  -----  \n",
            " 0   Survived  891 non-null    int64  \n",
            " 1   Pclass    891 non-null    int64  \n",
            " 2   Name      891 non-null    object \n",
            " 3   Sex       891 non-null    object \n",
            " 4   Age       714 non-null    float64\n",
            " 5   SibSp     891 non-null    int64  \n",
            " 6   Parch     891 non-null    int64  \n",
            " 7   Ticket    891 non-null    object \n",
            " 8   Fare      891 non-null    float64\n",
            " 9   Cabin     204 non-null    object \n",
            " 10  Embarked  889 non-null    object \n",
            "dtypes: float64(2), int64(4), object(5)\n",
            "memory usage: 83.5+ KB\n"
          ]
        }
      ],
      "source": [
        "df.info()"
      ]
    },
    {
      "cell_type": "markdown",
      "metadata": {
        "id": "mf8_rQzoGkEZ"
      },
      "source": [
        "Get the amount of null values in percentage"
      ]
    },
    {
      "cell_type": "code",
      "execution_count": 43,
      "metadata": {
        "id": "eXA8T_0eGkEa",
        "outputId": "cb1ba472-88f9-4fe9-e986-c5d2de01613d",
        "colab": {
          "base_uri": "https://localhost:8080/",
          "height": 449
        }
      },
      "outputs": [
        {
          "output_type": "execute_result",
          "data": {
            "text/plain": [
              "Survived     0.000000\n",
              "Pclass       0.000000\n",
              "Name         0.000000\n",
              "Sex          0.000000\n",
              "Age         19.865320\n",
              "SibSp        0.000000\n",
              "Parch        0.000000\n",
              "Ticket       0.000000\n",
              "Fare         0.000000\n",
              "Cabin       77.104377\n",
              "Embarked     0.224467\n",
              "dtype: float64"
            ],
            "text/html": [
              "<div>\n",
              "<style scoped>\n",
              "    .dataframe tbody tr th:only-of-type {\n",
              "        vertical-align: middle;\n",
              "    }\n",
              "\n",
              "    .dataframe tbody tr th {\n",
              "        vertical-align: top;\n",
              "    }\n",
              "\n",
              "    .dataframe thead th {\n",
              "        text-align: right;\n",
              "    }\n",
              "</style>\n",
              "<table border=\"1\" class=\"dataframe\">\n",
              "  <thead>\n",
              "    <tr style=\"text-align: right;\">\n",
              "      <th></th>\n",
              "      <th>0</th>\n",
              "    </tr>\n",
              "  </thead>\n",
              "  <tbody>\n",
              "    <tr>\n",
              "      <th>Survived</th>\n",
              "      <td>0.000000</td>\n",
              "    </tr>\n",
              "    <tr>\n",
              "      <th>Pclass</th>\n",
              "      <td>0.000000</td>\n",
              "    </tr>\n",
              "    <tr>\n",
              "      <th>Name</th>\n",
              "      <td>0.000000</td>\n",
              "    </tr>\n",
              "    <tr>\n",
              "      <th>Sex</th>\n",
              "      <td>0.000000</td>\n",
              "    </tr>\n",
              "    <tr>\n",
              "      <th>Age</th>\n",
              "      <td>19.865320</td>\n",
              "    </tr>\n",
              "    <tr>\n",
              "      <th>SibSp</th>\n",
              "      <td>0.000000</td>\n",
              "    </tr>\n",
              "    <tr>\n",
              "      <th>Parch</th>\n",
              "      <td>0.000000</td>\n",
              "    </tr>\n",
              "    <tr>\n",
              "      <th>Ticket</th>\n",
              "      <td>0.000000</td>\n",
              "    </tr>\n",
              "    <tr>\n",
              "      <th>Fare</th>\n",
              "      <td>0.000000</td>\n",
              "    </tr>\n",
              "    <tr>\n",
              "      <th>Cabin</th>\n",
              "      <td>77.104377</td>\n",
              "    </tr>\n",
              "    <tr>\n",
              "      <th>Embarked</th>\n",
              "      <td>0.224467</td>\n",
              "    </tr>\n",
              "  </tbody>\n",
              "</table>\n",
              "</div><br><label><b>dtype:</b> float64</label>"
            ]
          },
          "metadata": {},
          "execution_count": 43
        }
      ],
      "source": [
        "df.isnull().sum() / len(df) * 100"
      ]
    },
    {
      "cell_type": "markdown",
      "metadata": {
        "id": "MarYjtuIGkEa"
      },
      "source": [
        "Look at the distributions of the features to decide with wich method we will fill the null values"
      ]
    },
    {
      "cell_type": "code",
      "execution_count": 44,
      "metadata": {
        "id": "9AKMerSRGkEb",
        "outputId": "71f3feda-ffa9-4163-eb54-6a747e176a42",
        "colab": {
          "base_uri": "https://localhost:8080/",
          "height": 468
        }
      },
      "outputs": [
        {
          "output_type": "execute_result",
          "data": {
            "text/plain": [
              "<Axes: >"
            ]
          },
          "metadata": {},
          "execution_count": 44
        },
        {
          "output_type": "display_data",
          "data": {
            "text/plain": [
              "<Figure size 640x480 with 1 Axes>"
            ],
            "image/png": "[encoded data removed]"
          },
          "metadata": {}
        }
      ],
      "source": [
        "df[\"Age\"].hist(bins=50)"
      ]
    },
    {
      "cell_type": "markdown",
      "metadata": {
        "id": "q-CrOeI2GkEb"
      },
      "source": [
        "We will use the median to fill the null values in Age"
      ]
    },
    {
      "cell_type": "code",
      "execution_count": 45,
      "metadata": {
        "id": "EuKcN6L_GkEc",
        "outputId": "5483379a-2839-48fd-b642-75498c8943f1",
        "colab": {
          "base_uri": "https://localhost:8080/",
          "height": 469
        }
      },
      "outputs": [
        {
          "output_type": "execute_result",
          "data": {
            "text/plain": [
              "<Axes: >"
            ]
          },
          "metadata": {},
          "execution_count": 45
        },
        {
          "output_type": "display_data",
          "data": {
            "text/plain": [
              "<Figure size 640x480 with 1 Axes>"
            ],
            "image/png": "[encoded data removed]"
          },
          "metadata": {}
        }
      ],
      "source": [
        "df[\"Fare\"].hist(bins=50)"
      ]
    },
    {
      "cell_type": "markdown",
      "metadata": {
        "id": "e27QWHqiGkEc"
      },
      "source": [
        "We will use the median to fill the null values in Fare"
      ]
    },
    {
      "cell_type": "code",
      "execution_count": 46,
      "metadata": {
        "id": "gzk6WK3jGkEc",
        "outputId": "ade22286-c94e-44b0-ed4c-f80ae3a68ecb",
        "colab": {
          "base_uri": "https://localhost:8080/",
          "height": 468
        }
      },
      "outputs": [
        {
          "output_type": "execute_result",
          "data": {
            "text/plain": [
              "<Axes: >"
            ]
          },
          "metadata": {},
          "execution_count": 46
        },
        {
          "output_type": "display_data",
          "data": {
            "text/plain": [
              "<Figure size 640x480 with 1 Axes>"
            ],
            "image/png": "[encoded data removed]"
          },
          "metadata": {}
        }
      ],
      "source": [
        "df[\"Embarked\"].hist(bins=50)"
      ]
    },
    {
      "cell_type": "markdown",
      "metadata": {
        "id": "tGX1FxyHGkEd"
      },
      "source": [
        "We will use mode to fill the null values in Embarked"
      ]
    },
    {
      "cell_type": "markdown",
      "source": [
        "Sabemos que hay un 77.1% de datos faltantes en la columna de 'cabin', intentamos rellenarlo usando un modelo de knn pero no tuvimos un accuracy bueno, despues decidimos probar con random forest, y despues de varios intentos más decidimos eliminar la columna de 'cabin' ya que no obtuvimos los resultados esperados para rellenar esta columna y no aportaba algo bueno a nuestros resultados por lo que lo mejor es mejor no usar la columna."
      ],
      "metadata": {
        "id": "i7SR72QZG0UA"
      }
    },
    {
      "cell_type": "markdown",
      "metadata": {
        "id": "9-86TicZGkEd"
      },
      "source": [
        "#### Feature engineering"
      ]
    },
    {
      "cell_type": "markdown",
      "metadata": {
        "id": "xuzAWvDYGkEd"
      },
      "source": [
        "We are going to do the analysis based on the idea that women and children were given priority to board the lifeboats."
      ]
    },
    {
      "cell_type": "markdown",
      "metadata": {
        "id": "HPIApWSsGkEd"
      },
      "source": [
        "We will deduce the passengers gender based on the title in their names."
      ]
    },
    {
      "cell_type": "code",
      "execution_count": 47,
      "metadata": {
        "id": "Tgxdx4lXGkEd",
        "outputId": "b3760804-2b2e-4b8c-c029-ac4b3cd4c0d5",
        "colab": {
          "base_uri": "https://localhost:8080/",
          "height": 668
        }
      },
      "outputs": [
        {
          "output_type": "execute_result",
          "data": {
            "text/plain": [
              "Title\n",
              "Mr              517\n",
              "Miss            182\n",
              "Mrs             125\n",
              "Master           40\n",
              "Dr                7\n",
              "Rev               6\n",
              "Major             2\n",
              "Col               2\n",
              "Mlle              2\n",
              "Sir               1\n",
              "Ms                1\n",
              "Capt              1\n",
              "Mme               1\n",
              "Lady              1\n",
              "Jonkheer          1\n",
              "Don               1\n",
              "the Countess      1\n",
              "Name: count, dtype: int64"
            ],
            "text/html": [
              "<div>\n",
              "<style scoped>\n",
              "    .dataframe tbody tr th:only-of-type {\n",
              "        vertical-align: middle;\n",
              "    }\n",
              "\n",
              "    .dataframe tbody tr th {\n",
              "        vertical-align: top;\n",
              "    }\n",
              "\n",
              "    .dataframe thead th {\n",
              "        text-align: right;\n",
              "    }\n",
              "</style>\n",
              "<table border=\"1\" class=\"dataframe\">\n",
              "  <thead>\n",
              "    <tr style=\"text-align: right;\">\n",
              "      <th></th>\n",
              "      <th>count</th>\n",
              "    </tr>\n",
              "    <tr>\n",
              "      <th>Title</th>\n",
              "      <th></th>\n",
              "    </tr>\n",
              "  </thead>\n",
              "  <tbody>\n",
              "    <tr>\n",
              "      <th>Mr</th>\n",
              "      <td>517</td>\n",
              "    </tr>\n",
              "    <tr>\n",
              "      <th>Miss</th>\n",
              "      <td>182</td>\n",
              "    </tr>\n",
              "    <tr>\n",
              "      <th>Mrs</th>\n",
              "      <td>125</td>\n",
              "    </tr>\n",
              "    <tr>\n",
              "      <th>Master</th>\n",
              "      <td>40</td>\n",
              "    </tr>\n",
              "    <tr>\n",
              "      <th>Dr</th>\n",
              "      <td>7</td>\n",
              "    </tr>\n",
              "    <tr>\n",
              "      <th>Rev</th>\n",
              "      <td>6</td>\n",
              "    </tr>\n",
              "    <tr>\n",
              "      <th>Major</th>\n",
              "      <td>2</td>\n",
              "    </tr>\n",
              "    <tr>\n",
              "      <th>Col</th>\n",
              "      <td>2</td>\n",
              "    </tr>\n",
              "    <tr>\n",
              "      <th>Mlle</th>\n",
              "      <td>2</td>\n",
              "    </tr>\n",
              "    <tr>\n",
              "      <th>Sir</th>\n",
              "      <td>1</td>\n",
              "    </tr>\n",
              "    <tr>\n",
              "      <th>Ms</th>\n",
              "      <td>1</td>\n",
              "    </tr>\n",
              "    <tr>\n",
              "      <th>Capt</th>\n",
              "      <td>1</td>\n",
              "    </tr>\n",
              "    <tr>\n",
              "      <th>Mme</th>\n",
              "      <td>1</td>\n",
              "    </tr>\n",
              "    <tr>\n",
              "      <th>Lady</th>\n",
              "      <td>1</td>\n",
              "    </tr>\n",
              "    <tr>\n",
              "      <th>Jonkheer</th>\n",
              "      <td>1</td>\n",
              "    </tr>\n",
              "    <tr>\n",
              "      <th>Don</th>\n",
              "      <td>1</td>\n",
              "    </tr>\n",
              "    <tr>\n",
              "      <th>the Countess</th>\n",
              "      <td>1</td>\n",
              "    </tr>\n",
              "  </tbody>\n",
              "</table>\n",
              "</div><br><label><b>dtype:</b> int64</label>"
            ]
          },
          "metadata": {},
          "execution_count": 47
        }
      ],
      "source": [
        "# Extract titles from the 'Name' column\n",
        "df['Title'] = df['Name'].apply(lambda x: x.split(\",\")[1].split(\".\")[0].strip())\n",
        "df.value_counts(\"Title\")"
      ]
    },
    {
      "cell_type": "markdown",
      "metadata": {
        "id": "vn-6yzBjGkEe"
      },
      "source": [
        "Replace titles with general categories"
      ]
    },
    {
      "cell_type": "code",
      "execution_count": 48,
      "metadata": {
        "id": "VqUnddW5GkEe",
        "outputId": "20335cae-9f45-4e46-b8b4-c4d164f9fdb0",
        "colab": {
          "base_uri": "https://localhost:8080/",
          "height": 229
        }
      },
      "outputs": [
        {
          "output_type": "execute_result",
          "data": {
            "text/plain": [
              "Title\n",
              "man      538\n",
              "woman    313\n",
              "boy       40\n",
              "Name: count, dtype: int64"
            ],
            "text/html": [
              "<div>\n",
              "<style scoped>\n",
              "    .dataframe tbody tr th:only-of-type {\n",
              "        vertical-align: middle;\n",
              "    }\n",
              "\n",
              "    .dataframe tbody tr th {\n",
              "        vertical-align: top;\n",
              "    }\n",
              "\n",
              "    .dataframe thead th {\n",
              "        text-align: right;\n",
              "    }\n",
              "</style>\n",
              "<table border=\"1\" class=\"dataframe\">\n",
              "  <thead>\n",
              "    <tr style=\"text-align: right;\">\n",
              "      <th></th>\n",
              "      <th>count</th>\n",
              "    </tr>\n",
              "    <tr>\n",
              "      <th>Title</th>\n",
              "      <th></th>\n",
              "    </tr>\n",
              "  </thead>\n",
              "  <tbody>\n",
              "    <tr>\n",
              "      <th>man</th>\n",
              "      <td>538</td>\n",
              "    </tr>\n",
              "    <tr>\n",
              "      <th>woman</th>\n",
              "      <td>313</td>\n",
              "    </tr>\n",
              "    <tr>\n",
              "      <th>boy</th>\n",
              "      <td>40</td>\n",
              "    </tr>\n",
              "  </tbody>\n",
              "</table>\n",
              "</div><br><label><b>dtype:</b> int64</label>"
            ]
          },
          "metadata": {},
          "execution_count": 48
        }
      ],
      "source": [
        "df['Title'] = df['Title'].replace({\n",
        "    \"Capt\": \"man\", \"Don\": \"man\", \"Major\": \"man\", \"Col\": \"man\",\n",
        "    \"Rev\": \"man\", \"Dr\": \"man\", \"Sir\": \"man\", \"Mr\": \"man\", \"Jonkheer\": \"man\",\n",
        "    \"Dona\": \"woman\", \"the Countess\": \"woman\", \"Mme\": \"woman\",\n",
        "    \"Mlle\": \"woman\", \"Ms\": \"woman\", \"Miss\": \"woman\", \"Lady\": \"woman\", \"Mrs\": \"woman\",\n",
        "    \"Master\": \"boy\"\n",
        "})\n",
        "df.value_counts(\"Title\")"
      ]
    },
    {
      "cell_type": "markdown",
      "metadata": {
        "id": "nvUAqfhyGkEe"
      },
      "source": [
        "We will group people by families"
      ]
    },
    {
      "cell_type": "code",
      "execution_count": 49,
      "metadata": {
        "id": "d1QbQ7IjGkEf"
      },
      "outputs": [],
      "source": [
        "# Extract surnames from the 'Name' column\n",
        "df['Surname'] = df['Name'].apply(lambda x: x.split(\",\")[0])\n",
        "\n",
        "# Group 'man' titles under 'noGroup'\n",
        "df.loc[df['Title'] == 'man', 'Surname'] = 'noGroup'\n",
        "\n",
        "# Calculate the frequency of surnames\n",
        "df['SurnameFreq'] = df.groupby('Surname')['Surname'].transform('count')\n",
        "\n",
        "# Group surnames that appear only once under 'noGroup'\n",
        "df.loc[df['SurnameFreq'] <= 1, 'Surname'] = 'noGroup'"
      ]
    },
    {
      "cell_type": "code",
      "execution_count": 50,
      "metadata": {
        "id": "WykAAsTPGkEf"
      },
      "outputs": [],
      "source": [
        "df['SurnameSurvival'] = df.groupby('Surname')['Survived'].transform('mean')"
      ]
    },
    {
      "cell_type": "markdown",
      "metadata": {
        "id": "z9tGskw5GkEf"
      },
      "source": [
        "The SurnameSurvival feature is calculated by grouping the data by Surname and taking the mean of the Survived column for each group. This gives the overall survival rate for each surname."
      ]
    },
    {
      "cell_type": "code",
      "execution_count": 51,
      "metadata": {
        "id": "jXesMThuGkEf"
      },
      "outputs": [],
      "source": [
        "df['AdjustedSurvival'] = (df['SurnameSurvival'] * df['SurnameFreq'] - df['Survived']) / (df['SurnameFreq'] - 1)"
      ]
    },
    {
      "cell_type": "markdown",
      "metadata": {
        "id": "YA0LqJL1GkEf"
      },
      "source": [
        "AdjustedSurvival adjusts the SurnameSurvival rate to provide a better estimate of the survival rate for each passenger, taking into account the number of people with the same surname (SurnameFreq) and the actual survival of the individual passenger (Survived)."
      ]
    },
    {
      "cell_type": "markdown",
      "metadata": {
        "id": "2yBQfNxCGkEg"
      },
      "source": [
        "This feature is intended to provide a more reliable estimate of the survival probability for each passenger based on their surname."
      ]
    },
    {
      "cell_type": "markdown",
      "metadata": {
        "id": "y8UIBv3RGkEg"
      },
      "source": [
        "#### Data Preprocessing Function"
      ]
    },
    {
      "cell_type": "code",
      "execution_count": 52,
      "metadata": {
        "id": "ofRZLJZ7GkEg"
      },
      "outputs": [],
      "source": [
        "def preprocess_data(data):\n",
        "\n",
        "    # Extract titles from the 'Name' column\n",
        "    data['Title'] = data['Name'].apply(lambda x: x.split(\",\")[1].split(\".\")[0].strip())\n",
        "\n",
        "    # Replace titles with general categories\n",
        "    data['Title'] = data['Title'].replace({\n",
        "        \"Capt\": \"man\", \"Don\": \"man\", \"Major\": \"man\", \"Col\": \"man\",\n",
        "        \"Rev\": \"man\", \"Dr\": \"man\", \"Sir\": \"man\", \"Mr\": \"man\", \"Jonkheer\": \"man\",\n",
        "        \"Dona\": \"woman\", \"the Countess\": \"woman\", \"Mme\": \"woman\",\n",
        "        \"Mlle\": \"woman\", \"Ms\": \"woman\", \"Miss\": \"woman\", \"Lady\": \"woman\", \"Mrs\": \"woman\",\n",
        "        \"Master\": \"boy\"\n",
        "    })\n",
        "\n",
        "    # Extract surnames from the 'Name' column\n",
        "    data['Surname'] = data['Name'].apply(lambda x: x.split(\",\")[0])\n",
        "\n",
        "    # Group 'man' titles under 'noGroup'\n",
        "    data.loc[data['Title'] == 'man', 'Surname'] = 'noGroup'\n",
        "\n",
        "    # Calculate the frequency of surnames\n",
        "    data['SurnameFreq'] = data.groupby('Surname')['Surname'].transform('count')\n",
        "\n",
        "    # Group surnames that appear only once under 'noGroup'\n",
        "    data.loc[data['SurnameFreq'] <= 1, 'Surname'] = 'noGroup'\n",
        "\n",
        "    # Calculate the survival rates for 'woman-child-groups'\n",
        "    data['SurnameSurvival'] = data.groupby('Surname')['Survived'].transform('mean')\n",
        "\n",
        "    # Adjust survival rates for use on the training set\n",
        "    data['AdjustedSurvival'] = (data['SurnameSurvival'] * data['SurnameFreq'] - data['Survived']) / (data['SurnameFreq'] - 1)\n",
        "\n",
        "    # if the adjust survival rate is -inf or inf\n",
        "    data['AdjustedSurvival'] = data['AdjustedSurvival'].replace(np.inf, 1) # this means that all the people with the same surname survived\n",
        "    data['AdjustedSurvival'] = data['AdjustedSurvival'].replace(-np.inf, 0) # this means that all the people with the same surname died\n",
        "\n",
        "    data.drop(['Name', 'Ticket', 'Cabin', 'Surname', 'SurnameFreq', 'Title'], axis=1, inplace=True)\n",
        "\n",
        "    data['Age'].fillna(data['Age'].median(), inplace=True)\n",
        "    data['Embarked'].fillna(data['Embarked'].mode()[0], inplace=True)\n",
        "    data['Fare'].fillna(data['Fare'].median(), inplace=True)\n",
        "    data['Sex'] = data['Sex'].map({'female': 1, 'male': 0})\n",
        "    data = pd.get_dummies(data, columns=['Embarked'])\n",
        "\n",
        "    return data"
      ]
    },
    {
      "cell_type": "markdown",
      "metadata": {
        "id": "PVAG-YMLGkEg"
      },
      "source": [
        "### Prepare the Data"
      ]
    },
    {
      "cell_type": "code",
      "execution_count": 53,
      "metadata": {
        "id": "rjZe67TnGkEg",
        "outputId": "1005357d-837e-4179-fb62-b1bda9a692a4",
        "colab": {
          "base_uri": "https://localhost:8080/",
          "height": 0
        }
      },
      "outputs": [
        {
          "output_type": "execute_result",
          "data": {
            "text/plain": [
              "(891, 891)"
            ]
          },
          "metadata": {},
          "execution_count": 53
        }
      ],
      "source": [
        "train = pd.read_csv(\"train.csv\", index_col=0)\n",
        "train = preprocess_data(train)\n",
        "\n",
        "y_train = train['Survived']\n",
        "X_train = train.drop('Survived', axis=1)\n",
        "\n",
        "len(X_train), len(y_train)"
      ]
    },
    {
      "cell_type": "code",
      "execution_count": 54,
      "metadata": {
        "id": "4zmT0xvuGkEh",
        "colab": {
          "base_uri": "https://localhost:8080/",
          "height": 0
        },
        "outputId": "495770f7-00b2-44bb-db46-9ac5731bc8dc"
      },
      "outputs": [
        {
          "output_type": "execute_result",
          "data": {
            "text/plain": [
              "(418, 418)"
            ]
          },
          "metadata": {},
          "execution_count": 54
        }
      ],
      "source": [
        "test = pd.read_csv('test_with_survived.csv', index_col=0)\n",
        "test = preprocess_data(test)\n",
        "\n",
        "y_test = test['Survived']\n",
        "X_test = test.drop([\"Survived\"], axis=1)\n",
        "\n",
        "len(X_test), len(y_test)"
      ]
    },
    {
      "cell_type": "markdown",
      "metadata": {
        "id": "V-SAev0zGkEi"
      },
      "source": [
        "### Model"
      ]
    },
    {
      "cell_type": "markdown",
      "metadata": {
        "id": "L9e4i0obGkEi"
      },
      "source": [
        "We will use catboost, therefore we need to indicate the categorical features."
      ]
    },
    {
      "cell_type": "code",
      "execution_count": 55,
      "metadata": {
        "id": "FlYmauxpGkEi",
        "colab": {
          "base_uri": "https://localhost:8080/",
          "height": 0
        },
        "outputId": "06d534a7-5b77-4044-a07f-387328b0cfea"
      },
      "outputs": [
        {
          "output_type": "execute_result",
          "data": {
            "text/plain": [
              "array([ 0,  1,  3,  4,  8,  9, 10])"
            ]
          },
          "metadata": {},
          "execution_count": 55
        }
      ],
      "source": [
        "cat_features = np.where(X_train.dtypes != float)[0]\n",
        "cat_features"
      ]
    },
    {
      "cell_type": "markdown",
      "metadata": {
        "id": "VCq-jQh0GkEi"
      },
      "source": [
        "Create the Model"
      ]
    },
    {
      "cell_type": "code",
      "execution_count": 56,
      "metadata": {
        "id": "tswuBmc3GkEj",
        "colab": {
          "base_uri": "https://localhost:8080/",
          "height": 0
        },
        "outputId": "82b345ac-0aeb-4549-87a2-57193f9c7f48"
      },
      "outputs": [
        {
          "output_type": "execute_result",
          "data": {
            "text/plain": [
              "0.8947368421052632"
            ]
          },
          "metadata": {},
          "execution_count": 56
        }
      ],
      "source": [
        "# fit the model\n",
        "model = CatBoostClassifier(loss_function='Logloss', eval_metric='Accuracy', verbose=False, use_best_model=True, random_seed=42, cat_features=cat_features)\n",
        "model.fit(X_train, y_train, eval_set=(X_test, y_test))\n",
        "\n",
        "# make predictions\n",
        "y_pred = model.predict(X_test)\n",
        "\n",
        "# evaluate predictions\n",
        "accuracy = accuracy_score(y_test, y_pred)\n",
        "accuracy # 0.8947368421052632"
      ]
    },
    {
      "cell_type": "code",
      "execution_count": 57,
      "metadata": {
        "id": "h4xDCB2RGkEj",
        "colab": {
          "base_uri": "https://localhost:8080/",
          "height": 0
        },
        "outputId": "404303c8-fa49-4401-c0a4-fc59683f2ddd"
      },
      "outputs": [
        {
          "output_type": "stream",
          "name": "stdout",
          "text": [
            "              precision    recall  f1-score   support\n",
            "\n",
            "           0       0.86      1.00      0.92       260\n",
            "           1       1.00      0.72      0.84       158\n",
            "\n",
            "    accuracy                           0.89       418\n",
            "   macro avg       0.93      0.86      0.88       418\n",
            "weighted avg       0.91      0.89      0.89       418\n",
            "\n"
          ]
        }
      ],
      "source": [
        "print(classification_report(y_test, y_pred))"
      ]
    },
    {
      "cell_type": "code",
      "execution_count": 58,
      "metadata": {
        "id": "oqLYRSc2GkEp",
        "colab": {
          "base_uri": "https://localhost:8080/",
          "height": 430
        },
        "outputId": "e4c34860-1c89-4b31-c829-64ffe9f5f1d6"
      },
      "outputs": [
        {
          "output_type": "display_data",
          "data": {
            "text/plain": [
              "<Figure size 400x400 with 2 Axes>"
            ],
            "image/png": "[encoded data removed]"
          },
          "metadata": {}
        }
      ],
      "source": [
        "plt.figure(figsize = (4,4))\n",
        "cm = sns.heatmap(confusion_matrix(y_test, y_pred), fmt='g', annot=True)\n",
        "cm.set(title='Confusion Matrix')\n",
        "cm.set(xlabel='Predicted', ylabel='Actual')\n",
        "plt.show()"
      ]
    },
    {
      "cell_type": "code",
      "execution_count": 59,
      "metadata": {
        "id": "Wh2ST6W7GkEq",
        "colab": {
          "base_uri": "https://localhost:8080/",
          "height": 414
        },
        "outputId": "bb6648bb-ee39-4d3b-c31e-fc9813d324bf"
      },
      "outputs": [
        {
          "output_type": "execute_result",
          "data": {
            "text/plain": [
              "          Feature Id  Importances\n",
              "0   AdjustedSurvival    65.674739\n",
              "1    SurnameSurvival    33.395220\n",
              "2                Sex     0.930041\n",
              "3             Pclass     0.000000\n",
              "4                Age     0.000000\n",
              "5              SibSp     0.000000\n",
              "6              Parch     0.000000\n",
              "7               Fare     0.000000\n",
              "8         Embarked_C     0.000000\n",
              "9         Embarked_Q     0.000000\n",
              "10        Embarked_S     0.000000"
            ],
            "text/html": [
              "\n",
              "  <div id=\"df-4e171057-2471-40ff-91ca-3798747e5158\" class=\"colab-df-container\">\n",
              "    <div>\n",
              "<style scoped>\n",
              "    .dataframe tbody tr th:only-of-type {\n",
              "        vertical-align: middle;\n",
              "    }\n",
              "\n",
              "    .dataframe tbody tr th {\n",
              "        vertical-align: top;\n",
              "    }\n",
              "\n",
              "    .dataframe thead th {\n",
              "        text-align: right;\n",
              "    }\n",
              "</style>\n",
              "<table border=\"1\" class=\"dataframe\">\n",
              "  <thead>\n",
              "    <tr style=\"text-align: right;\">\n",
              "      <th></th>\n",
              "      <th>Feature Id</th>\n",
              "      <th>Importances</th>\n",
              "    </tr>\n",
              "  </thead>\n",
              "  <tbody>\n",
              "    <tr>\n",
              "      <th>0</th>\n",
              "      <td>AdjustedSurvival</td>\n",
              "      <td>65.674739</td>\n",
              "    </tr>\n",
              "    <tr>\n",
              "      <th>1</th>\n",
              "      <td>SurnameSurvival</td>\n",
              "      <td>33.395220</td>\n",
              "    </tr>\n",
              "    <tr>\n",
              "      <th>2</th>\n",
              "      <td>Sex</td>\n",
              "      <td>0.930041</td>\n",
              "    </tr>\n",
              "    <tr>\n",
              "      <th>3</th>\n",
              "      <td>Pclass</td>\n",
              "      <td>0.000000</td>\n",
              "    </tr>\n",
              "    <tr>\n",
              "      <th>4</th>\n",
              "      <td>Age</td>\n",
              "      <td>0.000000</td>\n",
              "    </tr>\n",
              "    <tr>\n",
              "      <th>5</th>\n",
              "      <td>SibSp</td>\n",
              "      <td>0.000000</td>\n",
              "    </tr>\n",
              "    <tr>\n",
              "      <th>6</th>\n",
              "      <td>Parch</td>\n",
              "      <td>0.000000</td>\n",
              "    </tr>\n",
              "    <tr>\n",
              "      <th>7</th>\n",
              "      <td>Fare</td>\n",
              "      <td>0.000000</td>\n",
              "    </tr>\n",
              "    <tr>\n",
              "      <th>8</th>\n",
              "      <td>Embarked_C</td>\n",
              "      <td>0.000000</td>\n",
              "    </tr>\n",
              "    <tr>\n",
              "      <th>9</th>\n",
              "      <td>Embarked_Q</td>\n",
              "      <td>0.000000</td>\n",
              "    </tr>\n",
              "    <tr>\n",
              "      <th>10</th>\n",
              "      <td>Embarked_S</td>\n",
              "      <td>0.000000</td>\n",
              "    </tr>\n",
              "  </tbody>\n",
              "</table>\n",
              "</div>\n",
              "    <div class=\"colab-df-buttons\">\n",
              "\n",
              "  <div class=\"colab-df-container\">\n",
              "    <button class=\"colab-df-convert\" onclick=\"convertToInteractive('df-4e171057-2471-40ff-91ca-3798747e5158')\"\n",
              "            title=\"Convert this dataframe to an interactive table.\"\n",
              "            style=\"display:none;\">\n",
              "\n",
              "  <svg xmlns=\"http://www.w3.org/2000/svg\" height=\"24px\" viewBox=\"0 -960 960 960\">\n",
              "    <path d=\"M120-120v-720h720v720H120Zm60-500h600v-160H180v160Zm220 220h160v-160H400v160Zm0 220h160v-160H400v160ZM180-400h160v-160H180v160Zm440 0h160v-160H620v160ZM180-180h160v-160H180v160Zm440 0h160v-160H620v160Z\"/>\n",
              "  </svg>\n",
              "    </button>\n",
              "\n",
              "  <style>\n",
              "    .colab-df-container {\n",
              "      display:flex;\n",
              "      gap: 12px;\n",
              "    }\n",
              "\n",
              "    .colab-df-convert {\n",
              "      background-color: #E8F0FE;\n",
              "      border: none;\n",
              "      border-radius: 50%;\n",
              "      cursor: pointer;\n",
              "      display: none;\n",
              "      fill: #1967D2;\n",
              "      height: 32px;\n",
              "      padding: 0 0 0 0;\n",
              "      width: 32px;\n",
              "    }\n",
              "\n",
              "    .colab-df-convert:hover {\n",
              "      background-color: #E2EBFA;\n",
              "      box-shadow: 0px 1px 2px rgba(60, 64, 67, 0.3), 0px 1px 3px 1px rgba(60, 64, 67, 0.15);\n",
              "      fill: #174EA6;\n",
              "    }\n",
              "\n",
              "    .colab-df-buttons div {\n",
              "      margin-bottom: 4px;\n",
              "    }\n",
              "\n",
              "    [theme=dark] .colab-df-convert {\n",
              "      background-color: #3B4455;\n",
              "      fill: #D2E3FC;\n",
              "    }\n",
              "\n",
              "    [theme=dark] .colab-df-convert:hover {\n",
              "      background-color: #434B5C;\n",
              "      box-shadow: 0px 1px 3px 1px rgba(0, 0, 0, 0.15);\n",
              "      filter: drop-shadow(0px 1px 2px rgba(0, 0, 0, 0.3));\n",
              "      fill: #FFFFFF;\n",
              "    }\n",
              "  </style>\n",
              "\n",
              "    <script>\n",
              "      const buttonEl =\n",
              "        document.querySelector('#df-4e171057-2471-40ff-91ca-3798747e5158 button.colab-df-convert');\n",
              "      buttonEl.style.display =\n",
              "        google.colab.kernel.accessAllowed ? 'block' : 'none';\n",
              "\n",
              "      async function convertToInteractive(key) {\n",
              "        const element = document.querySelector('#df-4e171057-2471-40ff-91ca-3798747e5158');\n",
              "        const dataTable =\n",
              "          await google.colab.kernel.invokeFunction('convertToInteractive',\n",
              "                                                    [key], {});\n",
              "        if (!dataTable) return;\n",
              "\n",
              "        const docLinkHtml = 'Like what you see? Visit the ' +\n",
              "          '<a target=\"_blank\" href=https://colab.research.google.com/notebooks/data_table.ipynb>data table notebook</a>'\n",
              "          + ' to learn more about interactive tables.';\n",
              "        element.innerHTML = '';\n",
              "        dataTable['output_type'] = 'display_data';\n",
              "        await google.colab.output.renderOutput(dataTable, element);\n",
              "        const docLink = document.createElement('div');\n",
              "        docLink.innerHTML = docLinkHtml;\n",
              "        element.appendChild(docLink);\n",
              "      }\n",
              "    </script>\n",
              "  </div>\n",
              "\n",
              "\n",
              "<div id=\"df-e7aef170-c8da-4e90-8eb9-d9a5f7b6895d\">\n",
              "  <button class=\"colab-df-quickchart\" onclick=\"quickchart('df-e7aef170-c8da-4e90-8eb9-d9a5f7b6895d')\"\n",
              "            title=\"Suggest charts\"\n",
              "            style=\"display:none;\">\n",
              "\n",
              "<svg xmlns=\"http://www.w3.org/2000/svg\" height=\"24px\"viewBox=\"0 0 24 24\"\n",
              "     width=\"24px\">\n",
              "    <g>\n",
              "        <path d=\"M19 3H5c-1.1 0-2 .9-2 2v14c0 1.1.9 2 2 2h14c1.1 0 2-.9 2-2V5c0-1.1-.9-2-2-2zM9 17H7v-7h2v7zm4 0h-2V7h2v10zm4 0h-2v-4h2v4z\"/>\n",
              "    </g>\n",
              "</svg>\n",
              "  </button>\n",
              "\n",
              "<style>\n",
              "  .colab-df-quickchart {\n",
              "      --bg-color: #E8F0FE;\n",
              "      --fill-color: #1967D2;\n",
              "      --hover-bg-color: #E2EBFA;\n",
              "      --hover-fill-color: #174EA6;\n",
              "      --disabled-fill-color: #AAA;\n",
              "      --disabled-bg-color: #DDD;\n",
              "  }\n",
              "\n",
              "  [theme=dark] .colab-df-quickchart {\n",
              "      --bg-color: #3B4455;\n",
              "      --fill-color: #D2E3FC;\n",
              "      --hover-bg-color: #434B5C;\n",
              "      --hover-fill-color: #FFFFFF;\n",
              "      --disabled-bg-color: #3B4455;\n",
              "      --disabled-fill-color: #666;\n",
              "  }\n",
              "\n",
              "  .colab-df-quickchart {\n",
              "    background-color: var(--bg-color);\n",
              "    border: none;\n",
              "    border-radius: 50%;\n",
              "    cursor: pointer;\n",
              "    display: none;\n",
              "    fill: var(--fill-color);\n",
              "    height: 32px;\n",
              "    padding: 0;\n",
              "    width: 32px;\n",
              "  }\n",
              "\n",
              "  .colab-df-quickchart:hover {\n",
              "    background-color: var(--hover-bg-color);\n",
              "    box-shadow: 0 1px 2px rgba(60, 64, 67, 0.3), 0 1px 3px 1px rgba(60, 64, 67, 0.15);\n",
              "    fill: var(--button-hover-fill-color);\n",
              "  }\n",
              "\n",
              "  .colab-df-quickchart-complete:disabled,\n",
              "  .colab-df-quickchart-complete:disabled:hover {\n",
              "    background-color: var(--disabled-bg-color);\n",
              "    fill: var(--disabled-fill-color);\n",
              "    box-shadow: none;\n",
              "  }\n",
              "\n",
              "  .colab-df-spinner {\n",
              "    border: 2px solid var(--fill-color);\n",
              "    border-color: transparent;\n",
              "    border-bottom-color: var(--fill-color);\n",
              "    animation:\n",
              "      spin 1s steps(1) infinite;\n",
              "  }\n",
              "\n",
              "  @keyframes spin {\n",
              "    0% {\n",
              "      border-color: transparent;\n",
              "      border-bottom-color: var(--fill-color);\n",
              "      border-left-color: var(--fill-color);\n",
              "    }\n",
              "    20% {\n",
              "      border-color: transparent;\n",
              "      border-left-color: var(--fill-color);\n",
              "      border-top-color: var(--fill-color);\n",
              "    }\n",
              "    30% {\n",
              "      border-color: transparent;\n",
              "      border-left-color: var(--fill-color);\n",
              "      border-top-color: var(--fill-color);\n",
              "      border-right-color: var(--fill-color);\n",
              "    }\n",
              "    40% {\n",
              "      border-color: transparent;\n",
              "      border-right-color: var(--fill-color);\n",
              "      border-top-color: var(--fill-color);\n",
              "    }\n",
              "    60% {\n",
              "      border-color: transparent;\n",
              "      border-right-color: var(--fill-color);\n",
              "    }\n",
              "    80% {\n",
              "      border-color: transparent;\n",
              "      border-right-color: var(--fill-color);\n",
              "      border-bottom-color: var(--fill-color);\n",
              "    }\n",
              "    90% {\n",
              "      border-color: transparent;\n",
              "      border-bottom-color: var(--fill-color);\n",
              "    }\n",
              "  }\n",
              "</style>\n",
              "\n",
              "  <script>\n",
              "    async function quickchart(key) {\n",
              "      const quickchartButtonEl =\n",
              "        document.querySelector('#' + key + ' button');\n",
              "      quickchartButtonEl.disabled = true;  // To prevent multiple clicks.\n",
              "      quickchartButtonEl.classList.add('colab-df-spinner');\n",
              "      try {\n",
              "        const charts = await google.colab.kernel.invokeFunction(\n",
              "            'suggestCharts', [key], {});\n",
              "      } catch (error) {\n",
              "        console.error('Error during call to suggestCharts:', error);\n",
              "      }\n",
              "      quickchartButtonEl.classList.remove('colab-df-spinner');\n",
              "      quickchartButtonEl.classList.add('colab-df-quickchart-complete');\n",
              "    }\n",
              "    (() => {\n",
              "      let quickchartButtonEl =\n",
              "        document.querySelector('#df-e7aef170-c8da-4e90-8eb9-d9a5f7b6895d button');\n",
              "      quickchartButtonEl.style.display =\n",
              "        google.colab.kernel.accessAllowed ? 'block' : 'none';\n",
              "    })();\n",
              "  </script>\n",
              "</div>\n",
              "\n",
              "  <div id=\"id_ef1558cf-ff31-4e3d-a643-90c3dcda39aa\">\n",
              "    <style>\n",
              "      .colab-df-generate {\n",
              "        background-color: #E8F0FE;\n",
              "        border: none;\n",
              "        border-radius: 50%;\n",
              "        cursor: pointer;\n",
              "        display: none;\n",
              "        fill: #1967D2;\n",
              "        height: 32px;\n",
              "        padding: 0 0 0 0;\n",
              "        width: 32px;\n",
              "      }\n",
              "\n",
              "      .colab-df-generate:hover {\n",
              "        background-color: #E2EBFA;\n",
              "        box-shadow: 0px 1px 2px rgba(60, 64, 67, 0.3), 0px 1px 3px 1px rgba(60, 64, 67, 0.15);\n",
              "        fill: #174EA6;\n",
              "      }\n",
              "\n",
              "      [theme=dark] .colab-df-generate {\n",
              "        background-color: #3B4455;\n",
              "        fill: #D2E3FC;\n",
              "      }\n",
              "\n",
              "      [theme=dark] .colab-df-generate:hover {\n",
              "        background-color: #434B5C;\n",
              "        box-shadow: 0px 1px 3px 1px rgba(0, 0, 0, 0.15);\n",
              "        filter: drop-shadow(0px 1px 2px rgba(0, 0, 0, 0.3));\n",
              "        fill: #FFFFFF;\n",
              "      }\n",
              "    </style>\n",
              "    <button class=\"colab-df-generate\" onclick=\"generateWithVariable('feature_importance')\"\n",
              "            title=\"Generate code using this dataframe.\"\n",
              "            style=\"display:none;\">\n",
              "\n",
              "  <svg xmlns=\"http://www.w3.org/2000/svg\" height=\"24px\"viewBox=\"0 0 24 24\"\n",
              "       width=\"24px\">\n",
              "    <path d=\"M7,19H8.4L18.45,9,17,7.55,7,17.6ZM5,21V16.75L18.45,3.32a2,2,0,0,1,2.83,0l1.4,1.43a1.91,1.91,0,0,1,.58,1.4,1.91,1.91,0,0,1-.58,1.4L9.25,21ZM18.45,9,17,7.55Zm-12,3A5.31,5.31,0,0,0,4.9,8.1,5.31,5.31,0,0,0,1,6.5,5.31,5.31,0,0,0,4.9,4.9,5.31,5.31,0,0,0,6.5,1,5.31,5.31,0,0,0,8.1,4.9,5.31,5.31,0,0,0,12,6.5,5.46,5.46,0,0,0,6.5,12Z\"/>\n",
              "  </svg>\n",
              "    </button>\n",
              "    <script>\n",
              "      (() => {\n",
              "      const buttonEl =\n",
              "        document.querySelector('#id_ef1558cf-ff31-4e3d-a643-90c3dcda39aa button.colab-df-generate');\n",
              "      buttonEl.style.display =\n",
              "        google.colab.kernel.accessAllowed ? 'block' : 'none';\n",
              "\n",
              "      buttonEl.onclick = () => {\n",
              "        google.colab.notebook.generateWithVariable('feature_importance');\n",
              "      }\n",
              "      })();\n",
              "    </script>\n",
              "  </div>\n",
              "\n",
              "    </div>\n",
              "  </div>\n"
            ],
            "application/vnd.google.colaboratory.intrinsic+json": {
              "type": "dataframe",
              "variable_name": "feature_importance",
              "summary": "{\n  \"name\": \"feature_importance\",\n  \"rows\": 11,\n  \"fields\": [\n    {\n      \"column\": \"Feature Id\",\n      \"properties\": {\n        \"dtype\": \"string\",\n        \"num_unique_values\": 11,\n        \"samples\": [\n          \"SibSp\",\n          \"AdjustedSurvival\",\n          \"Embarked_Q\"\n        ],\n        \"semantic_type\": \"\",\n        \"description\": \"\"\n      }\n    },\n    {\n      \"column\": \"Importances\",\n      \"properties\": {\n        \"dtype\": \"number\",\n        \"std\": 21.26072938719152,\n        \"min\": 0.0,\n        \"max\": 65.67473893517017,\n        \"num_unique_values\": 4,\n        \"samples\": [\n          33.39522031435796,\n          0.0,\n          65.67473893517017\n        ],\n        \"semantic_type\": \"\",\n        \"description\": \"\"\n      }\n    }\n  ]\n}"
            }
          },
          "metadata": {},
          "execution_count": 59
        }
      ],
      "source": [
        "# get the feature importance\n",
        "feature_importance = model.get_feature_importance(prettified=True)\n",
        "feature_importance"
      ]
    },
    {
      "cell_type": "markdown",
      "metadata": {
        "id": "zsG5h-e_GkEq"
      },
      "source": [
        "Hyperparameter Tuning"
      ]
    },
    {
      "cell_type": "markdown",
      "metadata": {
        "id": "DfwyWN1cGkEq"
      },
      "source": [
        "We are going to find the best parameters for the model using GridSearchCV. Also, we are going to use Cross Validation to avoid overfitting."
      ]
    },
    {
      "cell_type": "code",
      "execution_count": 60,
      "metadata": {
        "id": "F4imyrmJGkEq",
        "colab": {
          "base_uri": "https://localhost:8080/",
          "height": 147
        },
        "outputId": "2a1c9aed-c0a9-439f-831f-6b435b941e69"
      },
      "outputs": [
        {
          "output_type": "execute_result",
          "data": {
            "text/plain": [
              "\"\\ncat_for_search = CatBoostClassifier(loss_function='Logloss',\\n                                    eval_metric='Accuracy',\\n                                    verbose=False,\\n                                    random_state=42)\\n\\nparams = {\\n    'depth': [4, 6, 8, 10],\\n    'learning_rate': [0.01, 0.05, 0.1, 0.2],\\n    'iterations': [100, 200, 300, 500],\\n    'l2_leaf_reg': [1, 3, 5, 7],\\n}\\n\\ngrid = cat_for_search.grid_search(params, Pool(X_train, y_train, cat_features=cat_features), shuffle=True, cv=5, verbose=False,  plot=False)\\n\\nbest_model = CatBoostClassifier(depth=grid['params']['depth'],\\n                                loss_function='Logloss',\\n                                eval_metric='Accuracy',\\n                                use_best_model=True,\\n                                random_seed=42,\\n                                verbose=False)\\n\\nbest_model.fit(X_train, y_train, cat_features=cat_features, eval_set = (X_test, y_test))\\n\\naccuracy_score(y_test, best_model.predict(X_test))\\n\""
            ],
            "application/vnd.google.colaboratory.intrinsic+json": {
              "type": "string"
            }
          },
          "metadata": {},
          "execution_count": 60
        }
      ],
      "source": [
        "'''\n",
        "cat_for_search = CatBoostClassifier(loss_function='Logloss',\n",
        "                                    eval_metric='Accuracy',\n",
        "                                    verbose=False,\n",
        "                                    random_state=42)\n",
        "\n",
        "params = {\n",
        "    'depth': [4, 6, 8, 10],\n",
        "    'learning_rate': [0.01, 0.05, 0.1, 0.2],\n",
        "    'iterations': [100, 200, 300, 500],\n",
        "    'l2_leaf_reg': [1, 3, 5, 7],\n",
        "}\n",
        "\n",
        "grid = cat_for_search.grid_search(params, Pool(X_train, y_train, cat_features=cat_features), shuffle=True, cv=5, verbose=False,  plot=False)\n",
        "\n",
        "best_model = CatBoostClassifier(depth=grid['params']['depth'],\n",
        "                                loss_function='Logloss',\n",
        "                                eval_metric='Accuracy',\n",
        "                                use_best_model=True,\n",
        "                                random_seed=42,\n",
        "                                verbose=False)\n",
        "\n",
        "best_model.fit(X_train, y_train, cat_features=cat_features, eval_set = (X_test, y_test))\n",
        "\n",
        "accuracy_score(y_test, best_model.predict(X_test))\n",
        "'''"
      ]
    }
  ],
  "metadata": {
    "kernelspec": {
      "display_name": "Python 3",
      "language": "python",
      "name": "python3"
    },
    "language_info": {
      "codemirror_mode": {
        "name": "ipython",
        "version": 3
      },
      "file_extension": ".py",
      "mimetype": "text/x-python",
      "name": "python",
      "nbconvert_exporter": "python",
      "pygments_lexer": "ipython3",
      "version": "3.10.11"
    },
    "colab": {
      "provenance": []
    }
  },
  "nbformat": 4,
  "nbformat_minor": 0
}