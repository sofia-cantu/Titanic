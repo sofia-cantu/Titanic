{
  "cells": [
    {
      "cell_type": "markdown",
      "id": "1079c827-6413-41ec-84ba-850564dadd85",
      "metadata": {
        "id": "1079c827-6413-41ec-84ba-850564dadd85"
      },
      "source": [
        "# Tutorial MySQL, Pandas, Regresión logística con statsmodels"
      ]
    },
    {
      "cell_type": "markdown",
      "id": "8fde1e86-f8cb-439e-bf6a-56633ee16284",
      "metadata": {
        "id": "8fde1e86-f8cb-439e-bf6a-56633ee16284"
      },
      "source": [
        "## Instalación e importación de bibliotecas necesarias para trabajar"
      ]
    },
    {
      "cell_type": "code",
      "execution_count": 1,
      "id": "23f3d7aa-9dbe-432f-8ded-924615d4a8a0",
      "metadata": {
        "id": "23f3d7aa-9dbe-432f-8ded-924615d4a8a0"
      },
      "outputs": [],
      "source": [
        "#Biblioteca de machine learning con herramientas útiles\n",
        "#!pip install scikit-learn\n",
        "import sklearn"
      ]
    },
    {
      "cell_type": "code",
      "execution_count": 2,
      "id": "39498409-a497-411c-ad58-8f44e65600b8",
      "metadata": {
        "id": "39498409-a497-411c-ad58-8f44e65600b8"
      },
      "outputs": [
        {
          "name": "stdout",
          "output_type": "stream",
          "text": [
            "Requirement already satisfied: pip in /Library/Frameworks/Python.framework/Versions/3.12/lib/python3.12/site-packages (24.0)\n",
            "Collecting pip\n",
            "  Downloading pip-24.2-py3-none-any.whl.metadata (3.6 kB)\n",
            "Downloading pip-24.2-py3-none-any.whl (1.8 MB)\n",
            "\u001b[2K   \u001b[90m━━━━━━━━━━━━━━━━━━━━━━━━━━━━━━━━━━━━━━━━\u001b[0m \u001b[32m1.8/1.8 MB\u001b[0m \u001b[31m5.1 MB/s\u001b[0m eta \u001b[36m0:00:00\u001b[0ma \u001b[36m0:00:01\u001b[0m0m\n",
            "\u001b[?25hInstalling collected packages: pip\n",
            "  Attempting uninstall: pip\n",
            "    Found existing installation: pip 24.0\n",
            "    Uninstalling pip-24.0:\n",
            "      Successfully uninstalled pip-24.0\n",
            "Successfully installed pip-24.2\n"
          ]
        }
      ],
      "source": [
        "#Actualización de pip si es necesaria\n",
        "!pip install --upgrade pip"
      ]
    },
    {
      "cell_type": "code",
      "execution_count": 3,
      "id": "9ce691a7-c290-430d-ae26-fc511b87110c",
      "metadata": {
        "id": "9ce691a7-c290-430d-ae26-fc511b87110c"
      },
      "outputs": [
        {
          "name": "stdout",
          "output_type": "stream",
          "text": [
            "Collecting mysql\n",
            "  Downloading mysql-0.0.3-py3-none-any.whl.metadata (746 bytes)\n",
            "Collecting mysqlclient (from mysql)\n",
            "  Downloading mysqlclient-2.2.4.tar.gz (90 kB)\n",
            "  Installing build dependencies ... \u001b[?25ldone\n",
            "\u001b[?25h  Getting requirements to build wheel ... \u001b[?25lerror\n",
            "  \u001b[1;31merror\u001b[0m: \u001b[1msubprocess-exited-with-error\u001b[0m\n",
            "  \n",
            "  \u001b[31m×\u001b[0m \u001b[32mGetting requirements to build wheel\u001b[0m did not run successfully.\n",
            "  \u001b[31m│\u001b[0m exit code: \u001b[1;36m1\u001b[0m\n",
            "  \u001b[31m╰─>\u001b[0m \u001b[31m[30 lines of output]\u001b[0m\n",
            "  \u001b[31m   \u001b[0m Trying pkg-config --exists mysqlclient\n",
            "  \u001b[31m   \u001b[0m /bin/sh: pkg-config: command not found\n",
            "  \u001b[31m   \u001b[0m Command 'pkg-config --exists mysqlclient' returned non-zero exit status 127.\n",
            "  \u001b[31m   \u001b[0m Trying pkg-config --exists mariadb\n",
            "  \u001b[31m   \u001b[0m /bin/sh: pkg-config: command not found\n",
            "  \u001b[31m   \u001b[0m Command 'pkg-config --exists mariadb' returned non-zero exit status 127.\n",
            "  \u001b[31m   \u001b[0m Trying pkg-config --exists libmariadb\n",
            "  \u001b[31m   \u001b[0m /bin/sh: pkg-config: command not found\n",
            "  \u001b[31m   \u001b[0m Command 'pkg-config --exists libmariadb' returned non-zero exit status 127.\n",
            "  \u001b[31m   \u001b[0m Traceback (most recent call last):\n",
            "  \u001b[31m   \u001b[0m   File \"/Library/Frameworks/Python.framework/Versions/3.12/lib/python3.12/site-packages/pip/_vendor/pyproject_hooks/_in_process/_in_process.py\", line 353, in <module>\n",
            "  \u001b[31m   \u001b[0m     main()\n",
            "  \u001b[31m   \u001b[0m   File \"/Library/Frameworks/Python.framework/Versions/3.12/lib/python3.12/site-packages/pip/_vendor/pyproject_hooks/_in_process/_in_process.py\", line 335, in main\n",
            "  \u001b[31m   \u001b[0m     json_out['return_val'] = hook(**hook_input['kwargs'])\n",
            "  \u001b[31m   \u001b[0m                              ^^^^^^^^^^^^^^^^^^^^^^^^^^^^\n",
            "  \u001b[31m   \u001b[0m   File \"/Library/Frameworks/Python.framework/Versions/3.12/lib/python3.12/site-packages/pip/_vendor/pyproject_hooks/_in_process/_in_process.py\", line 118, in get_requires_for_build_wheel\n",
            "  \u001b[31m   \u001b[0m     return hook(config_settings)\n",
            "  \u001b[31m   \u001b[0m            ^^^^^^^^^^^^^^^^^^^^^\n",
            "  \u001b[31m   \u001b[0m   File \"/private/var/folders/8m/t5mhmhhj2tqdfghm0yppdj0c0000gn/T/pip-build-env-trm3qydd/overlay/lib/python3.12/site-packages/setuptools/build_meta.py\", line 332, in get_requires_for_build_wheel\n",
            "  \u001b[31m   \u001b[0m     return self._get_build_requires(config_settings, requirements=[])\n",
            "  \u001b[31m   \u001b[0m            ^^^^^^^^^^^^^^^^^^^^^^^^^^^^^^^^^^^^^^^^^^^^^^^^^^^^^^^^^^\n",
            "  \u001b[31m   \u001b[0m   File \"/private/var/folders/8m/t5mhmhhj2tqdfghm0yppdj0c0000gn/T/pip-build-env-trm3qydd/overlay/lib/python3.12/site-packages/setuptools/build_meta.py\", line 302, in _get_build_requires\n",
            "  \u001b[31m   \u001b[0m     self.run_setup()\n",
            "  \u001b[31m   \u001b[0m   File \"/private/var/folders/8m/t5mhmhhj2tqdfghm0yppdj0c0000gn/T/pip-build-env-trm3qydd/overlay/lib/python3.12/site-packages/setuptools/build_meta.py\", line 318, in run_setup\n",
            "  \u001b[31m   \u001b[0m     exec(code, locals())\n",
            "  \u001b[31m   \u001b[0m   File \"<string>\", line 155, in <module>\n",
            "  \u001b[31m   \u001b[0m   File \"<string>\", line 49, in get_config_posix\n",
            "  \u001b[31m   \u001b[0m   File \"<string>\", line 28, in find_package_name\n",
            "  \u001b[31m   \u001b[0m Exception: Can not find valid pkg-config name.\n",
            "  \u001b[31m   \u001b[0m Specify MYSQLCLIENT_CFLAGS and MYSQLCLIENT_LDFLAGS env vars manually\n",
            "  \u001b[31m   \u001b[0m \u001b[31m[end of output]\u001b[0m\n",
            "  \n",
            "  \u001b[1;35mnote\u001b[0m: This error originates from a subprocess, and is likely not a problem with pip.\n",
            "\u001b[?25h\u001b[1;31merror\u001b[0m: \u001b[1msubprocess-exited-with-error\u001b[0m\n",
            "\n",
            "\u001b[31m×\u001b[0m \u001b[32mGetting requirements to build wheel\u001b[0m did not run successfully.\n",
            "\u001b[31m│\u001b[0m exit code: \u001b[1;36m1\u001b[0m\n",
            "\u001b[31m╰─>\u001b[0m See above for output.\n",
            "\n",
            "\u001b[1;35mnote\u001b[0m: This error originates from a subprocess, and is likely not a problem with pip.\n",
            "Collecting mysql-connector-python\n",
            "  Downloading mysql_connector_python-9.0.0-cp312-cp312-macosx_13_0_arm64.whl.metadata (2.0 kB)\n",
            "Downloading mysql_connector_python-9.0.0-cp312-cp312-macosx_13_0_arm64.whl (13.4 MB)\n",
            "\u001b[2K   \u001b[90m━━━━━━━━━━━━━━━━━━━━━━━━━━━━━━━━━━━━━━━━\u001b[0m \u001b[32m13.4/13.4 MB\u001b[0m \u001b[31m20.1 MB/s\u001b[0m eta \u001b[36m0:00:00\u001b[0m00:01\u001b[0m0:01\u001b[0m\n",
            "\u001b[?25hInstalling collected packages: mysql-connector-python\n",
            "Successfully installed mysql-connector-python-9.0.0\n"
          ]
        }
      ],
      "source": [
        "#Instalación de MySQL y el conector para utilizar Python\n",
        "!pip install mysql\n",
        "!pip install mysql-connector-python\n",
        "import mysql.connector as sql\n"
      ]
    },
    {
      "cell_type": "markdown",
      "id": "9056e76f-8b67-4a43-aaae-b62479876cca",
      "metadata": {
        "id": "9056e76f-8b67-4a43-aaae-b62479876cca"
      },
      "source": [
        "## Conexión a la base de datos de MySQL utilizando Python"
      ]
    },
    {
      "cell_type": "code",
      "execution_count": 4,
      "id": "b611d6dc-d129-4496-b65d-2499a3dbe435",
      "metadata": {
        "id": "b611d6dc-d129-4496-b65d-2499a3dbe435"
      },
      "outputs": [
        {
          "name": "stdout",
          "output_type": "stream",
          "text": [
            "<mysql.connector.connection_cext.CMySQLConnection object at 0x11805be60>\n"
          ]
        }
      ],
      "source": [
        "db_connect = sql.connect(host='127.0.0.1', database='datasets_ml', user = 'root', password = '')\n",
        "print(db_connect)"
      ]
    },
    {
      "cell_type": "code",
      "execution_count": 5,
      "id": "2a6b00e6-c404-468f-b550-e8cb00a4626e",
      "metadata": {
        "id": "2a6b00e6-c404-468f-b550-e8cb00a4626e"
      },
      "outputs": [],
      "source": [
        "#Creamos un cursor que nos permita ejecutar queries SQL a traves de la conexión establecida\n",
        "miCursor = db_connect.cursor()"
      ]
    },
    {
      "cell_type": "markdown",
      "id": "8f4a0d12-5f04-4e35-898d-08b4aaaa77d8",
      "metadata": {
        "id": "8f4a0d12-5f04-4e35-898d-08b4aaaa77d8"
      },
      "source": [
        "## Comandos SQL"
      ]
    },
    {
      "cell_type": "markdown",
      "id": "091be3ef-0a31-4aca-bf57-afd469aa2383",
      "metadata": {
        "id": "091be3ef-0a31-4aca-bf57-afd469aa2383"
      },
      "source": [
        "Al carga un conjunto de datos en MySQL este pasa a ser una tabla y ahí directamente es donde podemos ejecutar diferentes comandos SQL"
      ]
    },
    {
      "cell_type": "markdown",
      "id": "aab87806-81ef-4616-9af5-53383455952c",
      "metadata": {
        "id": "aab87806-81ef-4616-9af5-53383455952c"
      },
      "source": [
        "### Descripción de la estructura de la tabla"
      ]
    },
    {
      "cell_type": "code",
      "execution_count": 6,
      "id": "e11e27b1-79be-4e70-b94a-666733ec2190",
      "metadata": {
        "id": "e11e27b1-79be-4e70-b94a-666733ec2190"
      },
      "outputs": [
        {
          "name": "stdout",
          "output_type": "stream",
          "text": [
            "('id', 'int', 'NO', 'PRI', None, 'auto_increment')\n",
            "('fixed_acidity', 'float', 'YES', '', None, '')\n",
            "('volatile_acidity', 'float', 'YES', '', None, '')\n",
            "('citric_acid', 'float', 'YES', '', None, '')\n",
            "('residual_sugar', 'float', 'YES', '', None, '')\n",
            "('chlorides', 'float', 'YES', '', None, '')\n",
            "('free_sulfur_dioxide', 'float', 'YES', '', None, '')\n",
            "('total_sulfur_dioxide', 'float', 'YES', '', None, '')\n",
            "('density', 'float', 'YES', '', None, '')\n",
            "('pH', 'float', 'YES', '', None, '')\n",
            "('sulphates', 'float', 'YES', '', None, '')\n",
            "('alcohol', 'float', 'YES', '', None, '')\n",
            "('class', 'int', 'YES', '', None, '')\n"
          ]
        }
      ],
      "source": [
        "miCursor.execute(\"DESC winequality_red\")\n",
        "\n",
        "miResultado = miCursor.fetchall()\n",
        "\n",
        "for x in miResultado:\n",
        "  print(x)"
      ]
    },
    {
      "cell_type": "markdown",
      "id": "e9d431da-d140-4417-8a51-5d9355ae1cf7",
      "metadata": {
        "id": "e9d431da-d140-4417-8a51-5d9355ae1cf7"
      },
      "source": [
        "### SELECT"
      ]
    },
    {
      "cell_type": "code",
      "execution_count": 7,
      "id": "d5e2e034-8df9-4413-b120-bcaff0d5c65f",
      "metadata": {
        "id": "d5e2e034-8df9-4413-b120-bcaff0d5c65f"
      },
      "outputs": [
        {
          "name": "stdout",
          "output_type": "stream",
          "text": [
            "(1, 7.4, 0.7, 0.0, 1.9, 0.076, 11.0, 34.0, 0.9978, 3.51, 0.56, 9.4, 0)\n",
            "(2, 7.8, 0.88, 0.0, 2.6, 0.098, 25.0, 67.0, 0.9968, 3.2, 0.68, 9.8, 0)\n",
            "(3, 7.8, 0.76, 0.04, 2.3, 0.092, 15.0, 54.0, 0.997, 3.26, 0.65, 9.8, 0)\n",
            "(4, 11.2, 0.28, 0.56, 1.9, 0.075, 17.0, 60.0, 0.998, 3.16, 0.58, 9.8, 1)\n",
            "(5, 7.4, 0.7, 0.0, 1.9, 0.076, 11.0, 34.0, 0.9978, 3.51, 0.56, 9.4, 0)\n",
            "(6, 7.4, 0.66, 0.0, 1.8, 0.075, 13.0, 40.0, 0.9978, 3.51, 0.56, 9.4, 0)\n",
            "(7, 7.9, 0.6, 0.06, 1.6, 0.069, 15.0, 59.0, 0.9964, 3.3, 0.46, 9.4, 0)\n",
            "(8, 7.3, 0.65, 0.0, 1.2, 0.065, 15.0, 21.0, 0.9946, 3.39, 0.47, 10.0, 1)\n",
            "(9, 7.8, 0.58, 0.02, 2.0, 0.073, 9.0, 18.0, 0.9968, 3.36, 0.57, 9.5, 1)\n",
            "(10, 7.5, 0.5, 0.36, 6.1, 0.071, 17.0, 102.0, 0.9978, 3.35, 0.8, 10.5, 0)\n"
          ]
        }
      ],
      "source": [
        "miCursor.execute(\"SELECT * FROM winequality_red LIMIT 10\")\n",
        "miResultado = miCursor.fetchall()\n",
        "for x in miResultado:\n",
        "  print(x)"
      ]
    },
    {
      "cell_type": "code",
      "execution_count": 12,
      "id": "555eb604-b161-4502-b368-b3aa230383f0",
      "metadata": {
        "id": "555eb604-b161-4502-b368-b3aa230383f0"
      },
      "outputs": [
        {
          "name": "stdout",
          "output_type": "stream",
          "text": [
            "(7.4,)\n",
            "(7.8,)\n",
            "(7.8,)\n",
            "(11.2,)\n",
            "(7.4,)\n",
            "(7.4,)\n",
            "(7.9,)\n",
            "(7.3,)\n",
            "(7.8,)\n",
            "(7.5,)\n"
          ]
        }
      ],
      "source": [
        "miCursor.execute(\"SELECT `fixed_acidity` FROM winequality_red LIMIT 10\")\n",
        "miResultado = miCursor.fetchall()\n",
        "for x in miResultado:\n",
        "  print(x)"
      ]
    },
    {
      "cell_type": "code",
      "execution_count": 13,
      "id": "995c6b30-ba25-4cb9-a561-bf49bd8ed7fe",
      "metadata": {
        "id": "995c6b30-ba25-4cb9-a561-bf49bd8ed7fe"
      },
      "outputs": [
        {
          "name": "stdout",
          "output_type": "stream",
          "text": [
            "(7.4, 9.4, 0.9978, 11.0, 0)\n",
            "(7.8, 9.8, 0.9968, 25.0, 0)\n",
            "(7.8, 9.8, 0.997, 15.0, 0)\n",
            "(11.2, 9.8, 0.998, 17.0, 1)\n",
            "(7.4, 9.4, 0.9978, 11.0, 0)\n",
            "(7.4, 9.4, 0.9978, 13.0, 0)\n",
            "(7.9, 9.4, 0.9964, 15.0, 0)\n",
            "(7.3, 10.0, 0.9946, 15.0, 1)\n",
            "(7.8, 9.5, 0.9968, 9.0, 1)\n",
            "(7.5, 10.5, 0.9978, 17.0, 0)\n"
          ]
        }
      ],
      "source": [
        "miCursor.execute(\"SELECT `fixed_acidity`,alcohol,density,`free_sulfur_dioxide`,class  FROM winequality_red LIMIT 10\")\n",
        "miResultado = miCursor.fetchall()\n",
        "for x in miResultado:\n",
        "  print(x)"
      ]
    },
    {
      "cell_type": "code",
      "execution_count": 14,
      "id": "4129d35d-4937-468c-94ea-9b4deddb0b75",
      "metadata": {
        "id": "4129d35d-4937-468c-94ea-9b4deddb0b75"
      },
      "outputs": [
        {
          "name": "stdout",
          "output_type": "stream",
          "text": [
            "(7.4, 9.4, 0.9978, 11.0, 0)\n",
            "(7.8, 9.8, 0.9968, 25.0, 0)\n",
            "(7.8, 9.8, 0.997, 15.0, 0)\n",
            "(7.4, 9.4, 0.9978, 11.0, 0)\n",
            "(7.4, 9.4, 0.9978, 13.0, 0)\n",
            "(7.9, 9.4, 0.9964, 15.0, 0)\n",
            "(7.5, 10.5, 0.9978, 17.0, 0)\n",
            "(6.7, 9.2, 0.9959, 15.0, 0)\n",
            "(7.5, 10.5, 0.9978, 17.0, 0)\n",
            "(5.6, 9.9, 0.9943, 16.0, 0)\n",
            "(7.8, 9.1, 0.9974, 9.0, 0)\n",
            "(8.9, 9.2, 0.9986, 52.0, 0)\n",
            "(8.9, 9.2, 0.9986, 51.0, 0)\n",
            "(8.1, 9.3, 0.9968, 16.0, 0)\n",
            "(7.4, 9.0, 0.9974, 6.0, 0)\n"
          ]
        }
      ],
      "source": [
        "miCursor.execute(\"SELECT `fixed_acidity`,alcohol,density,`free_sulfur_dioxide`,class  FROM winequality_red WHERE class=0 LIMIT 15\")\n",
        "miResultado = miCursor.fetchall()\n",
        "for x in miResultado:\n",
        "  print(x)"
      ]
    },
    {
      "cell_type": "code",
      "execution_count": 15,
      "id": "622d655c-86ed-4364-8d51-0987cf96d3cd",
      "metadata": {
        "id": "622d655c-86ed-4364-8d51-0987cf96d3cd"
      },
      "outputs": [
        {
          "name": "stdout",
          "output_type": "stream",
          "text": [
            "(8.4, 0.9994, 0)\n",
            "(8.5, 0.99914, 0)\n",
            "(8.8, 1.00242, 0)\n",
            "(8.8, 1.00242, 0)\n",
            "(9.0, 1.0004, 0)\n",
            "(9.0, 0.9978, 0)\n",
            "(9.0, 0.99706, 0)\n",
            "(9.0, 0.9956, 0)\n",
            "(9.0, 0.99706, 0)\n",
            "(9.0, 0.9979, 0)\n",
            "(9.0, 1.0008, 0)\n",
            "(9.0, 0.9972, 0)\n",
            "(9.0, 0.9978, 0)\n",
            "(9.0, 0.9974, 0)\n",
            "(9.0, 0.9962, 0)\n"
          ]
        }
      ],
      "source": [
        "miCursor.execute(\"SELECT alcohol,density,class  FROM winequality_red WHERE class=0  ORDER BY alcohol LIMIT 15\")\n",
        "miResultado = miCursor.fetchall()\n",
        "for x in miResultado:\n",
        "  print(x)"
      ]
    },
    {
      "cell_type": "markdown",
      "id": "00f18735-d511-460d-ab55-3431d9d3b0da",
      "metadata": {
        "id": "00f18735-d511-460d-ab55-3431d9d3b0da"
      },
      "source": [
        "### ALTER TABLE"
      ]
    },
    {
      "cell_type": "code",
      "execution_count": 19,
      "id": "61349772-8cb8-456c-95a7-4e09634ffb68",
      "metadata": {
        "id": "61349772-8cb8-456c-95a7-4e09634ffb68"
      },
      "outputs": [],
      "source": [
        "#miCursor.execute(\"ALTER TABLE winequality_red ADD id INT NOT NULL AUTO_INCREMENT primary key\")"
      ]
    },
    {
      "cell_type": "code",
      "execution_count": 18,
      "id": "9b0c25c3-5438-4298-924c-a38d04ddc90b",
      "metadata": {
        "id": "9b0c25c3-5438-4298-924c-a38d04ddc90b"
      },
      "outputs": [
        {
          "name": "stdout",
          "output_type": "stream",
          "text": [
            "(1, 9.4, 0.9978, 0)\n",
            "(2, 9.8, 0.9968, 0)\n",
            "(3, 9.8, 0.997, 0)\n",
            "(4, 9.8, 0.998, 1)\n",
            "(5, 9.4, 0.9978, 0)\n",
            "(6, 9.4, 0.9978, 0)\n",
            "(7, 9.4, 0.9964, 0)\n",
            "(8, 10.0, 0.9946, 1)\n",
            "(9, 9.5, 0.9968, 1)\n",
            "(10, 10.5, 0.9978, 0)\n",
            "(11, 9.2, 0.9959, 0)\n",
            "(12, 10.5, 0.9978, 0)\n",
            "(13, 9.9, 0.9943, 0)\n",
            "(14, 9.1, 0.9974, 0)\n",
            "(15, 9.2, 0.9986, 0)\n"
          ]
        }
      ],
      "source": [
        "miCursor.execute(\"SELECT id,alcohol,density,class  FROM winequality_red ORDER BY id LIMIT 15\")\n",
        "miResultado = miCursor.fetchall()\n",
        "for x in miResultado:\n",
        "  print(x)"
      ]
    },
    {
      "cell_type": "code",
      "execution_count": 21,
      "id": "2fe1387f-cf23-4105-b3d9-e4d83eb7326d",
      "metadata": {
        "id": "2fe1387f-cf23-4105-b3d9-e4d83eb7326d"
      },
      "outputs": [
        {
          "name": "stdout",
          "output_type": "stream",
          "text": [
            "1 Registro existoso.\n"
          ]
        }
      ],
      "source": [
        "sql = \"INSERT INTO winequality_red (`fixed_acidity`,`volatile_acidity`,`citric_acid`,`residual_sugar`, chlorides, `free_sulfur_dioxide`, `total_sulfur_dioxide`, density, pH, sulphates,alcohol,class) VALUES (%s, %s, %s, %s, %s, %s, %s, %s, %s, %s, %s,%s)\"\n",
        "val = (7.4, 0.7, 0.5, 1.9, 0.076, 14, 35, 0.9978, 3.51, 0.42, 9.6, 0)\n",
        "miCursor.execute(sql, val)\n",
        "\n",
        "db_connect.commit()\n",
        "\n",
        "print(miCursor.rowcount, \"Registro existoso.\")"
      ]
    },
    {
      "cell_type": "code",
      "execution_count": 22,
      "id": "44b5f29c-4a3f-42c8-8d21-98b83b623671",
      "metadata": {
        "id": "44b5f29c-4a3f-42c8-8d21-98b83b623671"
      },
      "outputs": [
        {
          "name": "stdout",
          "output_type": "stream",
          "text": [
            "(1600, 7.4, 0.7, 0.5, 1.9, 0.076, 14.0, 35.0, 0.9978, 3.51, 0.42, 9.6, 0)\n",
            "(1599, 6.0, 0.31, 0.47, 3.6, 0.067, 18.0, 42.0, 0.99549, 3.39, 0.66, 11.0, 1)\n",
            "(1598, 5.9, 0.645, 0.12, 2.0, 0.075, 32.0, 44.0, 0.99547, 3.57, 0.71, 10.2, 0)\n",
            "(1597, 6.3, 0.51, 0.13, 2.3, 0.076, 29.0, 40.0, 0.99574, 3.42, 0.75, 11.0, 1)\n",
            "(1596, 5.9, 0.55, 0.1, 2.2, 0.062, 39.0, 51.0, 0.99512, 3.52, 0.76, 11.2, 1)\n"
          ]
        }
      ],
      "source": [
        "miCursor.execute(\"SELECT * FROM winequality_red ORDER BY id DESC LIMIT 5\")\n",
        "miResultado = miCursor.fetchall()\n",
        "for x in miResultado:\n",
        "  print(x)"
      ]
    },
    {
      "cell_type": "markdown",
      "id": "0ac61a26-e9b2-4e33-bc5a-73203d8e25be",
      "metadata": {
        "id": "0ac61a26-e9b2-4e33-bc5a-73203d8e25be"
      },
      "source": [
        "### UPDATE"
      ]
    },
    {
      "cell_type": "code",
      "execution_count": 24,
      "id": "24c9d329-a0cd-4a13-8af7-b4cafbf66360",
      "metadata": {
        "id": "24c9d329-a0cd-4a13-8af7-b4cafbf66360"
      },
      "outputs": [
        {
          "name": "stdout",
          "output_type": "stream",
          "text": [
            "1 Cambio existoso.\n"
          ]
        }
      ],
      "source": [
        "sql = \"UPDATE winequality_red SET `fixed_acidity`= 8.4 WHERE id=1600\"\n",
        "miCursor.execute(sql)\n",
        "db_connect.commit()\n",
        "print(miCursor.rowcount, \"Cambio existoso.\")"
      ]
    },
    {
      "cell_type": "code",
      "execution_count": 25,
      "id": "3b4a1806-fdd0-44c1-99fb-6ce3d4de57be",
      "metadata": {
        "id": "3b4a1806-fdd0-44c1-99fb-6ce3d4de57be"
      },
      "outputs": [
        {
          "name": "stdout",
          "output_type": "stream",
          "text": [
            "(1600, 8.4, 0.7, 0.5, 1.9, 0.076, 14.0, 35.0, 0.9978, 3.51, 0.42, 9.6, 0)\n",
            "(1599, 6.0, 0.31, 0.47, 3.6, 0.067, 18.0, 42.0, 0.99549, 3.39, 0.66, 11.0, 1)\n",
            "(1598, 5.9, 0.645, 0.12, 2.0, 0.075, 32.0, 44.0, 0.99547, 3.57, 0.71, 10.2, 0)\n",
            "(1597, 6.3, 0.51, 0.13, 2.3, 0.076, 29.0, 40.0, 0.99574, 3.42, 0.75, 11.0, 1)\n",
            "(1596, 5.9, 0.55, 0.1, 2.2, 0.062, 39.0, 51.0, 0.99512, 3.52, 0.76, 11.2, 1)\n"
          ]
        }
      ],
      "source": [
        "miCursor.execute(\"SELECT * FROM winequality_red ORDER BY id DESC LIMIT 5\")\n",
        "miResultado = miCursor.fetchall()\n",
        "for x in miResultado:\n",
        "  print(x)"
      ]
    },
    {
      "cell_type": "markdown",
      "id": "4620d45b-9b11-453c-9d7e-fb5cb3ea9895",
      "metadata": {
        "id": "4620d45b-9b11-453c-9d7e-fb5cb3ea9895"
      },
      "source": [
        "### DELETE"
      ]
    },
    {
      "cell_type": "code",
      "execution_count": 26,
      "id": "1f8568aa-b09f-4ef4-a9f1-88b302e23bd3",
      "metadata": {
        "id": "1f8568aa-b09f-4ef4-a9f1-88b302e23bd3"
      },
      "outputs": [
        {
          "name": "stdout",
          "output_type": "stream",
          "text": [
            "1 Eliminación existosa.\n"
          ]
        }
      ],
      "source": [
        "sql = \"DELETE FROM winequality_red WHERE id=1600\"\n",
        "miCursor.execute(sql)\n",
        "db_connect.commit()\n",
        "print(miCursor.rowcount, \"Eliminación existosa.\")"
      ]
    },
    {
      "cell_type": "code",
      "execution_count": 27,
      "id": "cb60e269-7e18-4bae-b225-cfdfc0920b9b",
      "metadata": {
        "id": "cb60e269-7e18-4bae-b225-cfdfc0920b9b"
      },
      "outputs": [
        {
          "name": "stdout",
          "output_type": "stream",
          "text": [
            "(1599, 6.0, 0.31, 0.47, 3.6, 0.067, 18.0, 42.0, 0.99549, 3.39, 0.66, 11.0, 1)\n",
            "(1598, 5.9, 0.645, 0.12, 2.0, 0.075, 32.0, 44.0, 0.99547, 3.57, 0.71, 10.2, 0)\n",
            "(1597, 6.3, 0.51, 0.13, 2.3, 0.076, 29.0, 40.0, 0.99574, 3.42, 0.75, 11.0, 1)\n",
            "(1596, 5.9, 0.55, 0.1, 2.2, 0.062, 39.0, 51.0, 0.99512, 3.52, 0.76, 11.2, 1)\n",
            "(1595, 6.2, 0.6, 0.08, 2.0, 0.09, 32.0, 44.0, 0.9949, 3.45, 0.58, 10.5, 0)\n"
          ]
        }
      ],
      "source": [
        "miCursor.execute(\"SELECT * FROM winequality_red ORDER BY id DESC LIMIT 5\")\n",
        "miResultado = miCursor.fetchall()\n",
        "for x in miResultado:\n",
        "  print(x)"
      ]
    },
    {
      "cell_type": "code",
      "execution_count": 28,
      "id": "d56a1c9f-198c-4f14-a756-a5779ec49136",
      "metadata": {
        "id": "d56a1c9f-198c-4f14-a756-a5779ec49136"
      },
      "outputs": [],
      "source": [
        "## Usando la conexión con MySQL para construir DataFrames utilizando Pandas"
      ]
    },
    {
      "cell_type": "code",
      "execution_count": 29,
      "id": "eb9d2e2f-74f0-4f04-b032-aac20ec526e6",
      "metadata": {
        "id": "eb9d2e2f-74f0-4f04-b032-aac20ec526e6"
      },
      "outputs": [
        {
          "name": "stdout",
          "output_type": "stream",
          "text": [
            "Requirement already satisfied: pandas in /Library/Frameworks/Python.framework/Versions/3.12/lib/python3.12/site-packages (2.1.3)\n",
            "Requirement already satisfied: numpy<2,>=1.26.0 in /Library/Frameworks/Python.framework/Versions/3.12/lib/python3.12/site-packages (from pandas) (1.26.2)\n",
            "Requirement already satisfied: python-dateutil>=2.8.2 in /Library/Frameworks/Python.framework/Versions/3.12/lib/python3.12/site-packages (from pandas) (2.8.2)\n",
            "Requirement already satisfied: pytz>=2020.1 in /Library/Frameworks/Python.framework/Versions/3.12/lib/python3.12/site-packages (from pandas) (2023.3.post1)\n",
            "Requirement already satisfied: tzdata>=2022.1 in /Library/Frameworks/Python.framework/Versions/3.12/lib/python3.12/site-packages (from pandas) (2023.3)\n",
            "Requirement already satisfied: six>=1.5 in /Library/Frameworks/Python.framework/Versions/3.12/lib/python3.12/site-packages (from python-dateutil>=2.8.2->pandas) (1.16.0)\n"
          ]
        }
      ],
      "source": [
        "!pip install pandas\n",
        "import pandas as pd"
      ]
    },
    {
      "cell_type": "code",
      "execution_count": 31,
      "id": "c4be8fa2-ae92-435e-9b48-a3a83d3f1188",
      "metadata": {
        "id": "c4be8fa2-ae92-435e-9b48-a3a83d3f1188"
      },
      "outputs": [
        {
          "name": "stderr",
          "output_type": "stream",
          "text": [
            "/var/folders/8m/t5mhmhhj2tqdfghm0yppdj0c0000gn/T/ipykernel_5665/639947922.py:1: UserWarning: pandas only supports SQLAlchemy connectable (engine/connection) or database string URI or sqlite3 DBAPI2 connection. Other DBAPI2 objects are not tested. Please consider using SQLAlchemy.\n",
            "  df = pd.read_sql('SELECT `fixed_acidity`,`volatile_acidity`,`citric_acid`,`residual_sugar`,chlorides, `free_sulfur_dioxide`, `total_sulfur_dioxide`, density, pH, sulphates,alcohol, class from winequality_red', con=db_connect)\n"
          ]
        },
        {
          "data": {
            "text/html": [
              "<div>\n",
              "<style scoped>\n",
              "    .dataframe tbody tr th:only-of-type {\n",
              "        vertical-align: middle;\n",
              "    }\n",
              "\n",
              "    .dataframe tbody tr th {\n",
              "        vertical-align: top;\n",
              "    }\n",
              "\n",
              "    .dataframe thead th {\n",
              "        text-align: right;\n",
              "    }\n",
              "</style>\n",
              "<table border=\"1\" class=\"dataframe\">\n",
              "  <thead>\n",
              "    <tr style=\"text-align: right;\">\n",
              "      <th></th>\n",
              "      <th>fixed_acidity</th>\n",
              "      <th>volatile_acidity</th>\n",
              "      <th>citric_acid</th>\n",
              "      <th>residual_sugar</th>\n",
              "      <th>chlorides</th>\n",
              "      <th>free_sulfur_dioxide</th>\n",
              "      <th>total_sulfur_dioxide</th>\n",
              "      <th>density</th>\n",
              "      <th>pH</th>\n",
              "      <th>sulphates</th>\n",
              "      <th>alcohol</th>\n",
              "      <th>class</th>\n",
              "    </tr>\n",
              "  </thead>\n",
              "  <tbody>\n",
              "    <tr>\n",
              "      <th>0</th>\n",
              "      <td>7.4</td>\n",
              "      <td>0.70</td>\n",
              "      <td>0.00</td>\n",
              "      <td>1.9</td>\n",
              "      <td>0.076</td>\n",
              "      <td>11.0</td>\n",
              "      <td>34.0</td>\n",
              "      <td>0.9978</td>\n",
              "      <td>3.51</td>\n",
              "      <td>0.56</td>\n",
              "      <td>9.4</td>\n",
              "      <td>0</td>\n",
              "    </tr>\n",
              "    <tr>\n",
              "      <th>1</th>\n",
              "      <td>7.8</td>\n",
              "      <td>0.88</td>\n",
              "      <td>0.00</td>\n",
              "      <td>2.6</td>\n",
              "      <td>0.098</td>\n",
              "      <td>25.0</td>\n",
              "      <td>67.0</td>\n",
              "      <td>0.9968</td>\n",
              "      <td>3.20</td>\n",
              "      <td>0.68</td>\n",
              "      <td>9.8</td>\n",
              "      <td>0</td>\n",
              "    </tr>\n",
              "    <tr>\n",
              "      <th>2</th>\n",
              "      <td>7.8</td>\n",
              "      <td>0.76</td>\n",
              "      <td>0.04</td>\n",
              "      <td>2.3</td>\n",
              "      <td>0.092</td>\n",
              "      <td>15.0</td>\n",
              "      <td>54.0</td>\n",
              "      <td>0.9970</td>\n",
              "      <td>3.26</td>\n",
              "      <td>0.65</td>\n",
              "      <td>9.8</td>\n",
              "      <td>0</td>\n",
              "    </tr>\n",
              "    <tr>\n",
              "      <th>3</th>\n",
              "      <td>11.2</td>\n",
              "      <td>0.28</td>\n",
              "      <td>0.56</td>\n",
              "      <td>1.9</td>\n",
              "      <td>0.075</td>\n",
              "      <td>17.0</td>\n",
              "      <td>60.0</td>\n",
              "      <td>0.9980</td>\n",
              "      <td>3.16</td>\n",
              "      <td>0.58</td>\n",
              "      <td>9.8</td>\n",
              "      <td>1</td>\n",
              "    </tr>\n",
              "    <tr>\n",
              "      <th>4</th>\n",
              "      <td>7.4</td>\n",
              "      <td>0.70</td>\n",
              "      <td>0.00</td>\n",
              "      <td>1.9</td>\n",
              "      <td>0.076</td>\n",
              "      <td>11.0</td>\n",
              "      <td>34.0</td>\n",
              "      <td>0.9978</td>\n",
              "      <td>3.51</td>\n",
              "      <td>0.56</td>\n",
              "      <td>9.4</td>\n",
              "      <td>0</td>\n",
              "    </tr>\n",
              "  </tbody>\n",
              "</table>\n",
              "</div>"
            ],
            "text/plain": [
              "   fixed_acidity  volatile_acidity  citric_acid  residual_sugar  chlorides  \\\n",
              "0            7.4              0.70         0.00             1.9      0.076   \n",
              "1            7.8              0.88         0.00             2.6      0.098   \n",
              "2            7.8              0.76         0.04             2.3      0.092   \n",
              "3           11.2              0.28         0.56             1.9      0.075   \n",
              "4            7.4              0.70         0.00             1.9      0.076   \n",
              "\n",
              "   free_sulfur_dioxide  total_sulfur_dioxide  density    pH  sulphates  \\\n",
              "0                 11.0                  34.0   0.9978  3.51       0.56   \n",
              "1                 25.0                  67.0   0.9968  3.20       0.68   \n",
              "2                 15.0                  54.0   0.9970  3.26       0.65   \n",
              "3                 17.0                  60.0   0.9980  3.16       0.58   \n",
              "4                 11.0                  34.0   0.9978  3.51       0.56   \n",
              "\n",
              "   alcohol  class  \n",
              "0      9.4      0  \n",
              "1      9.8      0  \n",
              "2      9.8      0  \n",
              "3      9.8      1  \n",
              "4      9.4      0  "
            ]
          },
          "execution_count": 31,
          "metadata": {},
          "output_type": "execute_result"
        }
      ],
      "source": [
        "df = pd.read_sql('SELECT `fixed_acidity`,`volatile_acidity`,`citric_acid`,`residual_sugar`,chlorides, `free_sulfur_dioxide`, `total_sulfur_dioxide`, density, pH, sulphates,alcohol, class from winequality_red', con=db_connect)\n",
        "df.head()"
      ]
    },
    {
      "cell_type": "markdown",
      "id": "86df3683-18f1-4bc0-9588-36edcee491f4",
      "metadata": {
        "id": "86df3683-18f1-4bc0-9588-36edcee491f4"
      },
      "source": [
        "## Separando las variables independientes y la dependiente"
      ]
    },
    {
      "cell_type": "code",
      "execution_count": 32,
      "id": "a8193a1f-00ad-4203-91e1-63236f5dc21f",
      "metadata": {
        "id": "a8193a1f-00ad-4203-91e1-63236f5dc21f"
      },
      "outputs": [],
      "source": [
        "# con esto tomamos todas las variables excepto 'class' como variables independiente\n",
        "X = df.drop(['class'], axis = 1)\n",
        "# con esto tomamos solo a la variable 'class' como variable dependiente\n",
        "y = df['class']"
      ]
    },
    {
      "cell_type": "markdown",
      "id": "4ce707cd-5f3f-45f6-94e8-2cce7d10a7dc",
      "metadata": {
        "id": "4ce707cd-5f3f-45f6-94e8-2cce7d10a7dc"
      },
      "source": [
        "## Creando el conjunto de prueba y entrenamiento con scikit-learn"
      ]
    },
    {
      "cell_type": "code",
      "execution_count": 33,
      "id": "a018d94b-05e7-42c7-958e-044b192d1d45",
      "metadata": {
        "id": "a018d94b-05e7-42c7-958e-044b192d1d45"
      },
      "outputs": [],
      "source": [
        "# llamamos a la biblioteca que divide nuestros datos en entrenamiento y prueba\n",
        "from sklearn.model_selection import train_test_split\n",
        "X_train, X_test, y_train, y_test = train_test_split(X,y,test_size=0.3,random_state=50)"
      ]
    },
    {
      "cell_type": "markdown",
      "id": "543c5d65-40ac-4ea1-8734-8dc4530c8bb1",
      "metadata": {
        "id": "543c5d65-40ac-4ea1-8734-8dc4530c8bb1"
      },
      "source": [
        "## Instalando e importando la biblioteca para la construcción de modelos de regresión statsmodels"
      ]
    },
    {
      "cell_type": "code",
      "execution_count": 34,
      "id": "fad34588-26b8-4f09-8e6b-53518947b8da",
      "metadata": {
        "id": "fad34588-26b8-4f09-8e6b-53518947b8da"
      },
      "outputs": [
        {
          "name": "stdout",
          "output_type": "stream",
          "text": [
            "Collecting statsmodels\n",
            "  Downloading statsmodels-0.14.2-cp312-cp312-macosx_11_0_arm64.whl.metadata (9.2 kB)\n",
            "Requirement already satisfied: numpy>=1.22.3 in /Library/Frameworks/Python.framework/Versions/3.12/lib/python3.12/site-packages (from statsmodels) (1.26.2)\n",
            "Requirement already satisfied: scipy!=1.9.2,>=1.8 in /Library/Frameworks/Python.framework/Versions/3.12/lib/python3.12/site-packages (from statsmodels) (1.11.4)\n",
            "Requirement already satisfied: pandas!=2.1.0,>=1.4 in /Library/Frameworks/Python.framework/Versions/3.12/lib/python3.12/site-packages (from statsmodels) (2.1.3)\n",
            "Collecting patsy>=0.5.6 (from statsmodels)\n",
            "  Downloading patsy-0.5.6-py2.py3-none-any.whl.metadata (3.5 kB)\n",
            "Requirement already satisfied: packaging>=21.3 in /Library/Frameworks/Python.framework/Versions/3.12/lib/python3.12/site-packages (from statsmodels) (23.2)\n",
            "Requirement already satisfied: python-dateutil>=2.8.2 in /Library/Frameworks/Python.framework/Versions/3.12/lib/python3.12/site-packages (from pandas!=2.1.0,>=1.4->statsmodels) (2.8.2)\n",
            "Requirement already satisfied: pytz>=2020.1 in /Library/Frameworks/Python.framework/Versions/3.12/lib/python3.12/site-packages (from pandas!=2.1.0,>=1.4->statsmodels) (2023.3.post1)\n",
            "Requirement already satisfied: tzdata>=2022.1 in /Library/Frameworks/Python.framework/Versions/3.12/lib/python3.12/site-packages (from pandas!=2.1.0,>=1.4->statsmodels) (2023.3)\n",
            "Requirement already satisfied: six in /Library/Frameworks/Python.framework/Versions/3.12/lib/python3.12/site-packages (from patsy>=0.5.6->statsmodels) (1.16.0)\n",
            "Downloading statsmodels-0.14.2-cp312-cp312-macosx_11_0_arm64.whl (10.1 MB)\n",
            "\u001b[2K   \u001b[90m━━━━━━━━━━━━━━━━━━━━━━━━━━━━━━━━━━━━━━━━\u001b[0m \u001b[32m10.1/10.1 MB\u001b[0m \u001b[31m15.4 MB/s\u001b[0m eta \u001b[36m0:00:00\u001b[0m \u001b[36m0:00:01\u001b[0m\n",
            "\u001b[?25hDownloading patsy-0.5.6-py2.py3-none-any.whl (233 kB)\n",
            "Installing collected packages: patsy, statsmodels\n",
            "Successfully installed patsy-0.5.6 statsmodels-0.14.2\n"
          ]
        }
      ],
      "source": [
        "!pip install statsmodels\n",
        "import statsmodels.api as sm"
      ]
    },
    {
      "cell_type": "markdown",
      "id": "0191f641-e3e7-4445-a273-33d2b6e0c379",
      "metadata": {
        "id": "0191f641-e3e7-4445-a273-33d2b6e0c379"
      },
      "source": [
        "## Modelo de regresión logística"
      ]
    },
    {
      "cell_type": "code",
      "execution_count": 36,
      "id": "d2c85300-d9db-4fbc-abc9-494311e21531",
      "metadata": {
        "id": "d2c85300-d9db-4fbc-abc9-494311e21531"
      },
      "outputs": [
        {
          "data": {
            "text/html": [
              "<div>\n",
              "<style scoped>\n",
              "    .dataframe tbody tr th:only-of-type {\n",
              "        vertical-align: middle;\n",
              "    }\n",
              "\n",
              "    .dataframe tbody tr th {\n",
              "        vertical-align: top;\n",
              "    }\n",
              "\n",
              "    .dataframe thead th {\n",
              "        text-align: right;\n",
              "    }\n",
              "</style>\n",
              "<table border=\"1\" class=\"dataframe\">\n",
              "  <thead>\n",
              "    <tr style=\"text-align: right;\">\n",
              "      <th></th>\n",
              "      <th>fixed_acidity</th>\n",
              "      <th>volatile_acidity</th>\n",
              "      <th>citric_acid</th>\n",
              "      <th>residual_sugar</th>\n",
              "      <th>chlorides</th>\n",
              "      <th>free_sulfur_dioxide</th>\n",
              "      <th>total_sulfur_dioxide</th>\n",
              "      <th>density</th>\n",
              "      <th>pH</th>\n",
              "      <th>sulphates</th>\n",
              "      <th>alcohol</th>\n",
              "      <th>class</th>\n",
              "    </tr>\n",
              "  </thead>\n",
              "  <tbody>\n",
              "    <tr>\n",
              "      <th>fixed_acidity</th>\n",
              "      <td>1.000000</td>\n",
              "      <td>-0.256131</td>\n",
              "      <td>0.671703</td>\n",
              "      <td>0.114777</td>\n",
              "      <td>0.093705</td>\n",
              "      <td>-0.153794</td>\n",
              "      <td>-0.113181</td>\n",
              "      <td>0.668047</td>\n",
              "      <td>-0.682978</td>\n",
              "      <td>0.183006</td>\n",
              "      <td>-0.061668</td>\n",
              "      <td>0.095093</td>\n",
              "    </tr>\n",
              "    <tr>\n",
              "      <th>volatile_acidity</th>\n",
              "      <td>-0.256131</td>\n",
              "      <td>1.000000</td>\n",
              "      <td>-0.552496</td>\n",
              "      <td>0.001918</td>\n",
              "      <td>0.061298</td>\n",
              "      <td>-0.010504</td>\n",
              "      <td>0.076470</td>\n",
              "      <td>0.022026</td>\n",
              "      <td>0.234937</td>\n",
              "      <td>-0.260987</td>\n",
              "      <td>-0.202288</td>\n",
              "      <td>-0.321441</td>\n",
              "    </tr>\n",
              "    <tr>\n",
              "      <th>citric_acid</th>\n",
              "      <td>0.671703</td>\n",
              "      <td>-0.552496</td>\n",
              "      <td>1.000000</td>\n",
              "      <td>0.143577</td>\n",
              "      <td>0.203823</td>\n",
              "      <td>-0.060978</td>\n",
              "      <td>0.035533</td>\n",
              "      <td>0.364947</td>\n",
              "      <td>-0.541904</td>\n",
              "      <td>0.312770</td>\n",
              "      <td>0.109903</td>\n",
              "      <td>0.159129</td>\n",
              "    </tr>\n",
              "    <tr>\n",
              "      <th>residual_sugar</th>\n",
              "      <td>0.114777</td>\n",
              "      <td>0.001918</td>\n",
              "      <td>0.143577</td>\n",
              "      <td>1.000000</td>\n",
              "      <td>0.055610</td>\n",
              "      <td>0.187049</td>\n",
              "      <td>0.203028</td>\n",
              "      <td>0.355283</td>\n",
              "      <td>-0.085652</td>\n",
              "      <td>0.005527</td>\n",
              "      <td>0.042075</td>\n",
              "      <td>-0.002160</td>\n",
              "    </tr>\n",
              "    <tr>\n",
              "      <th>chlorides</th>\n",
              "      <td>0.093705</td>\n",
              "      <td>0.061298</td>\n",
              "      <td>0.203823</td>\n",
              "      <td>0.055610</td>\n",
              "      <td>1.000000</td>\n",
              "      <td>0.005562</td>\n",
              "      <td>0.047400</td>\n",
              "      <td>0.200632</td>\n",
              "      <td>-0.265026</td>\n",
              "      <td>0.371260</td>\n",
              "      <td>-0.221141</td>\n",
              "      <td>-0.109494</td>\n",
              "    </tr>\n",
              "    <tr>\n",
              "      <th>free_sulfur_dioxide</th>\n",
              "      <td>-0.153794</td>\n",
              "      <td>-0.010504</td>\n",
              "      <td>-0.060978</td>\n",
              "      <td>0.187049</td>\n",
              "      <td>0.005562</td>\n",
              "      <td>1.000000</td>\n",
              "      <td>0.667666</td>\n",
              "      <td>-0.021946</td>\n",
              "      <td>0.070377</td>\n",
              "      <td>0.051658</td>\n",
              "      <td>-0.069408</td>\n",
              "      <td>-0.061757</td>\n",
              "    </tr>\n",
              "    <tr>\n",
              "      <th>total_sulfur_dioxide</th>\n",
              "      <td>-0.113181</td>\n",
              "      <td>0.076470</td>\n",
              "      <td>0.035533</td>\n",
              "      <td>0.203028</td>\n",
              "      <td>0.047400</td>\n",
              "      <td>0.667666</td>\n",
              "      <td>1.000000</td>\n",
              "      <td>0.071269</td>\n",
              "      <td>-0.066495</td>\n",
              "      <td>0.042947</td>\n",
              "      <td>-0.205654</td>\n",
              "      <td>-0.231963</td>\n",
              "    </tr>\n",
              "    <tr>\n",
              "      <th>density</th>\n",
              "      <td>0.668047</td>\n",
              "      <td>0.022026</td>\n",
              "      <td>0.364947</td>\n",
              "      <td>0.355283</td>\n",
              "      <td>0.200632</td>\n",
              "      <td>-0.021946</td>\n",
              "      <td>0.071269</td>\n",
              "      <td>1.000000</td>\n",
              "      <td>-0.341699</td>\n",
              "      <td>0.148506</td>\n",
              "      <td>-0.496180</td>\n",
              "      <td>-0.159110</td>\n",
              "    </tr>\n",
              "    <tr>\n",
              "      <th>pH</th>\n",
              "      <td>-0.682978</td>\n",
              "      <td>0.234937</td>\n",
              "      <td>-0.541904</td>\n",
              "      <td>-0.085652</td>\n",
              "      <td>-0.265026</td>\n",
              "      <td>0.070377</td>\n",
              "      <td>-0.066495</td>\n",
              "      <td>-0.341699</td>\n",
              "      <td>1.000000</td>\n",
              "      <td>-0.196648</td>\n",
              "      <td>0.205633</td>\n",
              "      <td>-0.003264</td>\n",
              "    </tr>\n",
              "    <tr>\n",
              "      <th>sulphates</th>\n",
              "      <td>0.183006</td>\n",
              "      <td>-0.260987</td>\n",
              "      <td>0.312770</td>\n",
              "      <td>0.005527</td>\n",
              "      <td>0.371260</td>\n",
              "      <td>0.051658</td>\n",
              "      <td>0.042947</td>\n",
              "      <td>0.148506</td>\n",
              "      <td>-0.196648</td>\n",
              "      <td>1.000000</td>\n",
              "      <td>0.093595</td>\n",
              "      <td>0.218072</td>\n",
              "    </tr>\n",
              "    <tr>\n",
              "      <th>alcohol</th>\n",
              "      <td>-0.061668</td>\n",
              "      <td>-0.202288</td>\n",
              "      <td>0.109903</td>\n",
              "      <td>0.042075</td>\n",
              "      <td>-0.221141</td>\n",
              "      <td>-0.069408</td>\n",
              "      <td>-0.205654</td>\n",
              "      <td>-0.496180</td>\n",
              "      <td>0.205633</td>\n",
              "      <td>0.093595</td>\n",
              "      <td>1.000000</td>\n",
              "      <td>0.434751</td>\n",
              "    </tr>\n",
              "    <tr>\n",
              "      <th>class</th>\n",
              "      <td>0.095093</td>\n",
              "      <td>-0.321441</td>\n",
              "      <td>0.159129</td>\n",
              "      <td>-0.002160</td>\n",
              "      <td>-0.109494</td>\n",
              "      <td>-0.061757</td>\n",
              "      <td>-0.231963</td>\n",
              "      <td>-0.159110</td>\n",
              "      <td>-0.003264</td>\n",
              "      <td>0.218072</td>\n",
              "      <td>0.434751</td>\n",
              "      <td>1.000000</td>\n",
              "    </tr>\n",
              "  </tbody>\n",
              "</table>\n",
              "</div>"
            ],
            "text/plain": [
              "                      fixed_acidity  volatile_acidity  citric_acid  \\\n",
              "fixed_acidity              1.000000         -0.256131     0.671703   \n",
              "volatile_acidity          -0.256131          1.000000    -0.552496   \n",
              "citric_acid                0.671703         -0.552496     1.000000   \n",
              "residual_sugar             0.114777          0.001918     0.143577   \n",
              "chlorides                  0.093705          0.061298     0.203823   \n",
              "free_sulfur_dioxide       -0.153794         -0.010504    -0.060978   \n",
              "total_sulfur_dioxide      -0.113181          0.076470     0.035533   \n",
              "density                    0.668047          0.022026     0.364947   \n",
              "pH                        -0.682978          0.234937    -0.541904   \n",
              "sulphates                  0.183006         -0.260987     0.312770   \n",
              "alcohol                   -0.061668         -0.202288     0.109903   \n",
              "class                      0.095093         -0.321441     0.159129   \n",
              "\n",
              "                      residual_sugar  chlorides  free_sulfur_dioxide  \\\n",
              "fixed_acidity               0.114777   0.093705            -0.153794   \n",
              "volatile_acidity            0.001918   0.061298            -0.010504   \n",
              "citric_acid                 0.143577   0.203823            -0.060978   \n",
              "residual_sugar              1.000000   0.055610             0.187049   \n",
              "chlorides                   0.055610   1.000000             0.005562   \n",
              "free_sulfur_dioxide         0.187049   0.005562             1.000000   \n",
              "total_sulfur_dioxide        0.203028   0.047400             0.667666   \n",
              "density                     0.355283   0.200632            -0.021946   \n",
              "pH                         -0.085652  -0.265026             0.070377   \n",
              "sulphates                   0.005527   0.371260             0.051658   \n",
              "alcohol                     0.042075  -0.221141            -0.069408   \n",
              "class                      -0.002160  -0.109494            -0.061757   \n",
              "\n",
              "                      total_sulfur_dioxide   density        pH  sulphates  \\\n",
              "fixed_acidity                    -0.113181  0.668047 -0.682978   0.183006   \n",
              "volatile_acidity                  0.076470  0.022026  0.234937  -0.260987   \n",
              "citric_acid                       0.035533  0.364947 -0.541904   0.312770   \n",
              "residual_sugar                    0.203028  0.355283 -0.085652   0.005527   \n",
              "chlorides                         0.047400  0.200632 -0.265026   0.371260   \n",
              "free_sulfur_dioxide               0.667666 -0.021946  0.070377   0.051658   \n",
              "total_sulfur_dioxide              1.000000  0.071269 -0.066495   0.042947   \n",
              "density                           0.071269  1.000000 -0.341699   0.148506   \n",
              "pH                               -0.066495 -0.341699  1.000000  -0.196648   \n",
              "sulphates                         0.042947  0.148506 -0.196648   1.000000   \n",
              "alcohol                          -0.205654 -0.496180  0.205633   0.093595   \n",
              "class                            -0.231963 -0.159110 -0.003264   0.218072   \n",
              "\n",
              "                       alcohol     class  \n",
              "fixed_acidity        -0.061668  0.095093  \n",
              "volatile_acidity     -0.202288 -0.321441  \n",
              "citric_acid           0.109903  0.159129  \n",
              "residual_sugar        0.042075 -0.002160  \n",
              "chlorides            -0.221141 -0.109494  \n",
              "free_sulfur_dioxide  -0.069408 -0.061757  \n",
              "total_sulfur_dioxide -0.205654 -0.231963  \n",
              "density              -0.496180 -0.159110  \n",
              "pH                    0.205633 -0.003264  \n",
              "sulphates             0.093595  0.218072  \n",
              "alcohol               1.000000  0.434751  \n",
              "class                 0.434751  1.000000  "
            ]
          },
          "execution_count": 36,
          "metadata": {},
          "output_type": "execute_result"
        }
      ],
      "source": [
        "#Obtenemos la matriz de correlación para saber si existe multicolinealidad entre las variables independientes\n",
        "datosRegLog = df[['fixed_acidity',\n",
        " 'volatile_acidity',\n",
        " 'citric_acid',\n",
        " 'residual_sugar',\n",
        " 'chlorides',\n",
        " 'free_sulfur_dioxide',\n",
        " 'total_sulfur_dioxide',\n",
        " 'density',\n",
        " 'pH',\n",
        " 'sulphates',\n",
        " 'alcohol',\n",
        " 'class']]\n",
        "datosRegLog.corr()"
      ]
    },
    {
      "cell_type": "code",
      "execution_count": 37,
      "id": "10373fda-9b41-43a8-a8f4-5e6796f905fd",
      "metadata": {
        "id": "10373fda-9b41-43a8-a8f4-5e6796f905fd"
      },
      "outputs": [
        {
          "name": "stdout",
          "output_type": "stream",
          "text": [
            "Optimization terminated successfully.\n",
            "         Current function value: 0.682621\n",
            "         Iterations 4\n"
          ]
        },
        {
          "data": {
            "text/html": [
              "<table class=\"simpletable\">\n",
              "<caption>Logit Regression Results</caption>\n",
              "<tr>\n",
              "  <th>Dep. Variable:</th>         <td>class</td>      <th>  No. Observations:  </th>  <td>  1119</td> \n",
              "</tr>\n",
              "<tr>\n",
              "  <th>Model:</th>                 <td>Logit</td>      <th>  Df Residuals:      </th>  <td>  1117</td> \n",
              "</tr>\n",
              "<tr>\n",
              "  <th>Method:</th>                 <td>MLE</td>       <th>  Df Model:          </th>  <td>     1</td> \n",
              "</tr>\n",
              "<tr>\n",
              "  <th>Date:</th>            <td>Mon, 02 Sep 2024</td> <th>  Pseudo R-squ.:     </th> <td>0.005331</td>\n",
              "</tr>\n",
              "<tr>\n",
              "  <th>Time:</th>                <td>22:05:30</td>     <th>  Log-Likelihood:    </th> <td> -763.85</td>\n",
              "</tr>\n",
              "<tr>\n",
              "  <th>converged:</th>             <td>True</td>       <th>  LL-Null:           </th> <td> -767.95</td>\n",
              "</tr>\n",
              "<tr>\n",
              "  <th>Covariance Type:</th>     <td>nonrobust</td>    <th>  LLR p-value:       </th> <td>0.004219</td>\n",
              "</tr>\n",
              "</table>\n",
              "<table class=\"simpletable\">\n",
              "<tr>\n",
              "        <td></td>           <th>coef</th>     <th>std err</th>      <th>z</th>      <th>P>|z|</th>  <th>[0.025</th>    <th>0.975]</th>  \n",
              "</tr>\n",
              "<tr>\n",
              "  <th>const</th>         <td>   -0.5927</td> <td>    0.298</td> <td>   -1.991</td> <td> 0.047</td> <td>   -1.176</td> <td>   -0.009</td>\n",
              "</tr>\n",
              "<tr>\n",
              "  <th>fixed_acidity</th> <td>    0.0996</td> <td>    0.035</td> <td>    2.831</td> <td> 0.005</td> <td>    0.031</td> <td>    0.168</td>\n",
              "</tr>\n",
              "</table>"
            ],
            "text/latex": [
              "\\begin{center}\n",
              "\\begin{tabular}{lclc}\n",
              "\\toprule\n",
              "\\textbf{Dep. Variable:}   &      class       & \\textbf{  No. Observations:  } &     1119    \\\\\n",
              "\\textbf{Model:}           &      Logit       & \\textbf{  Df Residuals:      } &     1117    \\\\\n",
              "\\textbf{Method:}          &       MLE        & \\textbf{  Df Model:          } &        1    \\\\\n",
              "\\textbf{Date:}            & Mon, 02 Sep 2024 & \\textbf{  Pseudo R-squ.:     } &  0.005331   \\\\\n",
              "\\textbf{Time:}            &     22:05:30     & \\textbf{  Log-Likelihood:    } &   -763.85   \\\\\n",
              "\\textbf{converged:}       &       True       & \\textbf{  LL-Null:           } &   -767.95   \\\\\n",
              "\\textbf{Covariance Type:} &    nonrobust     & \\textbf{  LLR p-value:       } &  0.004219   \\\\\n",
              "\\bottomrule\n",
              "\\end{tabular}\n",
              "\\begin{tabular}{lcccccc}\n",
              "                        & \\textbf{coef} & \\textbf{std err} & \\textbf{z} & \\textbf{P$> |$z$|$} & \\textbf{[0.025} & \\textbf{0.975]}  \\\\\n",
              "\\midrule\n",
              "\\textbf{const}          &      -0.5927  &        0.298     &    -1.991  &         0.047        &       -1.176    &       -0.009     \\\\\n",
              "\\textbf{fixed\\_acidity} &       0.0996  &        0.035     &     2.831  &         0.005        &        0.031    &        0.168     \\\\\n",
              "\\bottomrule\n",
              "\\end{tabular}\n",
              "%\\caption{Logit Regression Results}\n",
              "\\end{center}"
            ],
            "text/plain": [
              "<class 'statsmodels.iolib.summary.Summary'>\n",
              "\"\"\"\n",
              "                           Logit Regression Results                           \n",
              "==============================================================================\n",
              "Dep. Variable:                  class   No. Observations:                 1119\n",
              "Model:                          Logit   Df Residuals:                     1117\n",
              "Method:                           MLE   Df Model:                            1\n",
              "Date:                Mon, 02 Sep 2024   Pseudo R-squ.:                0.005331\n",
              "Time:                        22:05:30   Log-Likelihood:                -763.85\n",
              "converged:                       True   LL-Null:                       -767.95\n",
              "Covariance Type:            nonrobust   LLR p-value:                  0.004219\n",
              "=================================================================================\n",
              "                    coef    std err          z      P>|z|      [0.025      0.975]\n",
              "---------------------------------------------------------------------------------\n",
              "const            -0.5927      0.298     -1.991      0.047      -1.176      -0.009\n",
              "fixed_acidity     0.0996      0.035      2.831      0.005       0.031       0.168\n",
              "=================================================================================\n",
              "\"\"\""
            ]
          },
          "execution_count": 37,
          "metadata": {},
          "output_type": "execute_result"
        }
      ],
      "source": [
        "#Obtener los signos\n",
        "ytrain = y_train\n",
        "Xtrain = sm.add_constant(X_train[['fixed_acidity']])#Agrega el intercepto en un modelo de regresión\n",
        "log_reg = sm.Logit(ytrain, Xtrain).fit()\n",
        "log_reg.summary()"
      ]
    },
    {
      "cell_type": "code",
      "execution_count": 38,
      "id": "88794743-5db5-464f-9db1-0448ed3909f6",
      "metadata": {
        "id": "88794743-5db5-464f-9db1-0448ed3909f6"
      },
      "outputs": [
        {
          "name": "stdout",
          "output_type": "stream",
          "text": [
            "Optimization terminated successfully.\n",
            "         Current function value: 0.625228\n",
            "         Iterations 5\n"
          ]
        },
        {
          "data": {
            "text/html": [
              "<table class=\"simpletable\">\n",
              "<caption>Logit Regression Results</caption>\n",
              "<tr>\n",
              "  <th>Dep. Variable:</th>         <td>class</td>      <th>  No. Observations:  </th>  <td>  1119</td>  \n",
              "</tr>\n",
              "<tr>\n",
              "  <th>Model:</th>                 <td>Logit</td>      <th>  Df Residuals:      </th>  <td>  1117</td>  \n",
              "</tr>\n",
              "<tr>\n",
              "  <th>Method:</th>                 <td>MLE</td>       <th>  Df Model:          </th>  <td>     1</td>  \n",
              "</tr>\n",
              "<tr>\n",
              "  <th>Date:</th>            <td>Mon, 02 Sep 2024</td> <th>  Pseudo R-squ.:     </th>  <td>0.08896</td> \n",
              "</tr>\n",
              "<tr>\n",
              "  <th>Time:</th>                <td>22:05:35</td>     <th>  Log-Likelihood:    </th> <td> -699.63</td> \n",
              "</tr>\n",
              "<tr>\n",
              "  <th>converged:</th>             <td>True</td>       <th>  LL-Null:           </th> <td> -767.95</td> \n",
              "</tr>\n",
              "<tr>\n",
              "  <th>Covariance Type:</th>     <td>nonrobust</td>    <th>  LLR p-value:       </th> <td>1.452e-31</td>\n",
              "</tr>\n",
              "</table>\n",
              "<table class=\"simpletable\">\n",
              "<tr>\n",
              "          <td></td>            <th>coef</th>     <th>std err</th>      <th>z</th>      <th>P>|z|</th>  <th>[0.025</th>    <th>0.975]</th>  \n",
              "</tr>\n",
              "<tr>\n",
              "  <th>const</th>            <td>    2.5288</td> <td>    0.225</td> <td>   11.260</td> <td> 0.000</td> <td>    2.089</td> <td>    2.969</td>\n",
              "</tr>\n",
              "<tr>\n",
              "  <th>volatile_acidity</th> <td>   -4.3444</td> <td>    0.407</td> <td>  -10.685</td> <td> 0.000</td> <td>   -5.141</td> <td>   -3.548</td>\n",
              "</tr>\n",
              "</table>"
            ],
            "text/latex": [
              "\\begin{center}\n",
              "\\begin{tabular}{lclc}\n",
              "\\toprule\n",
              "\\textbf{Dep. Variable:}    &      class       & \\textbf{  No. Observations:  } &     1119    \\\\\n",
              "\\textbf{Model:}            &      Logit       & \\textbf{  Df Residuals:      } &     1117    \\\\\n",
              "\\textbf{Method:}           &       MLE        & \\textbf{  Df Model:          } &        1    \\\\\n",
              "\\textbf{Date:}             & Mon, 02 Sep 2024 & \\textbf{  Pseudo R-squ.:     } &  0.08896    \\\\\n",
              "\\textbf{Time:}             &     22:05:35     & \\textbf{  Log-Likelihood:    } &   -699.63   \\\\\n",
              "\\textbf{converged:}        &       True       & \\textbf{  LL-Null:           } &   -767.95   \\\\\n",
              "\\textbf{Covariance Type:}  &    nonrobust     & \\textbf{  LLR p-value:       } & 1.452e-31   \\\\\n",
              "\\bottomrule\n",
              "\\end{tabular}\n",
              "\\begin{tabular}{lcccccc}\n",
              "                           & \\textbf{coef} & \\textbf{std err} & \\textbf{z} & \\textbf{P$> |$z$|$} & \\textbf{[0.025} & \\textbf{0.975]}  \\\\\n",
              "\\midrule\n",
              "\\textbf{const}             &       2.5288  &        0.225     &    11.260  &         0.000        &        2.089    &        2.969     \\\\\n",
              "\\textbf{volatile\\_acidity} &      -4.3444  &        0.407     &   -10.685  &         0.000        &       -5.141    &       -3.548     \\\\\n",
              "\\bottomrule\n",
              "\\end{tabular}\n",
              "%\\caption{Logit Regression Results}\n",
              "\\end{center}"
            ],
            "text/plain": [
              "<class 'statsmodels.iolib.summary.Summary'>\n",
              "\"\"\"\n",
              "                           Logit Regression Results                           \n",
              "==============================================================================\n",
              "Dep. Variable:                  class   No. Observations:                 1119\n",
              "Model:                          Logit   Df Residuals:                     1117\n",
              "Method:                           MLE   Df Model:                            1\n",
              "Date:                Mon, 02 Sep 2024   Pseudo R-squ.:                 0.08896\n",
              "Time:                        22:05:35   Log-Likelihood:                -699.63\n",
              "converged:                       True   LL-Null:                       -767.95\n",
              "Covariance Type:            nonrobust   LLR p-value:                 1.452e-31\n",
              "====================================================================================\n",
              "                       coef    std err          z      P>|z|      [0.025      0.975]\n",
              "------------------------------------------------------------------------------------\n",
              "const                2.5288      0.225     11.260      0.000       2.089       2.969\n",
              "volatile_acidity    -4.3444      0.407    -10.685      0.000      -5.141      -3.548\n",
              "====================================================================================\n",
              "\"\"\""
            ]
          },
          "execution_count": 38,
          "metadata": {},
          "output_type": "execute_result"
        }
      ],
      "source": [
        "ytrain = y_train\n",
        "Xtrain = sm.add_constant(X_train[['volatile_acidity']])#Agrega el intercepto en un modelo de regresión\n",
        "log_reg = sm.Logit(ytrain, Xtrain).fit()\n",
        "log_reg.summary()"
      ]
    },
    {
      "cell_type": "code",
      "execution_count": 39,
      "id": "28667d9d-a596-44ae-8e83-279a0f956e01",
      "metadata": {
        "id": "28667d9d-a596-44ae-8e83-279a0f956e01"
      },
      "outputs": [
        {
          "name": "stdout",
          "output_type": "stream",
          "text": [
            "Optimization terminated successfully.\n",
            "         Current function value: 0.674251\n",
            "         Iterations 4\n"
          ]
        },
        {
          "data": {
            "text/html": [
              "<table class=\"simpletable\">\n",
              "<caption>Logit Regression Results</caption>\n",
              "<tr>\n",
              "  <th>Dep. Variable:</th>         <td>class</td>      <th>  No. Observations:  </th>  <td>  1119</td>  \n",
              "</tr>\n",
              "<tr>\n",
              "  <th>Model:</th>                 <td>Logit</td>      <th>  Df Residuals:      </th>  <td>  1117</td>  \n",
              "</tr>\n",
              "<tr>\n",
              "  <th>Method:</th>                 <td>MLE</td>       <th>  Df Model:          </th>  <td>     1</td>  \n",
              "</tr>\n",
              "<tr>\n",
              "  <th>Date:</th>            <td>Mon, 02 Sep 2024</td> <th>  Pseudo R-squ.:     </th>  <td>0.01753</td> \n",
              "</tr>\n",
              "<tr>\n",
              "  <th>Time:</th>                <td>22:05:40</td>     <th>  Log-Likelihood:    </th> <td> -754.49</td> \n",
              "</tr>\n",
              "<tr>\n",
              "  <th>converged:</th>             <td>True</td>       <th>  LL-Null:           </th> <td> -767.95</td> \n",
              "</tr>\n",
              "<tr>\n",
              "  <th>Covariance Type:</th>     <td>nonrobust</td>    <th>  LLR p-value:       </th> <td>2.123e-07</td>\n",
              "</tr>\n",
              "</table>\n",
              "<table class=\"simpletable\">\n",
              "<tr>\n",
              "       <td></td>          <th>coef</th>     <th>std err</th>      <th>z</th>      <th>P>|z|</th>  <th>[0.025</th>    <th>0.975]</th>  \n",
              "</tr>\n",
              "<tr>\n",
              "  <th>const</th>       <td>   -0.2059</td> <td>    0.105</td> <td>   -1.970</td> <td> 0.049</td> <td>   -0.411</td> <td>   -0.001</td>\n",
              "</tr>\n",
              "<tr>\n",
              "  <th>citric_acid</th> <td>    1.6434</td> <td>    0.322</td> <td>    5.111</td> <td> 0.000</td> <td>    1.013</td> <td>    2.274</td>\n",
              "</tr>\n",
              "</table>"
            ],
            "text/latex": [
              "\\begin{center}\n",
              "\\begin{tabular}{lclc}\n",
              "\\toprule\n",
              "\\textbf{Dep. Variable:}   &      class       & \\textbf{  No. Observations:  } &     1119    \\\\\n",
              "\\textbf{Model:}           &      Logit       & \\textbf{  Df Residuals:      } &     1117    \\\\\n",
              "\\textbf{Method:}          &       MLE        & \\textbf{  Df Model:          } &        1    \\\\\n",
              "\\textbf{Date:}            & Mon, 02 Sep 2024 & \\textbf{  Pseudo R-squ.:     } &  0.01753    \\\\\n",
              "\\textbf{Time:}            &     22:05:40     & \\textbf{  Log-Likelihood:    } &   -754.49   \\\\\n",
              "\\textbf{converged:}       &       True       & \\textbf{  LL-Null:           } &   -767.95   \\\\\n",
              "\\textbf{Covariance Type:} &    nonrobust     & \\textbf{  LLR p-value:       } & 2.123e-07   \\\\\n",
              "\\bottomrule\n",
              "\\end{tabular}\n",
              "\\begin{tabular}{lcccccc}\n",
              "                      & \\textbf{coef} & \\textbf{std err} & \\textbf{z} & \\textbf{P$> |$z$|$} & \\textbf{[0.025} & \\textbf{0.975]}  \\\\\n",
              "\\midrule\n",
              "\\textbf{const}        &      -0.2059  &        0.105     &    -1.970  &         0.049        &       -0.411    &       -0.001     \\\\\n",
              "\\textbf{citric\\_acid} &       1.6434  &        0.322     &     5.111  &         0.000        &        1.013    &        2.274     \\\\\n",
              "\\bottomrule\n",
              "\\end{tabular}\n",
              "%\\caption{Logit Regression Results}\n",
              "\\end{center}"
            ],
            "text/plain": [
              "<class 'statsmodels.iolib.summary.Summary'>\n",
              "\"\"\"\n",
              "                           Logit Regression Results                           \n",
              "==============================================================================\n",
              "Dep. Variable:                  class   No. Observations:                 1119\n",
              "Model:                          Logit   Df Residuals:                     1117\n",
              "Method:                           MLE   Df Model:                            1\n",
              "Date:                Mon, 02 Sep 2024   Pseudo R-squ.:                 0.01753\n",
              "Time:                        22:05:40   Log-Likelihood:                -754.49\n",
              "converged:                       True   LL-Null:                       -767.95\n",
              "Covariance Type:            nonrobust   LLR p-value:                 2.123e-07\n",
              "===============================================================================\n",
              "                  coef    std err          z      P>|z|      [0.025      0.975]\n",
              "-------------------------------------------------------------------------------\n",
              "const          -0.2059      0.105     -1.970      0.049      -0.411      -0.001\n",
              "citric_acid     1.6434      0.322      5.111      0.000       1.013       2.274\n",
              "===============================================================================\n",
              "\"\"\""
            ]
          },
          "execution_count": 39,
          "metadata": {},
          "output_type": "execute_result"
        }
      ],
      "source": [
        "ytrain = y_train\n",
        "Xtrain = sm.add_constant(X_train[['citric_acid']])#Agrega el intercepto en un modelo de regresión\n",
        "log_reg = sm.Logit(ytrain, Xtrain).fit()\n",
        "log_reg.summary()"
      ]
    },
    {
      "cell_type": "code",
      "execution_count": 40,
      "id": "12ccb01c-061a-4027-834b-c812ce783c50",
      "metadata": {
        "id": "12ccb01c-061a-4027-834b-c812ce783c50"
      },
      "outputs": [
        {
          "name": "stdout",
          "output_type": "stream",
          "text": [
            "Optimization terminated successfully.\n",
            "         Current function value: 0.686200\n",
            "         Iterations 4\n"
          ]
        },
        {
          "data": {
            "text/html": [
              "<table class=\"simpletable\">\n",
              "<caption>Logit Regression Results</caption>\n",
              "<tr>\n",
              "  <th>Dep. Variable:</th>         <td>class</td>      <th>  No. Observations:  </th>  <td>  1119</td>  \n",
              "</tr>\n",
              "<tr>\n",
              "  <th>Model:</th>                 <td>Logit</td>      <th>  Df Residuals:      </th>  <td>  1117</td>  \n",
              "</tr>\n",
              "<tr>\n",
              "  <th>Method:</th>                 <td>MLE</td>       <th>  Df Model:          </th>  <td>     1</td>  \n",
              "</tr>\n",
              "<tr>\n",
              "  <th>Date:</th>            <td>Mon, 02 Sep 2024</td> <th>  Pseudo R-squ.:     </th> <td>0.0001151</td>\n",
              "</tr>\n",
              "<tr>\n",
              "  <th>Time:</th>                <td>22:05:44</td>     <th>  Log-Likelihood:    </th> <td> -767.86</td> \n",
              "</tr>\n",
              "<tr>\n",
              "  <th>converged:</th>             <td>True</td>       <th>  LL-Null:           </th> <td> -767.95</td> \n",
              "</tr>\n",
              "<tr>\n",
              "  <th>Covariance Type:</th>     <td>nonrobust</td>    <th>  LLR p-value:       </th>  <td>0.6741</td>  \n",
              "</tr>\n",
              "</table>\n",
              "<table class=\"simpletable\">\n",
              "<tr>\n",
              "         <td></td>           <th>coef</th>     <th>std err</th>      <th>z</th>      <th>P>|z|</th>  <th>[0.025</th>    <th>0.975]</th>  \n",
              "</tr>\n",
              "<tr>\n",
              "  <th>const</th>          <td>    0.2818</td> <td>    0.126</td> <td>    2.235</td> <td> 0.025</td> <td>    0.035</td> <td>    0.529</td>\n",
              "</tr>\n",
              "<tr>\n",
              "  <th>residual_sugar</th> <td>   -0.0185</td> <td>    0.044</td> <td>   -0.421</td> <td> 0.674</td> <td>   -0.104</td> <td>    0.068</td>\n",
              "</tr>\n",
              "</table>"
            ],
            "text/latex": [
              "\\begin{center}\n",
              "\\begin{tabular}{lclc}\n",
              "\\toprule\n",
              "\\textbf{Dep. Variable:}   &      class       & \\textbf{  No. Observations:  } &     1119    \\\\\n",
              "\\textbf{Model:}           &      Logit       & \\textbf{  Df Residuals:      } &     1117    \\\\\n",
              "\\textbf{Method:}          &       MLE        & \\textbf{  Df Model:          } &        1    \\\\\n",
              "\\textbf{Date:}            & Mon, 02 Sep 2024 & \\textbf{  Pseudo R-squ.:     } & 0.0001151   \\\\\n",
              "\\textbf{Time:}            &     22:05:44     & \\textbf{  Log-Likelihood:    } &   -767.86   \\\\\n",
              "\\textbf{converged:}       &       True       & \\textbf{  LL-Null:           } &   -767.95   \\\\\n",
              "\\textbf{Covariance Type:} &    nonrobust     & \\textbf{  LLR p-value:       } &   0.6741    \\\\\n",
              "\\bottomrule\n",
              "\\end{tabular}\n",
              "\\begin{tabular}{lcccccc}\n",
              "                         & \\textbf{coef} & \\textbf{std err} & \\textbf{z} & \\textbf{P$> |$z$|$} & \\textbf{[0.025} & \\textbf{0.975]}  \\\\\n",
              "\\midrule\n",
              "\\textbf{const}           &       0.2818  &        0.126     &     2.235  &         0.025        &        0.035    &        0.529     \\\\\n",
              "\\textbf{residual\\_sugar} &      -0.0185  &        0.044     &    -0.421  &         0.674        &       -0.104    &        0.068     \\\\\n",
              "\\bottomrule\n",
              "\\end{tabular}\n",
              "%\\caption{Logit Regression Results}\n",
              "\\end{center}"
            ],
            "text/plain": [
              "<class 'statsmodels.iolib.summary.Summary'>\n",
              "\"\"\"\n",
              "                           Logit Regression Results                           \n",
              "==============================================================================\n",
              "Dep. Variable:                  class   No. Observations:                 1119\n",
              "Model:                          Logit   Df Residuals:                     1117\n",
              "Method:                           MLE   Df Model:                            1\n",
              "Date:                Mon, 02 Sep 2024   Pseudo R-squ.:               0.0001151\n",
              "Time:                        22:05:44   Log-Likelihood:                -767.86\n",
              "converged:                       True   LL-Null:                       -767.95\n",
              "Covariance Type:            nonrobust   LLR p-value:                    0.6741\n",
              "==================================================================================\n",
              "                     coef    std err          z      P>|z|      [0.025      0.975]\n",
              "----------------------------------------------------------------------------------\n",
              "const              0.2818      0.126      2.235      0.025       0.035       0.529\n",
              "residual_sugar    -0.0185      0.044     -0.421      0.674      -0.104       0.068\n",
              "==================================================================================\n",
              "\"\"\""
            ]
          },
          "execution_count": 40,
          "metadata": {},
          "output_type": "execute_result"
        }
      ],
      "source": [
        "ytrain = y_train\n",
        "Xtrain = sm.add_constant(X_train[['residual_sugar']])#Agrega el intercepto en un modelo de regresión\n",
        "log_reg = sm.Logit(ytrain, Xtrain).fit()\n",
        "log_reg.summary()"
      ]
    },
    {
      "cell_type": "code",
      "execution_count": 41,
      "id": "4a109fbd-6bfb-4ec8-97b9-cbee116eeb56",
      "metadata": {
        "id": "4a109fbd-6bfb-4ec8-97b9-cbee116eeb56"
      },
      "outputs": [
        {
          "name": "stdout",
          "output_type": "stream",
          "text": [
            "Optimization terminated successfully.\n",
            "         Current function value: 0.677228\n",
            "         Iterations 6\n"
          ]
        },
        {
          "data": {
            "text/html": [
              "<table class=\"simpletable\">\n",
              "<caption>Logit Regression Results</caption>\n",
              "<tr>\n",
              "  <th>Dep. Variable:</th>         <td>class</td>      <th>  No. Observations:  </th>  <td>  1119</td>  \n",
              "</tr>\n",
              "<tr>\n",
              "  <th>Model:</th>                 <td>Logit</td>      <th>  Df Residuals:      </th>  <td>  1117</td>  \n",
              "</tr>\n",
              "<tr>\n",
              "  <th>Method:</th>                 <td>MLE</td>       <th>  Df Model:          </th>  <td>     1</td>  \n",
              "</tr>\n",
              "<tr>\n",
              "  <th>Date:</th>            <td>Mon, 02 Sep 2024</td> <th>  Pseudo R-squ.:     </th>  <td>0.01319</td> \n",
              "</tr>\n",
              "<tr>\n",
              "  <th>Time:</th>                <td>22:05:47</td>     <th>  Log-Likelihood:    </th> <td> -757.82</td> \n",
              "</tr>\n",
              "<tr>\n",
              "  <th>converged:</th>             <td>True</td>       <th>  LL-Null:           </th> <td> -767.95</td> \n",
              "</tr>\n",
              "<tr>\n",
              "  <th>Covariance Type:</th>     <td>nonrobust</td>    <th>  LLR p-value:       </th> <td>6.772e-06</td>\n",
              "</tr>\n",
              "</table>\n",
              "<table class=\"simpletable\">\n",
              "<tr>\n",
              "      <td></td>         <th>coef</th>     <th>std err</th>      <th>z</th>      <th>P>|z|</th>  <th>[0.025</th>    <th>0.975]</th>  \n",
              "</tr>\n",
              "<tr>\n",
              "  <th>const</th>     <td>    0.8110</td> <td>    0.157</td> <td>    5.150</td> <td> 0.000</td> <td>    0.502</td> <td>    1.120</td>\n",
              "</tr>\n",
              "<tr>\n",
              "  <th>chlorides</th> <td>   -6.6618</td> <td>    1.714</td> <td>   -3.888</td> <td> 0.000</td> <td>  -10.020</td> <td>   -3.303</td>\n",
              "</tr>\n",
              "</table>"
            ],
            "text/latex": [
              "\\begin{center}\n",
              "\\begin{tabular}{lclc}\n",
              "\\toprule\n",
              "\\textbf{Dep. Variable:}   &      class       & \\textbf{  No. Observations:  } &     1119    \\\\\n",
              "\\textbf{Model:}           &      Logit       & \\textbf{  Df Residuals:      } &     1117    \\\\\n",
              "\\textbf{Method:}          &       MLE        & \\textbf{  Df Model:          } &        1    \\\\\n",
              "\\textbf{Date:}            & Mon, 02 Sep 2024 & \\textbf{  Pseudo R-squ.:     } &  0.01319    \\\\\n",
              "\\textbf{Time:}            &     22:05:47     & \\textbf{  Log-Likelihood:    } &   -757.82   \\\\\n",
              "\\textbf{converged:}       &       True       & \\textbf{  LL-Null:           } &   -767.95   \\\\\n",
              "\\textbf{Covariance Type:} &    nonrobust     & \\textbf{  LLR p-value:       } & 6.772e-06   \\\\\n",
              "\\bottomrule\n",
              "\\end{tabular}\n",
              "\\begin{tabular}{lcccccc}\n",
              "                   & \\textbf{coef} & \\textbf{std err} & \\textbf{z} & \\textbf{P$> |$z$|$} & \\textbf{[0.025} & \\textbf{0.975]}  \\\\\n",
              "\\midrule\n",
              "\\textbf{const}     &       0.8110  &        0.157     &     5.150  &         0.000        &        0.502    &        1.120     \\\\\n",
              "\\textbf{chlorides} &      -6.6618  &        1.714     &    -3.888  &         0.000        &      -10.020    &       -3.303     \\\\\n",
              "\\bottomrule\n",
              "\\end{tabular}\n",
              "%\\caption{Logit Regression Results}\n",
              "\\end{center}"
            ],
            "text/plain": [
              "<class 'statsmodels.iolib.summary.Summary'>\n",
              "\"\"\"\n",
              "                           Logit Regression Results                           \n",
              "==============================================================================\n",
              "Dep. Variable:                  class   No. Observations:                 1119\n",
              "Model:                          Logit   Df Residuals:                     1117\n",
              "Method:                           MLE   Df Model:                            1\n",
              "Date:                Mon, 02 Sep 2024   Pseudo R-squ.:                 0.01319\n",
              "Time:                        22:05:47   Log-Likelihood:                -757.82\n",
              "converged:                       True   LL-Null:                       -767.95\n",
              "Covariance Type:            nonrobust   LLR p-value:                 6.772e-06\n",
              "==============================================================================\n",
              "                 coef    std err          z      P>|z|      [0.025      0.975]\n",
              "------------------------------------------------------------------------------\n",
              "const          0.8110      0.157      5.150      0.000       0.502       1.120\n",
              "chlorides     -6.6618      1.714     -3.888      0.000     -10.020      -3.303\n",
              "==============================================================================\n",
              "\"\"\""
            ]
          },
          "execution_count": 41,
          "metadata": {},
          "output_type": "execute_result"
        }
      ],
      "source": [
        "ytrain = y_train\n",
        "Xtrain = sm.add_constant(X_train[['chlorides']])#Agrega el intercepto en un modelo de regresión\n",
        "log_reg = sm.Logit(ytrain, Xtrain).fit()\n",
        "log_reg.summary()"
      ]
    },
    {
      "cell_type": "code",
      "execution_count": 42,
      "id": "1838f437-2d83-4a8c-9f74-d2951c8915c5",
      "metadata": {
        "id": "1838f437-2d83-4a8c-9f74-d2951c8915c5"
      },
      "outputs": [
        {
          "name": "stdout",
          "output_type": "stream",
          "text": [
            "Optimization terminated successfully.\n",
            "         Current function value: 0.684571\n",
            "         Iterations 4\n"
          ]
        },
        {
          "data": {
            "text/html": [
              "<table class=\"simpletable\">\n",
              "<caption>Logit Regression Results</caption>\n",
              "<tr>\n",
              "  <th>Dep. Variable:</th>         <td>class</td>      <th>  No. Observations:  </th>  <td>  1119</td> \n",
              "</tr>\n",
              "<tr>\n",
              "  <th>Model:</th>                 <td>Logit</td>      <th>  Df Residuals:      </th>  <td>  1117</td> \n",
              "</tr>\n",
              "<tr>\n",
              "  <th>Method:</th>                 <td>MLE</td>       <th>  Df Model:          </th>  <td>     1</td> \n",
              "</tr>\n",
              "<tr>\n",
              "  <th>Date:</th>            <td>Mon, 02 Sep 2024</td> <th>  Pseudo R-squ.:     </th> <td>0.002489</td>\n",
              "</tr>\n",
              "<tr>\n",
              "  <th>Time:</th>                <td>22:05:54</td>     <th>  Log-Likelihood:    </th> <td> -766.03</td>\n",
              "</tr>\n",
              "<tr>\n",
              "  <th>converged:</th>             <td>True</td>       <th>  LL-Null:           </th> <td> -767.95</td>\n",
              "</tr>\n",
              "<tr>\n",
              "  <th>Covariance Type:</th>     <td>nonrobust</td>    <th>  LLR p-value:       </th>  <td>0.05055</td>\n",
              "</tr>\n",
              "</table>\n",
              "<table class=\"simpletable\">\n",
              "<tr>\n",
              "           <td></td>              <th>coef</th>     <th>std err</th>      <th>z</th>      <th>P>|z|</th>  <th>[0.025</th>    <th>0.975]</th>  \n",
              "</tr>\n",
              "<tr>\n",
              "  <th>const</th>               <td>    0.4095</td> <td>    0.108</td> <td>    3.794</td> <td> 0.000</td> <td>    0.198</td> <td>    0.621</td>\n",
              "</tr>\n",
              "<tr>\n",
              "  <th>free_sulfur_dioxide</th> <td>   -0.0109</td> <td>    0.006</td> <td>   -1.952</td> <td> 0.051</td> <td>   -0.022</td> <td> 4.37e-05</td>\n",
              "</tr>\n",
              "</table>"
            ],
            "text/latex": [
              "\\begin{center}\n",
              "\\begin{tabular}{lclc}\n",
              "\\toprule\n",
              "\\textbf{Dep. Variable:}        &      class       & \\textbf{  No. Observations:  } &     1119    \\\\\n",
              "\\textbf{Model:}                &      Logit       & \\textbf{  Df Residuals:      } &     1117    \\\\\n",
              "\\textbf{Method:}               &       MLE        & \\textbf{  Df Model:          } &        1    \\\\\n",
              "\\textbf{Date:}                 & Mon, 02 Sep 2024 & \\textbf{  Pseudo R-squ.:     } &  0.002489   \\\\\n",
              "\\textbf{Time:}                 &     22:05:54     & \\textbf{  Log-Likelihood:    } &   -766.03   \\\\\n",
              "\\textbf{converged:}            &       True       & \\textbf{  LL-Null:           } &   -767.95   \\\\\n",
              "\\textbf{Covariance Type:}      &    nonrobust     & \\textbf{  LLR p-value:       } &  0.05055    \\\\\n",
              "\\bottomrule\n",
              "\\end{tabular}\n",
              "\\begin{tabular}{lcccccc}\n",
              "                               & \\textbf{coef} & \\textbf{std err} & \\textbf{z} & \\textbf{P$> |$z$|$} & \\textbf{[0.025} & \\textbf{0.975]}  \\\\\n",
              "\\midrule\n",
              "\\textbf{const}                 &       0.4095  &        0.108     &     3.794  &         0.000        &        0.198    &        0.621     \\\\\n",
              "\\textbf{free\\_sulfur\\_dioxide} &      -0.0109  &        0.006     &    -1.952  &         0.051        &       -0.022    &     4.37e-05     \\\\\n",
              "\\bottomrule\n",
              "\\end{tabular}\n",
              "%\\caption{Logit Regression Results}\n",
              "\\end{center}"
            ],
            "text/plain": [
              "<class 'statsmodels.iolib.summary.Summary'>\n",
              "\"\"\"\n",
              "                           Logit Regression Results                           \n",
              "==============================================================================\n",
              "Dep. Variable:                  class   No. Observations:                 1119\n",
              "Model:                          Logit   Df Residuals:                     1117\n",
              "Method:                           MLE   Df Model:                            1\n",
              "Date:                Mon, 02 Sep 2024   Pseudo R-squ.:                0.002489\n",
              "Time:                        22:05:54   Log-Likelihood:                -766.03\n",
              "converged:                       True   LL-Null:                       -767.95\n",
              "Covariance Type:            nonrobust   LLR p-value:                   0.05055\n",
              "=======================================================================================\n",
              "                          coef    std err          z      P>|z|      [0.025      0.975]\n",
              "---------------------------------------------------------------------------------------\n",
              "const                   0.4095      0.108      3.794      0.000       0.198       0.621\n",
              "free_sulfur_dioxide    -0.0109      0.006     -1.952      0.051      -0.022    4.37e-05\n",
              "=======================================================================================\n",
              "\"\"\""
            ]
          },
          "execution_count": 42,
          "metadata": {},
          "output_type": "execute_result"
        }
      ],
      "source": [
        "ytrain = y_train\n",
        "Xtrain = sm.add_constant(X_train[['free_sulfur_dioxide']])#Agrega el intercepto en un modelo de regresión\n",
        "log_reg = sm.Logit(ytrain, Xtrain).fit()\n",
        "log_reg.summary()"
      ]
    },
    {
      "cell_type": "code",
      "execution_count": 43,
      "id": "bcbd6d19-32f3-4763-942d-65925a91eec5",
      "metadata": {
        "id": "bcbd6d19-32f3-4763-942d-65925a91eec5"
      },
      "outputs": [
        {
          "name": "stdout",
          "output_type": "stream",
          "text": [
            "Optimization terminated successfully.\n",
            "         Current function value: 0.657158\n",
            "         Iterations 5\n"
          ]
        },
        {
          "data": {
            "text/html": [
              "<table class=\"simpletable\">\n",
              "<caption>Logit Regression Results</caption>\n",
              "<tr>\n",
              "  <th>Dep. Variable:</th>         <td>class</td>      <th>  No. Observations:  </th>  <td>  1119</td>  \n",
              "</tr>\n",
              "<tr>\n",
              "  <th>Model:</th>                 <td>Logit</td>      <th>  Df Residuals:      </th>  <td>  1117</td>  \n",
              "</tr>\n",
              "<tr>\n",
              "  <th>Method:</th>                 <td>MLE</td>       <th>  Df Model:          </th>  <td>     1</td>  \n",
              "</tr>\n",
              "<tr>\n",
              "  <th>Date:</th>            <td>Mon, 02 Sep 2024</td> <th>  Pseudo R-squ.:     </th>  <td>0.04243</td> \n",
              "</tr>\n",
              "<tr>\n",
              "  <th>Time:</th>                <td>22:06:01</td>     <th>  Log-Likelihood:    </th> <td> -735.36</td> \n",
              "</tr>\n",
              "<tr>\n",
              "  <th>converged:</th>             <td>True</td>       <th>  LL-Null:           </th> <td> -767.95</td> \n",
              "</tr>\n",
              "<tr>\n",
              "  <th>Covariance Type:</th>     <td>nonrobust</td>    <th>  LLR p-value:       </th> <td>6.864e-16</td>\n",
              "</tr>\n",
              "</table>\n",
              "<table class=\"simpletable\">\n",
              "<tr>\n",
              "            <td></td>              <th>coef</th>     <th>std err</th>      <th>z</th>      <th>P>|z|</th>  <th>[0.025</th>    <th>0.975]</th>  \n",
              "</tr>\n",
              "<tr>\n",
              "  <th>const</th>                <td>    0.9604</td> <td>    0.112</td> <td>    8.590</td> <td> 0.000</td> <td>    0.741</td> <td>    1.180</td>\n",
              "</tr>\n",
              "<tr>\n",
              "  <th>total_sulfur_dioxide</th> <td>   -0.0159</td> <td>    0.002</td> <td>   -7.704</td> <td> 0.000</td> <td>   -0.020</td> <td>   -0.012</td>\n",
              "</tr>\n",
              "</table>"
            ],
            "text/latex": [
              "\\begin{center}\n",
              "\\begin{tabular}{lclc}\n",
              "\\toprule\n",
              "\\textbf{Dep. Variable:}         &      class       & \\textbf{  No. Observations:  } &     1119    \\\\\n",
              "\\textbf{Model:}                 &      Logit       & \\textbf{  Df Residuals:      } &     1117    \\\\\n",
              "\\textbf{Method:}                &       MLE        & \\textbf{  Df Model:          } &        1    \\\\\n",
              "\\textbf{Date:}                  & Mon, 02 Sep 2024 & \\textbf{  Pseudo R-squ.:     } &  0.04243    \\\\\n",
              "\\textbf{Time:}                  &     22:06:01     & \\textbf{  Log-Likelihood:    } &   -735.36   \\\\\n",
              "\\textbf{converged:}             &       True       & \\textbf{  LL-Null:           } &   -767.95   \\\\\n",
              "\\textbf{Covariance Type:}       &    nonrobust     & \\textbf{  LLR p-value:       } & 6.864e-16   \\\\\n",
              "\\bottomrule\n",
              "\\end{tabular}\n",
              "\\begin{tabular}{lcccccc}\n",
              "                                & \\textbf{coef} & \\textbf{std err} & \\textbf{z} & \\textbf{P$> |$z$|$} & \\textbf{[0.025} & \\textbf{0.975]}  \\\\\n",
              "\\midrule\n",
              "\\textbf{const}                  &       0.9604  &        0.112     &     8.590  &         0.000        &        0.741    &        1.180     \\\\\n",
              "\\textbf{total\\_sulfur\\_dioxide} &      -0.0159  &        0.002     &    -7.704  &         0.000        &       -0.020    &       -0.012     \\\\\n",
              "\\bottomrule\n",
              "\\end{tabular}\n",
              "%\\caption{Logit Regression Results}\n",
              "\\end{center}"
            ],
            "text/plain": [
              "<class 'statsmodels.iolib.summary.Summary'>\n",
              "\"\"\"\n",
              "                           Logit Regression Results                           \n",
              "==============================================================================\n",
              "Dep. Variable:                  class   No. Observations:                 1119\n",
              "Model:                          Logit   Df Residuals:                     1117\n",
              "Method:                           MLE   Df Model:                            1\n",
              "Date:                Mon, 02 Sep 2024   Pseudo R-squ.:                 0.04243\n",
              "Time:                        22:06:01   Log-Likelihood:                -735.36\n",
              "converged:                       True   LL-Null:                       -767.95\n",
              "Covariance Type:            nonrobust   LLR p-value:                 6.864e-16\n",
              "========================================================================================\n",
              "                           coef    std err          z      P>|z|      [0.025      0.975]\n",
              "----------------------------------------------------------------------------------------\n",
              "const                    0.9604      0.112      8.590      0.000       0.741       1.180\n",
              "total_sulfur_dioxide    -0.0159      0.002     -7.704      0.000      -0.020      -0.012\n",
              "========================================================================================\n",
              "\"\"\""
            ]
          },
          "execution_count": 43,
          "metadata": {},
          "output_type": "execute_result"
        }
      ],
      "source": [
        "ytrain = y_train\n",
        "Xtrain = sm.add_constant(X_train[['total_sulfur_dioxide']])#Agrega el intercepto en un modelo de regresión\n",
        "log_reg = sm.Logit(ytrain, Xtrain).fit()\n",
        "log_reg.summary()"
      ]
    },
    {
      "cell_type": "code",
      "execution_count": 44,
      "id": "becdd97c-edb3-42d3-af6f-0dd15a006f37",
      "metadata": {
        "id": "becdd97c-edb3-42d3-af6f-0dd15a006f37"
      },
      "outputs": [
        {
          "name": "stdout",
          "output_type": "stream",
          "text": [
            "Optimization terminated successfully.\n",
            "         Current function value: 0.673219\n",
            "         Iterations 5\n"
          ]
        },
        {
          "data": {
            "text/html": [
              "<table class=\"simpletable\">\n",
              "<caption>Logit Regression Results</caption>\n",
              "<tr>\n",
              "  <th>Dep. Variable:</th>         <td>class</td>      <th>  No. Observations:  </th>  <td>  1119</td>  \n",
              "</tr>\n",
              "<tr>\n",
              "  <th>Model:</th>                 <td>Logit</td>      <th>  Df Residuals:      </th>  <td>  1117</td>  \n",
              "</tr>\n",
              "<tr>\n",
              "  <th>Method:</th>                 <td>MLE</td>       <th>  Df Model:          </th>  <td>     1</td>  \n",
              "</tr>\n",
              "<tr>\n",
              "  <th>Date:</th>            <td>Mon, 02 Sep 2024</td> <th>  Pseudo R-squ.:     </th>  <td>0.01903</td> \n",
              "</tr>\n",
              "<tr>\n",
              "  <th>Time:</th>                <td>22:06:04</td>     <th>  Log-Likelihood:    </th> <td> -753.33</td> \n",
              "</tr>\n",
              "<tr>\n",
              "  <th>converged:</th>             <td>True</td>       <th>  LL-Null:           </th> <td> -767.95</td> \n",
              "</tr>\n",
              "<tr>\n",
              "  <th>Covariance Type:</th>     <td>nonrobust</td>    <th>  LLR p-value:       </th> <td>6.431e-08</td>\n",
              "</tr>\n",
              "</table>\n",
              "<table class=\"simpletable\">\n",
              "<tr>\n",
              "     <td></td>        <th>coef</th>     <th>std err</th>      <th>z</th>      <th>P>|z|</th>  <th>[0.025</th>    <th>0.975]</th>  \n",
              "</tr>\n",
              "<tr>\n",
              "  <th>const</th>   <td>  173.9914</td> <td>   32.948</td> <td>    5.281</td> <td> 0.000</td> <td>  109.415</td> <td>  238.568</td>\n",
              "</tr>\n",
              "<tr>\n",
              "  <th>density</th> <td> -174.3206</td> <td>   33.054</td> <td>   -5.274</td> <td> 0.000</td> <td> -239.105</td> <td> -109.536</td>\n",
              "</tr>\n",
              "</table>"
            ],
            "text/latex": [
              "\\begin{center}\n",
              "\\begin{tabular}{lclc}\n",
              "\\toprule\n",
              "\\textbf{Dep. Variable:}   &      class       & \\textbf{  No. Observations:  } &     1119    \\\\\n",
              "\\textbf{Model:}           &      Logit       & \\textbf{  Df Residuals:      } &     1117    \\\\\n",
              "\\textbf{Method:}          &       MLE        & \\textbf{  Df Model:          } &        1    \\\\\n",
              "\\textbf{Date:}            & Mon, 02 Sep 2024 & \\textbf{  Pseudo R-squ.:     } &  0.01903    \\\\\n",
              "\\textbf{Time:}            &     22:06:04     & \\textbf{  Log-Likelihood:    } &   -753.33   \\\\\n",
              "\\textbf{converged:}       &       True       & \\textbf{  LL-Null:           } &   -767.95   \\\\\n",
              "\\textbf{Covariance Type:} &    nonrobust     & \\textbf{  LLR p-value:       } & 6.431e-08   \\\\\n",
              "\\bottomrule\n",
              "\\end{tabular}\n",
              "\\begin{tabular}{lcccccc}\n",
              "                 & \\textbf{coef} & \\textbf{std err} & \\textbf{z} & \\textbf{P$> |$z$|$} & \\textbf{[0.025} & \\textbf{0.975]}  \\\\\n",
              "\\midrule\n",
              "\\textbf{const}   &     173.9914  &       32.948     &     5.281  &         0.000        &      109.415    &      238.568     \\\\\n",
              "\\textbf{density} &    -174.3206  &       33.054     &    -5.274  &         0.000        &     -239.105    &     -109.536     \\\\\n",
              "\\bottomrule\n",
              "\\end{tabular}\n",
              "%\\caption{Logit Regression Results}\n",
              "\\end{center}"
            ],
            "text/plain": [
              "<class 'statsmodels.iolib.summary.Summary'>\n",
              "\"\"\"\n",
              "                           Logit Regression Results                           \n",
              "==============================================================================\n",
              "Dep. Variable:                  class   No. Observations:                 1119\n",
              "Model:                          Logit   Df Residuals:                     1117\n",
              "Method:                           MLE   Df Model:                            1\n",
              "Date:                Mon, 02 Sep 2024   Pseudo R-squ.:                 0.01903\n",
              "Time:                        22:06:04   Log-Likelihood:                -753.33\n",
              "converged:                       True   LL-Null:                       -767.95\n",
              "Covariance Type:            nonrobust   LLR p-value:                 6.431e-08\n",
              "==============================================================================\n",
              "                 coef    std err          z      P>|z|      [0.025      0.975]\n",
              "------------------------------------------------------------------------------\n",
              "const        173.9914     32.948      5.281      0.000     109.415     238.568\n",
              "density     -174.3206     33.054     -5.274      0.000    -239.105    -109.536\n",
              "==============================================================================\n",
              "\"\"\""
            ]
          },
          "execution_count": 44,
          "metadata": {},
          "output_type": "execute_result"
        }
      ],
      "source": [
        "ytrain = y_train\n",
        "Xtrain = sm.add_constant(X_train[['density']])#Agrega el intercepto en un modelo de regresión\n",
        "log_reg = sm.Logit(ytrain, Xtrain).fit()\n",
        "log_reg.summary()"
      ]
    },
    {
      "cell_type": "code",
      "execution_count": 45,
      "id": "6fe87850-fafc-414b-bc3f-ac2cf7dc4365",
      "metadata": {
        "id": "6fe87850-fafc-414b-bc3f-ac2cf7dc4365"
      },
      "outputs": [
        {
          "name": "stdout",
          "output_type": "stream",
          "text": [
            "Optimization terminated successfully.\n",
            "         Current function value: 0.686138\n",
            "         Iterations 4\n"
          ]
        },
        {
          "data": {
            "text/html": [
              "<table class=\"simpletable\">\n",
              "<caption>Logit Regression Results</caption>\n",
              "<tr>\n",
              "  <th>Dep. Variable:</th>         <td>class</td>      <th>  No. Observations:  </th>  <td>  1119</td>  \n",
              "</tr>\n",
              "<tr>\n",
              "  <th>Model:</th>                 <td>Logit</td>      <th>  Df Residuals:      </th>  <td>  1117</td>  \n",
              "</tr>\n",
              "<tr>\n",
              "  <th>Method:</th>                 <td>MLE</td>       <th>  Df Model:          </th>  <td>     1</td>  \n",
              "</tr>\n",
              "<tr>\n",
              "  <th>Date:</th>            <td>Mon, 02 Sep 2024</td> <th>  Pseudo R-squ.:     </th> <td>0.0002060</td>\n",
              "</tr>\n",
              "<tr>\n",
              "  <th>Time:</th>                <td>22:06:07</td>     <th>  Log-Likelihood:    </th> <td> -767.79</td> \n",
              "</tr>\n",
              "<tr>\n",
              "  <th>converged:</th>             <td>True</td>       <th>  LL-Null:           </th> <td> -767.95</td> \n",
              "</tr>\n",
              "<tr>\n",
              "  <th>Covariance Type:</th>     <td>nonrobust</td>    <th>  LLR p-value:       </th>  <td>0.5738</td>  \n",
              "</tr>\n",
              "</table>\n",
              "<table class=\"simpletable\">\n",
              "<tr>\n",
              "    <td></td>       <th>coef</th>     <th>std err</th>      <th>z</th>      <th>P>|z|</th>  <th>[0.025</th>    <th>0.975]</th>  \n",
              "</tr>\n",
              "<tr>\n",
              "  <th>const</th> <td>   -0.4959</td> <td>    1.301</td> <td>   -0.381</td> <td> 0.703</td> <td>   -3.047</td> <td>    2.055</td>\n",
              "</tr>\n",
              "<tr>\n",
              "  <th>pH</th>    <td>    0.2208</td> <td>    0.393</td> <td>    0.562</td> <td> 0.574</td> <td>   -0.549</td> <td>    0.990</td>\n",
              "</tr>\n",
              "</table>"
            ],
            "text/latex": [
              "\\begin{center}\n",
              "\\begin{tabular}{lclc}\n",
              "\\toprule\n",
              "\\textbf{Dep. Variable:}   &      class       & \\textbf{  No. Observations:  } &     1119    \\\\\n",
              "\\textbf{Model:}           &      Logit       & \\textbf{  Df Residuals:      } &     1117    \\\\\n",
              "\\textbf{Method:}          &       MLE        & \\textbf{  Df Model:          } &        1    \\\\\n",
              "\\textbf{Date:}            & Mon, 02 Sep 2024 & \\textbf{  Pseudo R-squ.:     } & 0.0002060   \\\\\n",
              "\\textbf{Time:}            &     22:06:07     & \\textbf{  Log-Likelihood:    } &   -767.79   \\\\\n",
              "\\textbf{converged:}       &       True       & \\textbf{  LL-Null:           } &   -767.95   \\\\\n",
              "\\textbf{Covariance Type:} &    nonrobust     & \\textbf{  LLR p-value:       } &   0.5738    \\\\\n",
              "\\bottomrule\n",
              "\\end{tabular}\n",
              "\\begin{tabular}{lcccccc}\n",
              "               & \\textbf{coef} & \\textbf{std err} & \\textbf{z} & \\textbf{P$> |$z$|$} & \\textbf{[0.025} & \\textbf{0.975]}  \\\\\n",
              "\\midrule\n",
              "\\textbf{const} &      -0.4959  &        1.301     &    -0.381  &         0.703        &       -3.047    &        2.055     \\\\\n",
              "\\textbf{pH}    &       0.2208  &        0.393     &     0.562  &         0.574        &       -0.549    &        0.990     \\\\\n",
              "\\bottomrule\n",
              "\\end{tabular}\n",
              "%\\caption{Logit Regression Results}\n",
              "\\end{center}"
            ],
            "text/plain": [
              "<class 'statsmodels.iolib.summary.Summary'>\n",
              "\"\"\"\n",
              "                           Logit Regression Results                           \n",
              "==============================================================================\n",
              "Dep. Variable:                  class   No. Observations:                 1119\n",
              "Model:                          Logit   Df Residuals:                     1117\n",
              "Method:                           MLE   Df Model:                            1\n",
              "Date:                Mon, 02 Sep 2024   Pseudo R-squ.:               0.0002060\n",
              "Time:                        22:06:07   Log-Likelihood:                -767.79\n",
              "converged:                       True   LL-Null:                       -767.95\n",
              "Covariance Type:            nonrobust   LLR p-value:                    0.5738\n",
              "==============================================================================\n",
              "                 coef    std err          z      P>|z|      [0.025      0.975]\n",
              "------------------------------------------------------------------------------\n",
              "const         -0.4959      1.301     -0.381      0.703      -3.047       2.055\n",
              "pH             0.2208      0.393      0.562      0.574      -0.549       0.990\n",
              "==============================================================================\n",
              "\"\"\""
            ]
          },
          "execution_count": 45,
          "metadata": {},
          "output_type": "execute_result"
        }
      ],
      "source": [
        "ytrain = y_train\n",
        "Xtrain = sm.add_constant(X_train[['pH']])#Agrega el intercepto en un modelo de regresión\n",
        "log_reg = sm.Logit(ytrain, Xtrain).fit()\n",
        "log_reg.summary()"
      ]
    },
    {
      "cell_type": "code",
      "execution_count": 46,
      "id": "2812614b-db08-44f1-91aa-8e398d16e814",
      "metadata": {
        "id": "2812614b-db08-44f1-91aa-8e398d16e814"
      },
      "outputs": [
        {
          "name": "stdout",
          "output_type": "stream",
          "text": [
            "Optimization terminated successfully.\n",
            "         Current function value: 0.662930\n",
            "         Iterations 5\n"
          ]
        },
        {
          "data": {
            "text/html": [
              "<table class=\"simpletable\">\n",
              "<caption>Logit Regression Results</caption>\n",
              "<tr>\n",
              "  <th>Dep. Variable:</th>         <td>class</td>      <th>  No. Observations:  </th>  <td>  1119</td>  \n",
              "</tr>\n",
              "<tr>\n",
              "  <th>Model:</th>                 <td>Logit</td>      <th>  Df Residuals:      </th>  <td>  1117</td>  \n",
              "</tr>\n",
              "<tr>\n",
              "  <th>Method:</th>                 <td>MLE</td>       <th>  Df Model:          </th>  <td>     1</td>  \n",
              "</tr>\n",
              "<tr>\n",
              "  <th>Date:</th>            <td>Mon, 02 Sep 2024</td> <th>  Pseudo R-squ.:     </th>  <td>0.03402</td> \n",
              "</tr>\n",
              "<tr>\n",
              "  <th>Time:</th>                <td>22:06:10</td>     <th>  Log-Likelihood:    </th> <td> -741.82</td> \n",
              "</tr>\n",
              "<tr>\n",
              "  <th>converged:</th>             <td>True</td>       <th>  LL-Null:           </th> <td> -767.95</td> \n",
              "</tr>\n",
              "<tr>\n",
              "  <th>Covariance Type:</th>     <td>nonrobust</td>    <th>  LLR p-value:       </th> <td>4.873e-13</td>\n",
              "</tr>\n",
              "</table>\n",
              "<table class=\"simpletable\">\n",
              "<tr>\n",
              "      <td></td>         <th>coef</th>     <th>std err</th>      <th>z</th>      <th>P>|z|</th>  <th>[0.025</th>    <th>0.975]</th>  \n",
              "</tr>\n",
              "<tr>\n",
              "  <th>const</th>     <td>   -1.7013</td> <td>    0.298</td> <td>   -5.717</td> <td> 0.000</td> <td>   -2.285</td> <td>   -1.118</td>\n",
              "</tr>\n",
              "<tr>\n",
              "  <th>sulphates</th> <td>    2.9711</td> <td>    0.453</td> <td>    6.552</td> <td> 0.000</td> <td>    2.082</td> <td>    3.860</td>\n",
              "</tr>\n",
              "</table>"
            ],
            "text/latex": [
              "\\begin{center}\n",
              "\\begin{tabular}{lclc}\n",
              "\\toprule\n",
              "\\textbf{Dep. Variable:}   &      class       & \\textbf{  No. Observations:  } &     1119    \\\\\n",
              "\\textbf{Model:}           &      Logit       & \\textbf{  Df Residuals:      } &     1117    \\\\\n",
              "\\textbf{Method:}          &       MLE        & \\textbf{  Df Model:          } &        1    \\\\\n",
              "\\textbf{Date:}            & Mon, 02 Sep 2024 & \\textbf{  Pseudo R-squ.:     } &  0.03402    \\\\\n",
              "\\textbf{Time:}            &     22:06:10     & \\textbf{  Log-Likelihood:    } &   -741.82   \\\\\n",
              "\\textbf{converged:}       &       True       & \\textbf{  LL-Null:           } &   -767.95   \\\\\n",
              "\\textbf{Covariance Type:} &    nonrobust     & \\textbf{  LLR p-value:       } & 4.873e-13   \\\\\n",
              "\\bottomrule\n",
              "\\end{tabular}\n",
              "\\begin{tabular}{lcccccc}\n",
              "                   & \\textbf{coef} & \\textbf{std err} & \\textbf{z} & \\textbf{P$> |$z$|$} & \\textbf{[0.025} & \\textbf{0.975]}  \\\\\n",
              "\\midrule\n",
              "\\textbf{const}     &      -1.7013  &        0.298     &    -5.717  &         0.000        &       -2.285    &       -1.118     \\\\\n",
              "\\textbf{sulphates} &       2.9711  &        0.453     &     6.552  &         0.000        &        2.082    &        3.860     \\\\\n",
              "\\bottomrule\n",
              "\\end{tabular}\n",
              "%\\caption{Logit Regression Results}\n",
              "\\end{center}"
            ],
            "text/plain": [
              "<class 'statsmodels.iolib.summary.Summary'>\n",
              "\"\"\"\n",
              "                           Logit Regression Results                           \n",
              "==============================================================================\n",
              "Dep. Variable:                  class   No. Observations:                 1119\n",
              "Model:                          Logit   Df Residuals:                     1117\n",
              "Method:                           MLE   Df Model:                            1\n",
              "Date:                Mon, 02 Sep 2024   Pseudo R-squ.:                 0.03402\n",
              "Time:                        22:06:10   Log-Likelihood:                -741.82\n",
              "converged:                       True   LL-Null:                       -767.95\n",
              "Covariance Type:            nonrobust   LLR p-value:                 4.873e-13\n",
              "==============================================================================\n",
              "                 coef    std err          z      P>|z|      [0.025      0.975]\n",
              "------------------------------------------------------------------------------\n",
              "const         -1.7013      0.298     -5.717      0.000      -2.285      -1.118\n",
              "sulphates      2.9711      0.453      6.552      0.000       2.082       3.860\n",
              "==============================================================================\n",
              "\"\"\""
            ]
          },
          "execution_count": 46,
          "metadata": {},
          "output_type": "execute_result"
        }
      ],
      "source": [
        "ytrain = y_train\n",
        "Xtrain = sm.add_constant(X_train[['sulphates']])#Agrega el intercepto en un modelo de regresión\n",
        "log_reg = sm.Logit(ytrain, Xtrain).fit()\n",
        "log_reg.summary()"
      ]
    },
    {
      "cell_type": "code",
      "execution_count": 47,
      "id": "d0636da6-8717-43c4-8171-7fcd5564922e",
      "metadata": {
        "id": "d0636da6-8717-43c4-8171-7fcd5564922e"
      },
      "outputs": [
        {
          "name": "stdout",
          "output_type": "stream",
          "text": [
            "Optimization terminated successfully.\n",
            "         Current function value: 0.581712\n",
            "         Iterations 6\n"
          ]
        },
        {
          "data": {
            "text/html": [
              "<table class=\"simpletable\">\n",
              "<caption>Logit Regression Results</caption>\n",
              "<tr>\n",
              "  <th>Dep. Variable:</th>         <td>class</td>      <th>  No. Observations:  </th>  <td>  1119</td>  \n",
              "</tr>\n",
              "<tr>\n",
              "  <th>Model:</th>                 <td>Logit</td>      <th>  Df Residuals:      </th>  <td>  1117</td>  \n",
              "</tr>\n",
              "<tr>\n",
              "  <th>Method:</th>                 <td>MLE</td>       <th>  Df Model:          </th>  <td>     1</td>  \n",
              "</tr>\n",
              "<tr>\n",
              "  <th>Date:</th>            <td>Mon, 02 Sep 2024</td> <th>  Pseudo R-squ.:     </th>  <td>0.1524</td>  \n",
              "</tr>\n",
              "<tr>\n",
              "  <th>Time:</th>                <td>22:06:12</td>     <th>  Log-Likelihood:    </th> <td> -650.94</td> \n",
              "</tr>\n",
              "<tr>\n",
              "  <th>converged:</th>             <td>True</td>       <th>  LL-Null:           </th> <td> -767.95</td> \n",
              "</tr>\n",
              "<tr>\n",
              "  <th>Covariance Type:</th>     <td>nonrobust</td>    <th>  LLR p-value:       </th> <td>7.919e-53</td>\n",
              "</tr>\n",
              "</table>\n",
              "<table class=\"simpletable\">\n",
              "<tr>\n",
              "     <td></td>        <th>coef</th>     <th>std err</th>      <th>z</th>      <th>P>|z|</th>  <th>[0.025</th>    <th>0.975]</th>  \n",
              "</tr>\n",
              "<tr>\n",
              "  <th>const</th>   <td>  -10.4550</td> <td>    0.813</td> <td>  -12.866</td> <td> 0.000</td> <td>  -12.048</td> <td>   -8.862</td>\n",
              "</tr>\n",
              "<tr>\n",
              "  <th>alcohol</th> <td>    1.0331</td> <td>    0.079</td> <td>   13.044</td> <td> 0.000</td> <td>    0.878</td> <td>    1.188</td>\n",
              "</tr>\n",
              "</table>"
            ],
            "text/latex": [
              "\\begin{center}\n",
              "\\begin{tabular}{lclc}\n",
              "\\toprule\n",
              "\\textbf{Dep. Variable:}   &      class       & \\textbf{  No. Observations:  } &     1119    \\\\\n",
              "\\textbf{Model:}           &      Logit       & \\textbf{  Df Residuals:      } &     1117    \\\\\n",
              "\\textbf{Method:}          &       MLE        & \\textbf{  Df Model:          } &        1    \\\\\n",
              "\\textbf{Date:}            & Mon, 02 Sep 2024 & \\textbf{  Pseudo R-squ.:     } &   0.1524    \\\\\n",
              "\\textbf{Time:}            &     22:06:12     & \\textbf{  Log-Likelihood:    } &   -650.94   \\\\\n",
              "\\textbf{converged:}       &       True       & \\textbf{  LL-Null:           } &   -767.95   \\\\\n",
              "\\textbf{Covariance Type:} &    nonrobust     & \\textbf{  LLR p-value:       } & 7.919e-53   \\\\\n",
              "\\bottomrule\n",
              "\\end{tabular}\n",
              "\\begin{tabular}{lcccccc}\n",
              "                 & \\textbf{coef} & \\textbf{std err} & \\textbf{z} & \\textbf{P$> |$z$|$} & \\textbf{[0.025} & \\textbf{0.975]}  \\\\\n",
              "\\midrule\n",
              "\\textbf{const}   &     -10.4550  &        0.813     &   -12.866  &         0.000        &      -12.048    &       -8.862     \\\\\n",
              "\\textbf{alcohol} &       1.0331  &        0.079     &    13.044  &         0.000        &        0.878    &        1.188     \\\\\n",
              "\\bottomrule\n",
              "\\end{tabular}\n",
              "%\\caption{Logit Regression Results}\n",
              "\\end{center}"
            ],
            "text/plain": [
              "<class 'statsmodels.iolib.summary.Summary'>\n",
              "\"\"\"\n",
              "                           Logit Regression Results                           \n",
              "==============================================================================\n",
              "Dep. Variable:                  class   No. Observations:                 1119\n",
              "Model:                          Logit   Df Residuals:                     1117\n",
              "Method:                           MLE   Df Model:                            1\n",
              "Date:                Mon, 02 Sep 2024   Pseudo R-squ.:                  0.1524\n",
              "Time:                        22:06:12   Log-Likelihood:                -650.94\n",
              "converged:                       True   LL-Null:                       -767.95\n",
              "Covariance Type:            nonrobust   LLR p-value:                 7.919e-53\n",
              "==============================================================================\n",
              "                 coef    std err          z      P>|z|      [0.025      0.975]\n",
              "------------------------------------------------------------------------------\n",
              "const        -10.4550      0.813    -12.866      0.000     -12.048      -8.862\n",
              "alcohol        1.0331      0.079     13.044      0.000       0.878       1.188\n",
              "==============================================================================\n",
              "\"\"\""
            ]
          },
          "execution_count": 47,
          "metadata": {},
          "output_type": "execute_result"
        }
      ],
      "source": [
        "ytrain = y_train\n",
        "Xtrain = sm.add_constant(X_train[['alcohol']])#Agrega el intercepto en un modelo de regresión\n",
        "log_reg = sm.Logit(ytrain, Xtrain).fit()\n",
        "log_reg.summary()"
      ]
    },
    {
      "cell_type": "code",
      "execution_count": 48,
      "id": "d3467b6b-cb11-477f-a710-90eb2da622ea",
      "metadata": {
        "id": "d3467b6b-cb11-477f-a710-90eb2da622ea"
      },
      "outputs": [
        {
          "name": "stdout",
          "output_type": "stream",
          "text": [
            "Optimization terminated successfully.\n",
            "         Current function value: 0.514705\n",
            "         Iterations 6\n"
          ]
        },
        {
          "data": {
            "text/html": [
              "<table class=\"simpletable\">\n",
              "<caption>Logit Regression Results</caption>\n",
              "<tr>\n",
              "  <th>Dep. Variable:</th>         <td>class</td>      <th>  No. Observations:  </th>  <td>  1119</td>  \n",
              "</tr>\n",
              "<tr>\n",
              "  <th>Model:</th>                 <td>Logit</td>      <th>  Df Residuals:      </th>  <td>  1113</td>  \n",
              "</tr>\n",
              "<tr>\n",
              "  <th>Method:</th>                 <td>MLE</td>       <th>  Df Model:          </th>  <td>     5</td>  \n",
              "</tr>\n",
              "<tr>\n",
              "  <th>Date:</th>            <td>Mon, 02 Sep 2024</td> <th>  Pseudo R-squ.:     </th>  <td>0.2500</td>  \n",
              "</tr>\n",
              "<tr>\n",
              "  <th>Time:</th>                <td>22:06:23</td>     <th>  Log-Likelihood:    </th> <td> -575.96</td> \n",
              "</tr>\n",
              "<tr>\n",
              "  <th>converged:</th>             <td>True</td>       <th>  LL-Null:           </th> <td> -767.95</td> \n",
              "</tr>\n",
              "<tr>\n",
              "  <th>Covariance Type:</th>     <td>nonrobust</td>    <th>  LLR p-value:       </th> <td>8.398e-81</td>\n",
              "</tr>\n",
              "</table>\n",
              "<table class=\"simpletable\">\n",
              "<tr>\n",
              "            <td></td>              <th>coef</th>     <th>std err</th>      <th>z</th>      <th>P>|z|</th>  <th>[0.025</th>    <th>0.975]</th>  \n",
              "</tr>\n",
              "<tr>\n",
              "  <th>const</th>                <td>   -7.3828</td> <td>    0.962</td> <td>   -7.672</td> <td> 0.000</td> <td>   -9.269</td> <td>   -5.497</td>\n",
              "</tr>\n",
              "<tr>\n",
              "  <th>volatile_acidity</th>     <td>   -3.3269</td> <td>    0.450</td> <td>   -7.391</td> <td> 0.000</td> <td>   -4.209</td> <td>   -2.445</td>\n",
              "</tr>\n",
              "<tr>\n",
              "  <th>chlorides</th>            <td>   -5.6978</td> <td>    1.750</td> <td>   -3.255</td> <td> 0.001</td> <td>   -9.129</td> <td>   -2.267</td>\n",
              "</tr>\n",
              "<tr>\n",
              "  <th>total_sulfur_dioxide</th> <td>   -0.0132</td> <td>    0.002</td> <td>   -5.315</td> <td> 0.000</td> <td>   -0.018</td> <td>   -0.008</td>\n",
              "</tr>\n",
              "<tr>\n",
              "  <th>sulphates</th>            <td>    2.7252</td> <td>    0.511</td> <td>    5.335</td> <td> 0.000</td> <td>    1.724</td> <td>    3.726</td>\n",
              "</tr>\n",
              "<tr>\n",
              "  <th>alcohol</th>              <td>    0.8407</td> <td>    0.084</td> <td>    9.979</td> <td> 0.000</td> <td>    0.676</td> <td>    1.006</td>\n",
              "</tr>\n",
              "</table>"
            ],
            "text/latex": [
              "\\begin{center}\n",
              "\\begin{tabular}{lclc}\n",
              "\\toprule\n",
              "\\textbf{Dep. Variable:}         &      class       & \\textbf{  No. Observations:  } &     1119    \\\\\n",
              "\\textbf{Model:}                 &      Logit       & \\textbf{  Df Residuals:      } &     1113    \\\\\n",
              "\\textbf{Method:}                &       MLE        & \\textbf{  Df Model:          } &        5    \\\\\n",
              "\\textbf{Date:}                  & Mon, 02 Sep 2024 & \\textbf{  Pseudo R-squ.:     } &   0.2500    \\\\\n",
              "\\textbf{Time:}                  &     22:06:23     & \\textbf{  Log-Likelihood:    } &   -575.96   \\\\\n",
              "\\textbf{converged:}             &       True       & \\textbf{  LL-Null:           } &   -767.95   \\\\\n",
              "\\textbf{Covariance Type:}       &    nonrobust     & \\textbf{  LLR p-value:       } & 8.398e-81   \\\\\n",
              "\\bottomrule\n",
              "\\end{tabular}\n",
              "\\begin{tabular}{lcccccc}\n",
              "                                & \\textbf{coef} & \\textbf{std err} & \\textbf{z} & \\textbf{P$> |$z$|$} & \\textbf{[0.025} & \\textbf{0.975]}  \\\\\n",
              "\\midrule\n",
              "\\textbf{const}                  &      -7.3828  &        0.962     &    -7.672  &         0.000        &       -9.269    &       -5.497     \\\\\n",
              "\\textbf{volatile\\_acidity}      &      -3.3269  &        0.450     &    -7.391  &         0.000        &       -4.209    &       -2.445     \\\\\n",
              "\\textbf{chlorides}              &      -5.6978  &        1.750     &    -3.255  &         0.001        &       -9.129    &       -2.267     \\\\\n",
              "\\textbf{total\\_sulfur\\_dioxide} &      -0.0132  &        0.002     &    -5.315  &         0.000        &       -0.018    &       -0.008     \\\\\n",
              "\\textbf{sulphates}              &       2.7252  &        0.511     &     5.335  &         0.000        &        1.724    &        3.726     \\\\\n",
              "\\textbf{alcohol}                &       0.8407  &        0.084     &     9.979  &         0.000        &        0.676    &        1.006     \\\\\n",
              "\\bottomrule\n",
              "\\end{tabular}\n",
              "%\\caption{Logit Regression Results}\n",
              "\\end{center}"
            ],
            "text/plain": [
              "<class 'statsmodels.iolib.summary.Summary'>\n",
              "\"\"\"\n",
              "                           Logit Regression Results                           \n",
              "==============================================================================\n",
              "Dep. Variable:                  class   No. Observations:                 1119\n",
              "Model:                          Logit   Df Residuals:                     1113\n",
              "Method:                           MLE   Df Model:                            5\n",
              "Date:                Mon, 02 Sep 2024   Pseudo R-squ.:                  0.2500\n",
              "Time:                        22:06:23   Log-Likelihood:                -575.96\n",
              "converged:                       True   LL-Null:                       -767.95\n",
              "Covariance Type:            nonrobust   LLR p-value:                 8.398e-81\n",
              "========================================================================================\n",
              "                           coef    std err          z      P>|z|      [0.025      0.975]\n",
              "----------------------------------------------------------------------------------------\n",
              "const                   -7.3828      0.962     -7.672      0.000      -9.269      -5.497\n",
              "volatile_acidity        -3.3269      0.450     -7.391      0.000      -4.209      -2.445\n",
              "chlorides               -5.6978      1.750     -3.255      0.001      -9.129      -2.267\n",
              "total_sulfur_dioxide    -0.0132      0.002     -5.315      0.000      -0.018      -0.008\n",
              "sulphates                2.7252      0.511      5.335      0.000       1.724       3.726\n",
              "alcohol                  0.8407      0.084      9.979      0.000       0.676       1.006\n",
              "========================================================================================\n",
              "\"\"\""
            ]
          },
          "execution_count": 48,
          "metadata": {},
          "output_type": "execute_result"
        }
      ],
      "source": [
        "#Modelo final congruente\n",
        "ytrain = y_train\n",
        "Xtrain = sm.add_constant(X_train[[\n",
        " 'volatile_acidity',\n",
        " 'chlorides',\n",
        " 'total_sulfur_dioxide',\n",
        " 'sulphates',\n",
        " 'alcohol'\n",
        "]])#Agrega el intercepto en un modelo de regresión\n",
        "log_reg = sm.Logit(ytrain, Xtrain).fit()\n",
        "log_reg.summary()"
      ]
    },
    {
      "cell_type": "markdown",
      "id": "d9853c17-c8a4-4c24-a039-5a56a7cb9bce",
      "metadata": {
        "id": "d9853c17-c8a4-4c24-a039-5a56a7cb9bce"
      },
      "source": [
        "## Evaluación del modelo de regresión logística"
      ]
    },
    {
      "cell_type": "code",
      "execution_count": 49,
      "id": "31e4b757-ea1d-4e75-b3be-e10dc708f70c",
      "metadata": {
        "id": "31e4b757-ea1d-4e75-b3be-e10dc708f70c"
      },
      "outputs": [
        {
          "name": "stdout",
          "output_type": "stream",
          "text": [
            "Valores_actuales [1, 0, 1, 0, 1, 1, 0, 0, 0, 0, 0, 0, 1, 1, 1, 0, 0, 1, 0, 1, 0, 1, 1, 0, 0, 0, 0, 0, 0, 0, 1, 0, 0, 1, 0, 1, 1, 1, 0, 0, 0, 1, 0, 1, 0, 1, 0, 0, 0, 0, 0, 1, 1, 0, 0, 0, 0, 0, 1, 1, 0, 0, 0, 1, 0, 0, 1, 0, 1, 0, 1, 1, 1, 1, 0, 1, 0, 0, 0, 0, 0, 1, 1, 0, 0, 0, 1, 0, 0, 0, 0, 1, 0, 1, 0, 1, 1, 0, 0, 0, 0, 1, 1, 1, 0, 0, 1, 1, 0, 0, 0, 0, 1, 1, 1, 0, 0, 0, 1, 0, 1, 0, 1, 0, 1, 1, 0, 1, 0, 0, 0, 1, 0, 0, 0, 1, 0, 1, 0, 0, 0, 1, 1, 0, 1, 0, 0, 0, 1, 0, 0, 0, 1, 0, 1, 0, 0, 0, 0, 0, 0, 1, 1, 0, 1, 1, 1, 1, 1, 1, 1, 1, 0, 0, 0, 1, 0, 0, 1, 1, 0, 1, 0, 0, 0, 0, 1, 0, 0, 1, 1, 1, 1, 0, 1, 1, 0, 1, 1, 1, 0, 1, 1, 0, 1, 1, 0, 1, 0, 1, 0, 1, 1, 0, 1, 1, 0, 1, 1, 0, 1, 1, 0, 0, 0, 0, 0, 0, 1, 1, 1, 0, 1, 0, 0, 0, 1, 0, 0, 1, 1, 0, 1, 1, 0, 0, 1, 1, 1, 0, 1, 0, 0, 1, 1, 0, 1, 0, 0, 1, 0, 0, 1, 1, 0, 0, 0, 0, 0, 0, 0, 1, 1, 1, 1, 0, 1, 0, 1, 0, 0, 0, 0, 0, 0, 0, 1, 0, 0, 0, 0, 0, 1, 0, 1, 1, 0, 1, 1, 0, 1, 1, 1, 0, 0, 1, 1, 0, 1, 1, 1, 0, 1, 0, 1, 0, 0, 1, 0, 1, 1, 1, 1, 1, 1, 1, 1, 1, 1, 1, 0, 0, 1, 0, 0, 1, 1, 1, 0, 1, 0, 0, 0, 1, 1, 1, 0, 1, 0, 1, 0, 0, 1, 1, 1, 1, 1, 1, 1, 0, 1, 0, 0, 0, 0, 0, 0, 0, 0, 0, 0, 1, 1, 0, 1, 1, 1, 0, 1, 0, 1, 0, 1, 0, 1, 0, 1, 1, 1, 1, 0, 1, 0, 0, 0, 0, 0, 1, 1, 1, 1, 1, 0, 1, 0, 1, 0, 1, 0, 1, 1, 0, 0, 0, 1, 1, 0, 1, 0, 0, 0, 1, 0, 1, 1, 1, 1, 1, 0, 1, 1, 1, 1, 1, 1, 0, 1, 0, 1, 1, 0, 1, 1, 0, 0, 0, 0, 0, 1, 1, 0, 0, 0, 1, 0, 0, 1, 0, 0, 1, 0, 0, 1, 1, 1, 0, 0, 1, 1, 1, 0, 1, 1, 0, 1, 0, 0, 1, 0, 1]\n",
            "Predicciones : [1, 1, 1, 0, 1, 1, 0, 0, 0, 0, 1, 1, 0, 1, 0, 0, 0, 1, 0, 0, 0, 1, 0, 1, 0, 0, 0, 0, 0, 0, 1, 0, 0, 1, 0, 1, 1, 1, 0, 0, 1, 0, 0, 1, 0, 1, 0, 0, 0, 1, 1, 1, 1, 0, 0, 0, 1, 0, 1, 0, 0, 1, 1, 1, 0, 0, 1, 1, 1, 0, 1, 1, 1, 1, 0, 1, 1, 0, 1, 0, 0, 0, 1, 0, 0, 0, 0, 0, 1, 0, 0, 0, 0, 1, 0, 1, 1, 1, 1, 1, 0, 0, 1, 1, 0, 0, 1, 1, 0, 1, 0, 1, 1, 0, 1, 0, 0, 1, 1, 0, 1, 0, 0, 0, 1, 1, 0, 1, 0, 0, 0, 0, 1, 1, 0, 1, 0, 0, 0, 0, 0, 1, 1, 0, 1, 1, 1, 1, 1, 1, 1, 0, 1, 0, 1, 0, 0, 0, 0, 0, 0, 0, 0, 0, 0, 1, 0, 1, 0, 1, 0, 0, 0, 0, 0, 0, 0, 0, 0, 1, 0, 1, 0, 0, 0, 1, 1, 0, 0, 1, 1, 0, 1, 1, 0, 1, 1, 0, 1, 0, 1, 1, 1, 0, 1, 1, 0, 0, 0, 1, 1, 1, 1, 1, 1, 0, 1, 1, 1, 0, 1, 1, 0, 1, 0, 0, 0, 0, 0, 1, 1, 1, 0, 0, 0, 1, 1, 1, 0, 0, 0, 0, 1, 0, 0, 0, 1, 1, 1, 1, 1, 1, 0, 1, 1, 1, 1, 0, 0, 1, 0, 0, 1, 0, 1, 0, 0, 0, 0, 1, 0, 1, 1, 1, 1, 1, 1, 0, 1, 0, 1, 0, 0, 1, 0, 0, 1, 0, 1, 0, 1, 1, 0, 1, 0, 0, 0, 1, 1, 1, 1, 0, 1, 0, 0, 1, 1, 1, 1, 1, 1, 0, 1, 0, 1, 0, 1, 0, 0, 0, 1, 1, 0, 1, 0, 0, 1, 1, 1, 0, 0, 0, 1, 0, 1, 0, 1, 1, 0, 1, 1, 0, 1, 1, 0, 0, 0, 1, 0, 1, 0, 0, 1, 0, 1, 1, 0, 1, 1, 0, 1, 0, 0, 0, 0, 0, 0, 1, 0, 1, 0, 0, 0, 0, 1, 0, 1, 0, 0, 0, 1, 1, 1, 0, 1, 0, 1, 1, 1, 1, 0, 0, 0, 0, 0, 0, 0, 1, 1, 0, 1, 1, 1, 1, 0, 1, 1, 0, 0, 1, 1, 1, 0, 0, 1, 1, 1, 0, 0, 0, 0, 0, 1, 1, 1, 1, 1, 0, 1, 1, 0, 1, 1, 1, 0, 1, 1, 0, 0, 1, 0, 1, 0, 0, 0, 0, 0, 0, 1, 1, 1, 0, 0, 1, 0, 0, 0, 1, 0, 1, 0, 0, 1, 0, 1, 0, 0, 1, 1, 1, 0, 1, 1, 0, 0, 0, 0, 1, 0, 1]\n"
          ]
        }
      ],
      "source": [
        "Xtest = sm.add_constant(X_test[['volatile_acidity',\n",
        " 'chlorides',\n",
        " 'total_sulfur_dioxide',\n",
        " 'sulphates',\n",
        " 'alcohol']])\n",
        "ytest = y_test\n",
        "yhat = log_reg.predict(Xtest)\n",
        "prediction = list(map(round, yhat))\n",
        "actuales= list(map(int,ytest.values))\n",
        "# comparing original and predicted values of y\n",
        "print('Valores_actuales', list(actuales))\n",
        "print('Predicciones :', prediction)"
      ]
    },
    {
      "cell_type": "code",
      "execution_count": 50,
      "id": "55b691b8-dba6-4bfd-9d00-2162c3d43ea2",
      "metadata": {
        "id": "55b691b8-dba6-4bfd-9d00-2162c3d43ea2"
      },
      "outputs": [
        {
          "name": "stdout",
          "output_type": "stream",
          "text": [
            "Confusion Matrix : \n",
            " [[182  68]\n",
            " [ 67 163]]\n",
            "Test accuracy =  0.71875\n"
          ]
        }
      ],
      "source": [
        "from sklearn.metrics import (confusion_matrix,\n",
        "                           accuracy_score)\n",
        "from sklearn.metrics import ConfusionMatrixDisplay\n",
        "\n",
        "# confusion matrix\n",
        "cm = confusion_matrix(ytest, prediction)\n",
        "print (\"Confusion Matrix : \\n\", cm)\n",
        "\n",
        "\n",
        "# Exactitud de modelo\n",
        "print('Test accuracy = ', accuracy_score(ytest, prediction))"
      ]
    }
  ],
  "metadata": {
    "colab": {
      "provenance": []
    },
    "kernelspec": {
      "display_name": "Python 3 (ipykernel)",
      "language": "python",
      "name": "python3"
    },
    "language_info": {
      "codemirror_mode": {
        "name": "ipython",
        "version": 3
      },
      "file_extension": ".py",
      "mimetype": "text/x-python",
      "name": "python",
      "nbconvert_exporter": "python",
      "pygments_lexer": "ipython3",
      "version": "3.12.0"
    }
  },
  "nbformat": 4,
  "nbformat_minor": 5
}
