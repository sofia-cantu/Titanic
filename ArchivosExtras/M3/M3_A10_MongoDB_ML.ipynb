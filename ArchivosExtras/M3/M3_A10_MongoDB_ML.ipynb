{
  "cells": [
    {
      "cell_type": "markdown",
      "id": "8579d939-661c-4158-b7f7-e1c15447c66b",
      "metadata": {
        "id": "8579d939-661c-4158-b7f7-e1c15447c66b"
      },
      "source": [
        "# Tutorial MongoDB y scikit-learn"
      ]
    },
    {
      "cell_type": "markdown",
      "id": "df26bb00-3c2b-4364-ae73-46b020361d74",
      "metadata": {
        "id": "df26bb00-3c2b-4364-ae73-46b020361d74"
      },
      "source": [
        "## Instalación de bibliotecas pymongo"
      ]
    },
    {
      "cell_type": "code",
      "execution_count": 1,
      "id": "bf4ea8de-c331-4fc5-b716-e362541278f4",
      "metadata": {
        "id": "bf4ea8de-c331-4fc5-b716-e362541278f4"
      },
      "outputs": [
        {
          "name": "stdout",
          "output_type": "stream",
          "text": [
            "Requirement already satisfied: pymongo in /Library/Frameworks/Python.framework/Versions/3.12/lib/python3.12/site-packages (4.8.0)\n",
            "Requirement already satisfied: dnspython<3.0.0,>=1.16.0 in /Library/Frameworks/Python.framework/Versions/3.12/lib/python3.12/site-packages (from pymongo) (2.6.1)\n"
          ]
        }
      ],
      "source": [
        "!pip install pymongo\n",
        "import pymongo"
      ]
    },
    {
      "cell_type": "markdown",
      "id": "d6e44b78-2543-4a27-aee7-a5ef76e75a09",
      "metadata": {
        "id": "d6e44b78-2543-4a27-aee7-a5ef76e75a09"
      },
      "source": [
        "## Conexión, visualización, selección o creación de base de datos"
      ]
    },
    {
      "cell_type": "code",
      "execution_count": 2,
      "id": "02e3edd9",
      "metadata": {},
      "outputs": [
        {
          "data": {
            "text/plain": [
              "'\\n!pip install mysql\\n!pip install mysql-connector-python\\nimport mysql.connector as sql\\nimport pandas as pd\\n\\ndb_connect = sql.connect(host=\\'127.0.0.1\\', database=\\'datasets_ml\\', user = \\'root\\', password = \\'Mang2guo3\\')\\n#print(db_connect)\\n\\n# Query data\\nquery = \"SELECT * FROM winequality_red\"\\ndf = pd.read_sql(query, db_connect)\\n\\n# Print the first few rows of the dataframe\\nprint(df.head())\\n\\n# Close the connection\\n#db_connect.close()\\n'"
            ]
          },
          "execution_count": 2,
          "metadata": {},
          "output_type": "execute_result"
        }
      ],
      "source": [
        "\"\"\"\n",
        "!pip install mysql\n",
        "!pip install mysql-connector-python\n",
        "import mysql.connector as sql\n",
        "import pandas as pd\n",
        "\n",
        "db_connect = sql.connect(host='127.0.0.1', database='datasets_ml', user = 'root', password = 'Mang2guo3')\n",
        "#print(db_connect)\n",
        "\n",
        "# Query data\n",
        "query = \"SELECT * FROM winequality_red\"\n",
        "df = pd.read_sql(query, db_connect)\n",
        "\n",
        "# Print the first few rows of the dataframe\n",
        "print(df.head())\n",
        "\n",
        "# Close the connection\n",
        "#db_connect.close()\n",
        "\"\"\"\n"
      ]
    },
    {
      "cell_type": "code",
      "execution_count": 3,
      "id": "d854f96c-24b0-46ac-882f-e12a06abbd31",
      "metadata": {
        "id": "d854f96c-24b0-46ac-882f-e12a06abbd31"
      },
      "outputs": [
        {
          "name": "stdout",
          "output_type": "stream",
          "text": [
            "['admin', 'config', 'datasets_ml', 'local']\n"
          ]
        }
      ],
      "source": [
        "myclient = pymongo.MongoClient(\"mongodb://localhost:27017/\")\n",
        "dblist = myclient.list_database_names()\n",
        "print(dblist)"
      ]
    },
    {
      "cell_type": "markdown",
      "id": "f73c1f61-8a09-44b1-aa2c-dcd850d1b6d8",
      "metadata": {
        "id": "f73c1f61-8a09-44b1-aa2c-dcd850d1b6d8"
      },
      "source": [
        "## Visualización, selección o creación de la colección"
      ]
    },
    {
      "cell_type": "code",
      "execution_count": 4,
      "id": "fc19fef8-c913-4d18-8f68-9ef7b99ebaaf",
      "metadata": {
        "id": "fc19fef8-c913-4d18-8f68-9ef7b99ebaaf"
      },
      "outputs": [
        {
          "name": "stdout",
          "output_type": "stream",
          "text": [
            "['iris', 'wine']\n"
          ]
        }
      ],
      "source": [
        "mydb = myclient[\"datasets_ml\"]\n",
        "print(mydb.list_collection_names())"
      ]
    },
    {
      "cell_type": "code",
      "execution_count": 5,
      "id": "676807bf-b7d6-410e-b19a-87902dd31fc6",
      "metadata": {
        "id": "676807bf-b7d6-410e-b19a-87902dd31fc6"
      },
      "outputs": [],
      "source": [
        "mycol = mydb[\"iris\"]"
      ]
    },
    {
      "cell_type": "markdown",
      "id": "08c56c85-6f03-4e99-b8b6-d54dd958a070",
      "metadata": {
        "id": "08c56c85-6f03-4e99-b8b6-d54dd958a070"
      },
      "source": [
        "## Comandos MongoDB"
      ]
    },
    {
      "cell_type": "markdown",
      "id": "8737a43f-3815-453a-8172-91ab657f873f",
      "metadata": {
        "id": "8737a43f-3815-453a-8172-91ab657f873f"
      },
      "source": [
        "### Buscar un solo documento (Find One)"
      ]
    },
    {
      "cell_type": "code",
      "execution_count": 6,
      "id": "38bacf13-65a2-4583-8ae0-e9ee1767cb43",
      "metadata": {
        "id": "38bacf13-65a2-4583-8ae0-e9ee1767cb43"
      },
      "outputs": [
        {
          "name": "stdout",
          "output_type": "stream",
          "text": [
            "None\n"
          ]
        }
      ],
      "source": [
        "x = mycol.find_one()\n",
        "\n",
        "print(x)\n"
      ]
    },
    {
      "cell_type": "markdown",
      "id": "6dc57339-88ed-490d-803c-22e43c68ecb3",
      "metadata": {
        "id": "6dc57339-88ed-490d-803c-22e43c68ecb3"
      },
      "source": [
        "### Buscar varios documentos (Find) y condicionales"
      ]
    },
    {
      "cell_type": "code",
      "execution_count": 7,
      "id": "7f62d15b-f151-4c58-9d6d-b60c9a5a6ab1",
      "metadata": {
        "id": "7f62d15b-f151-4c58-9d6d-b60c9a5a6ab1"
      },
      "outputs": [],
      "source": [
        "for x in mycol.find().limit(5):\n",
        "  print(x)"
      ]
    },
    {
      "cell_type": "code",
      "execution_count": 8,
      "id": "803c3a1a-6c6e-4fd2-9eb2-07e7e00f490a",
      "metadata": {
        "id": "803c3a1a-6c6e-4fd2-9eb2-07e7e00f490a"
      },
      "outputs": [],
      "source": [
        "myquery = { \"Species\": \"Iris-versicolor\"}\n",
        "mydoc = mycol.find(myquery).limit(10)\n",
        "\n",
        "for x in mydoc:\n",
        "  print(x)"
      ]
    },
    {
      "cell_type": "code",
      "execution_count": 9,
      "id": "e42013ab-94ed-4910-87ba-2ac8bc755431",
      "metadata": {
        "id": "e42013ab-94ed-4910-87ba-2ac8bc755431"
      },
      "outputs": [],
      "source": [
        "myquery = { \"SepalLengthCm\": { \"$lt\": 6.0 } }\n",
        "mydoc = mycol.find(myquery).limit(10)\n",
        "\n",
        "for x in mydoc:\n",
        "  print(x)"
      ]
    },
    {
      "cell_type": "markdown",
      "id": "2a634ded-3ea2-4bb3-97a3-89888f10470c",
      "metadata": {
        "id": "2a634ded-3ea2-4bb3-97a3-89888f10470c"
      },
      "source": [
        "### Insert One"
      ]
    },
    {
      "cell_type": "code",
      "execution_count": 10,
      "id": "43750cc9-fb5e-4d86-bfde-bf6023613e76",
      "metadata": {
        "id": "43750cc9-fb5e-4d86-bfde-bf6023613e76"
      },
      "outputs": [
        {
          "name": "stdout",
          "output_type": "stream",
          "text": [
            "InsertOneResult(ObjectId('66da5ae664538d5b11862846'), acknowledged=True)\n"
          ]
        }
      ],
      "source": [
        "mydict = { 'Id': 151, 'SepalLengthCm': 5.0, 'SepalWidthCm': 3.2, 'PetalLengthCm': 1.6, 'PetalWidthCm': 0.2, 'Species': 'Iris-setosa' }\n",
        "x = mycol.insert_one(mydict)\n",
        "print(x)"
      ]
    },
    {
      "cell_type": "code",
      "execution_count": 11,
      "id": "292435a5-8718-4e09-9382-6e4e409cd7ce",
      "metadata": {
        "id": "292435a5-8718-4e09-9382-6e4e409cd7ce"
      },
      "outputs": [
        {
          "name": "stdout",
          "output_type": "stream",
          "text": [
            "{'_id': ObjectId('66da5ae664538d5b11862846'), 'Id': 151, 'SepalLengthCm': 5.0, 'SepalWidthCm': 3.2, 'PetalLengthCm': 1.6, 'PetalWidthCm': 0.2, 'Species': 'Iris-setosa'}\n"
          ]
        }
      ],
      "source": [
        "myquery = { \"Id\": 151}\n",
        "mydoc = mycol.find(myquery)\n",
        "\n",
        "for x in mydoc:\n",
        "  print(x)"
      ]
    },
    {
      "cell_type": "markdown",
      "id": "7b4d9591-fade-48e5-9e37-93b059a38f13",
      "metadata": {
        "id": "7b4d9591-fade-48e5-9e37-93b059a38f13"
      },
      "source": [
        "### Update One"
      ]
    },
    {
      "cell_type": "code",
      "execution_count": 12,
      "id": "318d1b7d-2770-41af-a87d-701e0c74439e",
      "metadata": {
        "id": "318d1b7d-2770-41af-a87d-701e0c74439e"
      },
      "outputs": [
        {
          "name": "stdout",
          "output_type": "stream",
          "text": [
            "{'_id': ObjectId('66da5ae664538d5b11862846'), 'Id': 151, 'SepalLengthCm': 5.1, 'SepalWidthCm': 3.2, 'PetalLengthCm': 1.6, 'PetalWidthCm': 0.2, 'Species': 'Iris-setosa'}\n"
          ]
        }
      ],
      "source": [
        "myquery = { \"Id\": 151}\n",
        "newvalues = { \"$set\": { \"SepalLengthCm\": 5.1 } }\n",
        "mycol.update_one(myquery, newvalues)\n",
        "#Imprimir despues de la actualización\n",
        "myquery = { \"Id\": 151}\n",
        "mydoc = mycol.find(myquery)\n",
        "for x in mydoc:\n",
        "  print(x)"
      ]
    },
    {
      "cell_type": "markdown",
      "id": "a2345f61-729a-43c9-85fa-4685e0698e66",
      "metadata": {
        "id": "a2345f61-729a-43c9-85fa-4685e0698e66"
      },
      "source": [
        "### Delete One"
      ]
    },
    {
      "cell_type": "code",
      "execution_count": 13,
      "id": "eb612370-f688-43e6-bcc6-61ad278efca6",
      "metadata": {
        "id": "eb612370-f688-43e6-bcc6-61ad278efca6"
      },
      "outputs": [
        {
          "name": "stdout",
          "output_type": "stream",
          "text": [
            "1  Documento eliminado.\n"
          ]
        }
      ],
      "source": [
        "myquery = { \"Id\": 151}\n",
        "x = mycol.delete_many(myquery)\n",
        "\n",
        "print(x.deleted_count, \" Documento eliminado.\")"
      ]
    },
    {
      "cell_type": "code",
      "execution_count": 14,
      "id": "5f73fc69-2e78-499c-8fcd-b659545579e4",
      "metadata": {
        "id": "5f73fc69-2e78-499c-8fcd-b659545579e4"
      },
      "outputs": [],
      "source": [
        "myquery = { \"Id\": 151}\n",
        "mydoc = mycol.find(myquery)\n",
        "for x in mydoc:\n",
        "  print(x)"
      ]
    },
    {
      "cell_type": "markdown",
      "id": "2834b2b4-e8e3-43c4-bca0-7c72b9389165",
      "metadata": {
        "id": "2834b2b4-e8e3-43c4-bca0-7c72b9389165"
      },
      "source": [
        "## MongoDB a DataFrame"
      ]
    },
    {
      "cell_type": "code",
      "execution_count": 15,
      "id": "6ddfd36b-f3c7-42ac-80e7-5398a587842f",
      "metadata": {
        "id": "6ddfd36b-f3c7-42ac-80e7-5398a587842f"
      },
      "outputs": [
        {
          "name": "stdout",
          "output_type": "stream",
          "text": [
            "<pymongo.cursor.Cursor object at 0x10673b500>\n",
            "Type of cursor: <class 'pymongo.cursor.Cursor'>\n"
          ]
        }
      ],
      "source": [
        "import pandas as pd\n",
        "cursor = mycol.find()\n",
        "print(cursor)\n",
        "print('Type of cursor:',type(cursor))"
      ]
    },
    {
      "cell_type": "code",
      "execution_count": 16,
      "id": "e5c46320-edf5-4f12-97e8-28d7a443000a",
      "metadata": {
        "id": "e5c46320-edf5-4f12-97e8-28d7a443000a"
      },
      "outputs": [
        {
          "name": "stdout",
          "output_type": "stream",
          "text": [
            "   id  fixed_acidity  volatile_acidity  citric_acid  residual_sugar  \\\n",
            "0   1            7.4              0.70         0.00             1.9   \n",
            "1   2            7.8              0.88         0.00             2.6   \n",
            "2   3            7.8              0.76         0.04             2.3   \n",
            "3   4           11.2              0.28         0.56             1.9   \n",
            "4   5            7.4              0.70         0.00             1.9   \n",
            "\n",
            "   chlorides  free_sulfur_dioxide  total_sulfur_dioxide  density    pH  \\\n",
            "0      0.076                 11.0                  34.0   0.9978  3.51   \n",
            "1      0.098                 25.0                  67.0   0.9968  3.20   \n",
            "2      0.092                 15.0                  54.0   0.9970  3.26   \n",
            "3      0.075                 17.0                  60.0   0.9980  3.16   \n",
            "4      0.076                 11.0                  34.0   0.9978  3.51   \n",
            "\n",
            "   sulphates  alcohol  class  \n",
            "0       0.56      9.4      0  \n",
            "1       0.68      9.8      0  \n",
            "2       0.65      9.8      0  \n",
            "3       0.58      9.8      1  \n",
            "4       0.56      9.4      0  \n",
            "Type of df: <class 'pandas.core.frame.DataFrame'>\n"
          ]
        }
      ],
      "source": [
        "\"\"\"list_cur = list(cursor)\n",
        "print(list_cur[1:5])\n",
        "df = pd.DataFrame(list_cur)\n",
        "print('Type of df:', type(df))\"\"\"\n",
        "\n",
        "# Connect to MongoDB\n",
        "client = pymongo.MongoClient(\"mongodb://localhost:27017/\")\n",
        "db = client[\"datasets_ml\"]  # Your database\n",
        "collection = db[\"wine\"]  # Your collection\n",
        "\n",
        "# Fetch the data from the wine collection\n",
        "cursor = collection.find()  # Fetch all records\n",
        "\n",
        "# Convert the cursor to a list\n",
        "list_cur = list(cursor)\n",
        "\n",
        "# Convert the list of documents into a DataFrame\n",
        "df = pd.DataFrame(list_cur)\n",
        "\n",
        "# Optionally, drop the '_id' column (which is MongoDB-specific)\n",
        "if '_id' in df.columns:\n",
        "    df = df.drop('_id', axis=1)\n",
        "\n",
        "# Check the DataFrame\n",
        "print(df.head())\n",
        "print('Type of df:', type(df))\n",
        "\n"
      ]
    },
    {
      "cell_type": "code",
      "execution_count": 17,
      "id": "8d5193fd-09ca-4d30-9314-8fdb71e0de60",
      "metadata": {
        "id": "8d5193fd-09ca-4d30-9314-8fdb71e0de60"
      },
      "outputs": [
        {
          "data": {
            "text/html": [
              "<div>\n",
              "<style scoped>\n",
              "    .dataframe tbody tr th:only-of-type {\n",
              "        vertical-align: middle;\n",
              "    }\n",
              "\n",
              "    .dataframe tbody tr th {\n",
              "        vertical-align: top;\n",
              "    }\n",
              "\n",
              "    .dataframe thead th {\n",
              "        text-align: right;\n",
              "    }\n",
              "</style>\n",
              "<table border=\"1\" class=\"dataframe\">\n",
              "  <thead>\n",
              "    <tr style=\"text-align: right;\">\n",
              "      <th></th>\n",
              "      <th>id</th>\n",
              "      <th>fixed_acidity</th>\n",
              "      <th>volatile_acidity</th>\n",
              "      <th>citric_acid</th>\n",
              "      <th>residual_sugar</th>\n",
              "      <th>chlorides</th>\n",
              "      <th>free_sulfur_dioxide</th>\n",
              "      <th>total_sulfur_dioxide</th>\n",
              "      <th>density</th>\n",
              "      <th>pH</th>\n",
              "      <th>sulphates</th>\n",
              "      <th>alcohol</th>\n",
              "      <th>class</th>\n",
              "    </tr>\n",
              "  </thead>\n",
              "  <tbody>\n",
              "    <tr>\n",
              "      <th>0</th>\n",
              "      <td>1</td>\n",
              "      <td>7.4</td>\n",
              "      <td>0.70</td>\n",
              "      <td>0.00</td>\n",
              "      <td>1.9</td>\n",
              "      <td>0.076</td>\n",
              "      <td>11.0</td>\n",
              "      <td>34.0</td>\n",
              "      <td>0.9978</td>\n",
              "      <td>3.51</td>\n",
              "      <td>0.56</td>\n",
              "      <td>9.4</td>\n",
              "      <td>0</td>\n",
              "    </tr>\n",
              "    <tr>\n",
              "      <th>1</th>\n",
              "      <td>2</td>\n",
              "      <td>7.8</td>\n",
              "      <td>0.88</td>\n",
              "      <td>0.00</td>\n",
              "      <td>2.6</td>\n",
              "      <td>0.098</td>\n",
              "      <td>25.0</td>\n",
              "      <td>67.0</td>\n",
              "      <td>0.9968</td>\n",
              "      <td>3.20</td>\n",
              "      <td>0.68</td>\n",
              "      <td>9.8</td>\n",
              "      <td>0</td>\n",
              "    </tr>\n",
              "    <tr>\n",
              "      <th>2</th>\n",
              "      <td>3</td>\n",
              "      <td>7.8</td>\n",
              "      <td>0.76</td>\n",
              "      <td>0.04</td>\n",
              "      <td>2.3</td>\n",
              "      <td>0.092</td>\n",
              "      <td>15.0</td>\n",
              "      <td>54.0</td>\n",
              "      <td>0.9970</td>\n",
              "      <td>3.26</td>\n",
              "      <td>0.65</td>\n",
              "      <td>9.8</td>\n",
              "      <td>0</td>\n",
              "    </tr>\n",
              "    <tr>\n",
              "      <th>3</th>\n",
              "      <td>4</td>\n",
              "      <td>11.2</td>\n",
              "      <td>0.28</td>\n",
              "      <td>0.56</td>\n",
              "      <td>1.9</td>\n",
              "      <td>0.075</td>\n",
              "      <td>17.0</td>\n",
              "      <td>60.0</td>\n",
              "      <td>0.9980</td>\n",
              "      <td>3.16</td>\n",
              "      <td>0.58</td>\n",
              "      <td>9.8</td>\n",
              "      <td>1</td>\n",
              "    </tr>\n",
              "    <tr>\n",
              "      <th>4</th>\n",
              "      <td>5</td>\n",
              "      <td>7.4</td>\n",
              "      <td>0.70</td>\n",
              "      <td>0.00</td>\n",
              "      <td>1.9</td>\n",
              "      <td>0.076</td>\n",
              "      <td>11.0</td>\n",
              "      <td>34.0</td>\n",
              "      <td>0.9978</td>\n",
              "      <td>3.51</td>\n",
              "      <td>0.56</td>\n",
              "      <td>9.4</td>\n",
              "      <td>0</td>\n",
              "    </tr>\n",
              "  </tbody>\n",
              "</table>\n",
              "</div>"
            ],
            "text/plain": [
              "   id  fixed_acidity  volatile_acidity  citric_acid  residual_sugar  \\\n",
              "0   1            7.4              0.70         0.00             1.9   \n",
              "1   2            7.8              0.88         0.00             2.6   \n",
              "2   3            7.8              0.76         0.04             2.3   \n",
              "3   4           11.2              0.28         0.56             1.9   \n",
              "4   5            7.4              0.70         0.00             1.9   \n",
              "\n",
              "   chlorides  free_sulfur_dioxide  total_sulfur_dioxide  density    pH  \\\n",
              "0      0.076                 11.0                  34.0   0.9978  3.51   \n",
              "1      0.098                 25.0                  67.0   0.9968  3.20   \n",
              "2      0.092                 15.0                  54.0   0.9970  3.26   \n",
              "3      0.075                 17.0                  60.0   0.9980  3.16   \n",
              "4      0.076                 11.0                  34.0   0.9978  3.51   \n",
              "\n",
              "   sulphates  alcohol  class  \n",
              "0       0.56      9.4      0  \n",
              "1       0.68      9.8      0  \n",
              "2       0.65      9.8      0  \n",
              "3       0.58      9.8      1  \n",
              "4       0.56      9.4      0  "
            ]
          },
          "execution_count": 17,
          "metadata": {},
          "output_type": "execute_result"
        }
      ],
      "source": [
        "df.head(5)"
      ]
    },
    {
      "cell_type": "code",
      "execution_count": 18,
      "id": "6b22c486",
      "metadata": {},
      "outputs": [
        {
          "name": "stdout",
          "output_type": "stream",
          "text": [
            "Index(['id', 'fixed_acidity', 'volatile_acidity', 'citric_acid',\n",
            "       'residual_sugar', 'chlorides', 'free_sulfur_dioxide',\n",
            "       'total_sulfur_dioxide', 'density', 'pH', 'sulphates', 'alcohol',\n",
            "       'class'],\n",
            "      dtype='object')\n"
          ]
        }
      ],
      "source": [
        "print(df.columns)"
      ]
    },
    {
      "cell_type": "code",
      "execution_count": 19,
      "id": "5402be26-ba33-4478-9753-968e93ef3aa7",
      "metadata": {
        "id": "5402be26-ba33-4478-9753-968e93ef3aa7"
      },
      "outputs": [],
      "source": [
        "df = df.drop(['id'], axis=1)"
      ]
    },
    {
      "cell_type": "code",
      "execution_count": 20,
      "id": "77fdf61b-c97a-40da-99fc-7841a2ab1a5d",
      "metadata": {
        "id": "77fdf61b-c97a-40da-99fc-7841a2ab1a5d"
      },
      "outputs": [
        {
          "data": {
            "text/html": [
              "<div>\n",
              "<style scoped>\n",
              "    .dataframe tbody tr th:only-of-type {\n",
              "        vertical-align: middle;\n",
              "    }\n",
              "\n",
              "    .dataframe tbody tr th {\n",
              "        vertical-align: top;\n",
              "    }\n",
              "\n",
              "    .dataframe thead th {\n",
              "        text-align: right;\n",
              "    }\n",
              "</style>\n",
              "<table border=\"1\" class=\"dataframe\">\n",
              "  <thead>\n",
              "    <tr style=\"text-align: right;\">\n",
              "      <th></th>\n",
              "      <th>fixed_acidity</th>\n",
              "      <th>volatile_acidity</th>\n",
              "      <th>citric_acid</th>\n",
              "      <th>residual_sugar</th>\n",
              "      <th>chlorides</th>\n",
              "      <th>free_sulfur_dioxide</th>\n",
              "      <th>total_sulfur_dioxide</th>\n",
              "      <th>density</th>\n",
              "      <th>pH</th>\n",
              "      <th>sulphates</th>\n",
              "      <th>alcohol</th>\n",
              "      <th>class</th>\n",
              "    </tr>\n",
              "  </thead>\n",
              "  <tbody>\n",
              "    <tr>\n",
              "      <th>0</th>\n",
              "      <td>7.4</td>\n",
              "      <td>0.70</td>\n",
              "      <td>0.00</td>\n",
              "      <td>1.9</td>\n",
              "      <td>0.076</td>\n",
              "      <td>11.0</td>\n",
              "      <td>34.0</td>\n",
              "      <td>0.9978</td>\n",
              "      <td>3.51</td>\n",
              "      <td>0.56</td>\n",
              "      <td>9.4</td>\n",
              "      <td>0</td>\n",
              "    </tr>\n",
              "    <tr>\n",
              "      <th>1</th>\n",
              "      <td>7.8</td>\n",
              "      <td>0.88</td>\n",
              "      <td>0.00</td>\n",
              "      <td>2.6</td>\n",
              "      <td>0.098</td>\n",
              "      <td>25.0</td>\n",
              "      <td>67.0</td>\n",
              "      <td>0.9968</td>\n",
              "      <td>3.20</td>\n",
              "      <td>0.68</td>\n",
              "      <td>9.8</td>\n",
              "      <td>0</td>\n",
              "    </tr>\n",
              "    <tr>\n",
              "      <th>2</th>\n",
              "      <td>7.8</td>\n",
              "      <td>0.76</td>\n",
              "      <td>0.04</td>\n",
              "      <td>2.3</td>\n",
              "      <td>0.092</td>\n",
              "      <td>15.0</td>\n",
              "      <td>54.0</td>\n",
              "      <td>0.9970</td>\n",
              "      <td>3.26</td>\n",
              "      <td>0.65</td>\n",
              "      <td>9.8</td>\n",
              "      <td>0</td>\n",
              "    </tr>\n",
              "    <tr>\n",
              "      <th>3</th>\n",
              "      <td>11.2</td>\n",
              "      <td>0.28</td>\n",
              "      <td>0.56</td>\n",
              "      <td>1.9</td>\n",
              "      <td>0.075</td>\n",
              "      <td>17.0</td>\n",
              "      <td>60.0</td>\n",
              "      <td>0.9980</td>\n",
              "      <td>3.16</td>\n",
              "      <td>0.58</td>\n",
              "      <td>9.8</td>\n",
              "      <td>1</td>\n",
              "    </tr>\n",
              "    <tr>\n",
              "      <th>4</th>\n",
              "      <td>7.4</td>\n",
              "      <td>0.70</td>\n",
              "      <td>0.00</td>\n",
              "      <td>1.9</td>\n",
              "      <td>0.076</td>\n",
              "      <td>11.0</td>\n",
              "      <td>34.0</td>\n",
              "      <td>0.9978</td>\n",
              "      <td>3.51</td>\n",
              "      <td>0.56</td>\n",
              "      <td>9.4</td>\n",
              "      <td>0</td>\n",
              "    </tr>\n",
              "    <tr>\n",
              "      <th>5</th>\n",
              "      <td>7.4</td>\n",
              "      <td>0.66</td>\n",
              "      <td>0.00</td>\n",
              "      <td>1.8</td>\n",
              "      <td>0.075</td>\n",
              "      <td>13.0</td>\n",
              "      <td>40.0</td>\n",
              "      <td>0.9978</td>\n",
              "      <td>3.51</td>\n",
              "      <td>0.56</td>\n",
              "      <td>9.4</td>\n",
              "      <td>0</td>\n",
              "    </tr>\n",
              "    <tr>\n",
              "      <th>6</th>\n",
              "      <td>7.9</td>\n",
              "      <td>0.60</td>\n",
              "      <td>0.06</td>\n",
              "      <td>1.6</td>\n",
              "      <td>0.069</td>\n",
              "      <td>15.0</td>\n",
              "      <td>59.0</td>\n",
              "      <td>0.9964</td>\n",
              "      <td>3.30</td>\n",
              "      <td>0.46</td>\n",
              "      <td>9.4</td>\n",
              "      <td>0</td>\n",
              "    </tr>\n",
              "    <tr>\n",
              "      <th>7</th>\n",
              "      <td>7.3</td>\n",
              "      <td>0.65</td>\n",
              "      <td>0.00</td>\n",
              "      <td>1.2</td>\n",
              "      <td>0.065</td>\n",
              "      <td>15.0</td>\n",
              "      <td>21.0</td>\n",
              "      <td>0.9946</td>\n",
              "      <td>3.39</td>\n",
              "      <td>0.47</td>\n",
              "      <td>10.0</td>\n",
              "      <td>1</td>\n",
              "    </tr>\n",
              "    <tr>\n",
              "      <th>8</th>\n",
              "      <td>7.8</td>\n",
              "      <td>0.58</td>\n",
              "      <td>0.02</td>\n",
              "      <td>2.0</td>\n",
              "      <td>0.073</td>\n",
              "      <td>9.0</td>\n",
              "      <td>18.0</td>\n",
              "      <td>0.9968</td>\n",
              "      <td>3.36</td>\n",
              "      <td>0.57</td>\n",
              "      <td>9.5</td>\n",
              "      <td>1</td>\n",
              "    </tr>\n",
              "    <tr>\n",
              "      <th>9</th>\n",
              "      <td>7.5</td>\n",
              "      <td>0.50</td>\n",
              "      <td>0.36</td>\n",
              "      <td>6.1</td>\n",
              "      <td>0.071</td>\n",
              "      <td>17.0</td>\n",
              "      <td>102.0</td>\n",
              "      <td>0.9978</td>\n",
              "      <td>3.35</td>\n",
              "      <td>0.80</td>\n",
              "      <td>10.5</td>\n",
              "      <td>0</td>\n",
              "    </tr>\n",
              "  </tbody>\n",
              "</table>\n",
              "</div>"
            ],
            "text/plain": [
              "   fixed_acidity  volatile_acidity  citric_acid  residual_sugar  chlorides  \\\n",
              "0            7.4              0.70         0.00             1.9      0.076   \n",
              "1            7.8              0.88         0.00             2.6      0.098   \n",
              "2            7.8              0.76         0.04             2.3      0.092   \n",
              "3           11.2              0.28         0.56             1.9      0.075   \n",
              "4            7.4              0.70         0.00             1.9      0.076   \n",
              "5            7.4              0.66         0.00             1.8      0.075   \n",
              "6            7.9              0.60         0.06             1.6      0.069   \n",
              "7            7.3              0.65         0.00             1.2      0.065   \n",
              "8            7.8              0.58         0.02             2.0      0.073   \n",
              "9            7.5              0.50         0.36             6.1      0.071   \n",
              "\n",
              "   free_sulfur_dioxide  total_sulfur_dioxide  density    pH  sulphates  \\\n",
              "0                 11.0                  34.0   0.9978  3.51       0.56   \n",
              "1                 25.0                  67.0   0.9968  3.20       0.68   \n",
              "2                 15.0                  54.0   0.9970  3.26       0.65   \n",
              "3                 17.0                  60.0   0.9980  3.16       0.58   \n",
              "4                 11.0                  34.0   0.9978  3.51       0.56   \n",
              "5                 13.0                  40.0   0.9978  3.51       0.56   \n",
              "6                 15.0                  59.0   0.9964  3.30       0.46   \n",
              "7                 15.0                  21.0   0.9946  3.39       0.47   \n",
              "8                  9.0                  18.0   0.9968  3.36       0.57   \n",
              "9                 17.0                 102.0   0.9978  3.35       0.80   \n",
              "\n",
              "   alcohol  class  \n",
              "0      9.4      0  \n",
              "1      9.8      0  \n",
              "2      9.8      0  \n",
              "3      9.8      1  \n",
              "4      9.4      0  \n",
              "5      9.4      0  \n",
              "6      9.4      0  \n",
              "7     10.0      1  \n",
              "8      9.5      1  \n",
              "9     10.5      0  "
            ]
          },
          "execution_count": 20,
          "metadata": {},
          "output_type": "execute_result"
        }
      ],
      "source": [
        "df.head(10)"
      ]
    },
    {
      "cell_type": "markdown",
      "id": "d41a3669-080d-4bcd-bef0-fa487be55b31",
      "metadata": {
        "id": "d41a3669-080d-4bcd-bef0-fa487be55b31"
      },
      "source": [
        "## Construcción del conjunto de datos separando variables independientes y la variable dependiente"
      ]
    },
    {
      "cell_type": "code",
      "execution_count": 21,
      "id": "f80f4f3f-b789-4ea6-9e69-66c67ab5b778",
      "metadata": {
        "id": "f80f4f3f-b789-4ea6-9e69-66c67ab5b778"
      },
      "outputs": [
        {
          "name": "stdout",
          "output_type": "stream",
          "text": [
            "(1119, 11) (480, 11) (1119,) (480,)\n"
          ]
        }
      ],
      "source": [
        "# Drop the 'class' column (which is the dependent variable)\n",
        "X = df.drop(['class'], axis=1)\n",
        "\n",
        "# Set 'class' as the dependent variable (target)\n",
        "y = df['class']\n",
        "\n",
        "# Split the data into training and testing sets\n",
        "from sklearn.model_selection import train_test_split\n",
        "X_train, X_test, y_train, y_test = train_test_split(X, y, test_size=0.3, random_state=50)\n",
        "\n",
        "# Check the shape of the training and testing data\n",
        "print(X_train.shape, X_test.shape, y_train.shape, y_test.shape)"
      ]
    },
    {
      "cell_type": "markdown",
      "id": "8b15a35c-dd69-4b98-8bc0-185db1dfe82e",
      "metadata": {
        "id": "8b15a35c-dd69-4b98-8bc0-185db1dfe82e"
      },
      "source": [
        "## Creación de un modelo de clasificación utilizando un árbol de decisión"
      ]
    },
    {
      "cell_type": "code",
      "execution_count": 22,
      "id": "c7dfcc99-07c3-4728-b960-d5711ce37e41",
      "metadata": {
        "id": "c7dfcc99-07c3-4728-b960-d5711ce37e41"
      },
      "outputs": [
        {
          "data": {
            "text/html": [
              "<style>#sk-container-id-1 {\n",
              "  /* Definition of color scheme common for light and dark mode */\n",
              "  --sklearn-color-text: black;\n",
              "  --sklearn-color-line: gray;\n",
              "  /* Definition of color scheme for unfitted estimators */\n",
              "  --sklearn-color-unfitted-level-0: #fff5e6;\n",
              "  --sklearn-color-unfitted-level-1: #f6e4d2;\n",
              "  --sklearn-color-unfitted-level-2: #ffe0b3;\n",
              "  --sklearn-color-unfitted-level-3: chocolate;\n",
              "  /* Definition of color scheme for fitted estimators */\n",
              "  --sklearn-color-fitted-level-0: #f0f8ff;\n",
              "  --sklearn-color-fitted-level-1: #d4ebff;\n",
              "  --sklearn-color-fitted-level-2: #b3dbfd;\n",
              "  --sklearn-color-fitted-level-3: cornflowerblue;\n",
              "\n",
              "  /* Specific color for light theme */\n",
              "  --sklearn-color-text-on-default-background: var(--sg-text-color, var(--theme-code-foreground, var(--jp-content-font-color1, black)));\n",
              "  --sklearn-color-background: var(--sg-background-color, var(--theme-background, var(--jp-layout-color0, white)));\n",
              "  --sklearn-color-border-box: var(--sg-text-color, var(--theme-code-foreground, var(--jp-content-font-color1, black)));\n",
              "  --sklearn-color-icon: #696969;\n",
              "\n",
              "  @media (prefers-color-scheme: dark) {\n",
              "    /* Redefinition of color scheme for dark theme */\n",
              "    --sklearn-color-text-on-default-background: var(--sg-text-color, var(--theme-code-foreground, var(--jp-content-font-color1, white)));\n",
              "    --sklearn-color-background: var(--sg-background-color, var(--theme-background, var(--jp-layout-color0, #111)));\n",
              "    --sklearn-color-border-box: var(--sg-text-color, var(--theme-code-foreground, var(--jp-content-font-color1, white)));\n",
              "    --sklearn-color-icon: #878787;\n",
              "  }\n",
              "}\n",
              "\n",
              "#sk-container-id-1 {\n",
              "  color: var(--sklearn-color-text);\n",
              "}\n",
              "\n",
              "#sk-container-id-1 pre {\n",
              "  padding: 0;\n",
              "}\n",
              "\n",
              "#sk-container-id-1 input.sk-hidden--visually {\n",
              "  border: 0;\n",
              "  clip: rect(1px 1px 1px 1px);\n",
              "  clip: rect(1px, 1px, 1px, 1px);\n",
              "  height: 1px;\n",
              "  margin: -1px;\n",
              "  overflow: hidden;\n",
              "  padding: 0;\n",
              "  position: absolute;\n",
              "  width: 1px;\n",
              "}\n",
              "\n",
              "#sk-container-id-1 div.sk-dashed-wrapped {\n",
              "  border: 1px dashed var(--sklearn-color-line);\n",
              "  margin: 0 0.4em 0.5em 0.4em;\n",
              "  box-sizing: border-box;\n",
              "  padding-bottom: 0.4em;\n",
              "  background-color: var(--sklearn-color-background);\n",
              "}\n",
              "\n",
              "#sk-container-id-1 div.sk-container {\n",
              "  /* jupyter's `normalize.less` sets `[hidden] { display: none; }`\n",
              "     but bootstrap.min.css set `[hidden] { display: none !important; }`\n",
              "     so we also need the `!important` here to be able to override the\n",
              "     default hidden behavior on the sphinx rendered scikit-learn.org.\n",
              "     See: https://github.com/scikit-learn/scikit-learn/issues/21755 */\n",
              "  display: inline-block !important;\n",
              "  position: relative;\n",
              "}\n",
              "\n",
              "#sk-container-id-1 div.sk-text-repr-fallback {\n",
              "  display: none;\n",
              "}\n",
              "\n",
              "div.sk-parallel-item,\n",
              "div.sk-serial,\n",
              "div.sk-item {\n",
              "  /* draw centered vertical line to link estimators */\n",
              "  background-image: linear-gradient(var(--sklearn-color-text-on-default-background), var(--sklearn-color-text-on-default-background));\n",
              "  background-size: 2px 100%;\n",
              "  background-repeat: no-repeat;\n",
              "  background-position: center center;\n",
              "}\n",
              "\n",
              "/* Parallel-specific style estimator block */\n",
              "\n",
              "#sk-container-id-1 div.sk-parallel-item::after {\n",
              "  content: \"\";\n",
              "  width: 100%;\n",
              "  border-bottom: 2px solid var(--sklearn-color-text-on-default-background);\n",
              "  flex-grow: 1;\n",
              "}\n",
              "\n",
              "#sk-container-id-1 div.sk-parallel {\n",
              "  display: flex;\n",
              "  align-items: stretch;\n",
              "  justify-content: center;\n",
              "  background-color: var(--sklearn-color-background);\n",
              "  position: relative;\n",
              "}\n",
              "\n",
              "#sk-container-id-1 div.sk-parallel-item {\n",
              "  display: flex;\n",
              "  flex-direction: column;\n",
              "}\n",
              "\n",
              "#sk-container-id-1 div.sk-parallel-item:first-child::after {\n",
              "  align-self: flex-end;\n",
              "  width: 50%;\n",
              "}\n",
              "\n",
              "#sk-container-id-1 div.sk-parallel-item:last-child::after {\n",
              "  align-self: flex-start;\n",
              "  width: 50%;\n",
              "}\n",
              "\n",
              "#sk-container-id-1 div.sk-parallel-item:only-child::after {\n",
              "  width: 0;\n",
              "}\n",
              "\n",
              "/* Serial-specific style estimator block */\n",
              "\n",
              "#sk-container-id-1 div.sk-serial {\n",
              "  display: flex;\n",
              "  flex-direction: column;\n",
              "  align-items: center;\n",
              "  background-color: var(--sklearn-color-background);\n",
              "  padding-right: 1em;\n",
              "  padding-left: 1em;\n",
              "}\n",
              "\n",
              "\n",
              "/* Toggleable style: style used for estimator/Pipeline/ColumnTransformer box that is\n",
              "clickable and can be expanded/collapsed.\n",
              "- Pipeline and ColumnTransformer use this feature and define the default style\n",
              "- Estimators will overwrite some part of the style using the `sk-estimator` class\n",
              "*/\n",
              "\n",
              "/* Pipeline and ColumnTransformer style (default) */\n",
              "\n",
              "#sk-container-id-1 div.sk-toggleable {\n",
              "  /* Default theme specific background. It is overwritten whether we have a\n",
              "  specific estimator or a Pipeline/ColumnTransformer */\n",
              "  background-color: var(--sklearn-color-background);\n",
              "}\n",
              "\n",
              "/* Toggleable label */\n",
              "#sk-container-id-1 label.sk-toggleable__label {\n",
              "  cursor: pointer;\n",
              "  display: block;\n",
              "  width: 100%;\n",
              "  margin-bottom: 0;\n",
              "  padding: 0.5em;\n",
              "  box-sizing: border-box;\n",
              "  text-align: center;\n",
              "}\n",
              "\n",
              "#sk-container-id-1 label.sk-toggleable__label-arrow:before {\n",
              "  /* Arrow on the left of the label */\n",
              "  content: \"▸\";\n",
              "  float: left;\n",
              "  margin-right: 0.25em;\n",
              "  color: var(--sklearn-color-icon);\n",
              "}\n",
              "\n",
              "#sk-container-id-1 label.sk-toggleable__label-arrow:hover:before {\n",
              "  color: var(--sklearn-color-text);\n",
              "}\n",
              "\n",
              "/* Toggleable content - dropdown */\n",
              "\n",
              "#sk-container-id-1 div.sk-toggleable__content {\n",
              "  max-height: 0;\n",
              "  max-width: 0;\n",
              "  overflow: hidden;\n",
              "  text-align: left;\n",
              "  /* unfitted */\n",
              "  background-color: var(--sklearn-color-unfitted-level-0);\n",
              "}\n",
              "\n",
              "#sk-container-id-1 div.sk-toggleable__content.fitted {\n",
              "  /* fitted */\n",
              "  background-color: var(--sklearn-color-fitted-level-0);\n",
              "}\n",
              "\n",
              "#sk-container-id-1 div.sk-toggleable__content pre {\n",
              "  margin: 0.2em;\n",
              "  border-radius: 0.25em;\n",
              "  color: var(--sklearn-color-text);\n",
              "  /* unfitted */\n",
              "  background-color: var(--sklearn-color-unfitted-level-0);\n",
              "}\n",
              "\n",
              "#sk-container-id-1 div.sk-toggleable__content.fitted pre {\n",
              "  /* unfitted */\n",
              "  background-color: var(--sklearn-color-fitted-level-0);\n",
              "}\n",
              "\n",
              "#sk-container-id-1 input.sk-toggleable__control:checked~div.sk-toggleable__content {\n",
              "  /* Expand drop-down */\n",
              "  max-height: 200px;\n",
              "  max-width: 100%;\n",
              "  overflow: auto;\n",
              "}\n",
              "\n",
              "#sk-container-id-1 input.sk-toggleable__control:checked~label.sk-toggleable__label-arrow:before {\n",
              "  content: \"▾\";\n",
              "}\n",
              "\n",
              "/* Pipeline/ColumnTransformer-specific style */\n",
              "\n",
              "#sk-container-id-1 div.sk-label input.sk-toggleable__control:checked~label.sk-toggleable__label {\n",
              "  color: var(--sklearn-color-text);\n",
              "  background-color: var(--sklearn-color-unfitted-level-2);\n",
              "}\n",
              "\n",
              "#sk-container-id-1 div.sk-label.fitted input.sk-toggleable__control:checked~label.sk-toggleable__label {\n",
              "  background-color: var(--sklearn-color-fitted-level-2);\n",
              "}\n",
              "\n",
              "/* Estimator-specific style */\n",
              "\n",
              "/* Colorize estimator box */\n",
              "#sk-container-id-1 div.sk-estimator input.sk-toggleable__control:checked~label.sk-toggleable__label {\n",
              "  /* unfitted */\n",
              "  background-color: var(--sklearn-color-unfitted-level-2);\n",
              "}\n",
              "\n",
              "#sk-container-id-1 div.sk-estimator.fitted input.sk-toggleable__control:checked~label.sk-toggleable__label {\n",
              "  /* fitted */\n",
              "  background-color: var(--sklearn-color-fitted-level-2);\n",
              "}\n",
              "\n",
              "#sk-container-id-1 div.sk-label label.sk-toggleable__label,\n",
              "#sk-container-id-1 div.sk-label label {\n",
              "  /* The background is the default theme color */\n",
              "  color: var(--sklearn-color-text-on-default-background);\n",
              "}\n",
              "\n",
              "/* On hover, darken the color of the background */\n",
              "#sk-container-id-1 div.sk-label:hover label.sk-toggleable__label {\n",
              "  color: var(--sklearn-color-text);\n",
              "  background-color: var(--sklearn-color-unfitted-level-2);\n",
              "}\n",
              "\n",
              "/* Label box, darken color on hover, fitted */\n",
              "#sk-container-id-1 div.sk-label.fitted:hover label.sk-toggleable__label.fitted {\n",
              "  color: var(--sklearn-color-text);\n",
              "  background-color: var(--sklearn-color-fitted-level-2);\n",
              "}\n",
              "\n",
              "/* Estimator label */\n",
              "\n",
              "#sk-container-id-1 div.sk-label label {\n",
              "  font-family: monospace;\n",
              "  font-weight: bold;\n",
              "  display: inline-block;\n",
              "  line-height: 1.2em;\n",
              "}\n",
              "\n",
              "#sk-container-id-1 div.sk-label-container {\n",
              "  text-align: center;\n",
              "}\n",
              "\n",
              "/* Estimator-specific */\n",
              "#sk-container-id-1 div.sk-estimator {\n",
              "  font-family: monospace;\n",
              "  border: 1px dotted var(--sklearn-color-border-box);\n",
              "  border-radius: 0.25em;\n",
              "  box-sizing: border-box;\n",
              "  margin-bottom: 0.5em;\n",
              "  /* unfitted */\n",
              "  background-color: var(--sklearn-color-unfitted-level-0);\n",
              "}\n",
              "\n",
              "#sk-container-id-1 div.sk-estimator.fitted {\n",
              "  /* fitted */\n",
              "  background-color: var(--sklearn-color-fitted-level-0);\n",
              "}\n",
              "\n",
              "/* on hover */\n",
              "#sk-container-id-1 div.sk-estimator:hover {\n",
              "  /* unfitted */\n",
              "  background-color: var(--sklearn-color-unfitted-level-2);\n",
              "}\n",
              "\n",
              "#sk-container-id-1 div.sk-estimator.fitted:hover {\n",
              "  /* fitted */\n",
              "  background-color: var(--sklearn-color-fitted-level-2);\n",
              "}\n",
              "\n",
              "/* Specification for estimator info (e.g. \"i\" and \"?\") */\n",
              "\n",
              "/* Common style for \"i\" and \"?\" */\n",
              "\n",
              ".sk-estimator-doc-link,\n",
              "a:link.sk-estimator-doc-link,\n",
              "a:visited.sk-estimator-doc-link {\n",
              "  float: right;\n",
              "  font-size: smaller;\n",
              "  line-height: 1em;\n",
              "  font-family: monospace;\n",
              "  background-color: var(--sklearn-color-background);\n",
              "  border-radius: 1em;\n",
              "  height: 1em;\n",
              "  width: 1em;\n",
              "  text-decoration: none !important;\n",
              "  margin-left: 1ex;\n",
              "  /* unfitted */\n",
              "  border: var(--sklearn-color-unfitted-level-1) 1pt solid;\n",
              "  color: var(--sklearn-color-unfitted-level-1);\n",
              "}\n",
              "\n",
              ".sk-estimator-doc-link.fitted,\n",
              "a:link.sk-estimator-doc-link.fitted,\n",
              "a:visited.sk-estimator-doc-link.fitted {\n",
              "  /* fitted */\n",
              "  border: var(--sklearn-color-fitted-level-1) 1pt solid;\n",
              "  color: var(--sklearn-color-fitted-level-1);\n",
              "}\n",
              "\n",
              "/* On hover */\n",
              "div.sk-estimator:hover .sk-estimator-doc-link:hover,\n",
              ".sk-estimator-doc-link:hover,\n",
              "div.sk-label-container:hover .sk-estimator-doc-link:hover,\n",
              ".sk-estimator-doc-link:hover {\n",
              "  /* unfitted */\n",
              "  background-color: var(--sklearn-color-unfitted-level-3);\n",
              "  color: var(--sklearn-color-background);\n",
              "  text-decoration: none;\n",
              "}\n",
              "\n",
              "div.sk-estimator.fitted:hover .sk-estimator-doc-link.fitted:hover,\n",
              ".sk-estimator-doc-link.fitted:hover,\n",
              "div.sk-label-container:hover .sk-estimator-doc-link.fitted:hover,\n",
              ".sk-estimator-doc-link.fitted:hover {\n",
              "  /* fitted */\n",
              "  background-color: var(--sklearn-color-fitted-level-3);\n",
              "  color: var(--sklearn-color-background);\n",
              "  text-decoration: none;\n",
              "}\n",
              "\n",
              "/* Span, style for the box shown on hovering the info icon */\n",
              ".sk-estimator-doc-link span {\n",
              "  display: none;\n",
              "  z-index: 9999;\n",
              "  position: relative;\n",
              "  font-weight: normal;\n",
              "  right: .2ex;\n",
              "  padding: .5ex;\n",
              "  margin: .5ex;\n",
              "  width: min-content;\n",
              "  min-width: 20ex;\n",
              "  max-width: 50ex;\n",
              "  color: var(--sklearn-color-text);\n",
              "  box-shadow: 2pt 2pt 4pt #999;\n",
              "  /* unfitted */\n",
              "  background: var(--sklearn-color-unfitted-level-0);\n",
              "  border: .5pt solid var(--sklearn-color-unfitted-level-3);\n",
              "}\n",
              "\n",
              ".sk-estimator-doc-link.fitted span {\n",
              "  /* fitted */\n",
              "  background: var(--sklearn-color-fitted-level-0);\n",
              "  border: var(--sklearn-color-fitted-level-3);\n",
              "}\n",
              "\n",
              ".sk-estimator-doc-link:hover span {\n",
              "  display: block;\n",
              "}\n",
              "\n",
              "/* \"?\"-specific style due to the `<a>` HTML tag */\n",
              "\n",
              "#sk-container-id-1 a.estimator_doc_link {\n",
              "  float: right;\n",
              "  font-size: 1rem;\n",
              "  line-height: 1em;\n",
              "  font-family: monospace;\n",
              "  background-color: var(--sklearn-color-background);\n",
              "  border-radius: 1rem;\n",
              "  height: 1rem;\n",
              "  width: 1rem;\n",
              "  text-decoration: none;\n",
              "  /* unfitted */\n",
              "  color: var(--sklearn-color-unfitted-level-1);\n",
              "  border: var(--sklearn-color-unfitted-level-1) 1pt solid;\n",
              "}\n",
              "\n",
              "#sk-container-id-1 a.estimator_doc_link.fitted {\n",
              "  /* fitted */\n",
              "  border: var(--sklearn-color-fitted-level-1) 1pt solid;\n",
              "  color: var(--sklearn-color-fitted-level-1);\n",
              "}\n",
              "\n",
              "/* On hover */\n",
              "#sk-container-id-1 a.estimator_doc_link:hover {\n",
              "  /* unfitted */\n",
              "  background-color: var(--sklearn-color-unfitted-level-3);\n",
              "  color: var(--sklearn-color-background);\n",
              "  text-decoration: none;\n",
              "}\n",
              "\n",
              "#sk-container-id-1 a.estimator_doc_link.fitted:hover {\n",
              "  /* fitted */\n",
              "  background-color: var(--sklearn-color-fitted-level-3);\n",
              "}\n",
              "</style><div id=\"sk-container-id-1\" class=\"sk-top-container\"><div class=\"sk-text-repr-fallback\"><pre>DecisionTreeClassifier(random_state=0)</pre><b>In a Jupyter environment, please rerun this cell to show the HTML representation or trust the notebook. <br />On GitHub, the HTML representation is unable to render, please try loading this page with nbviewer.org.</b></div><div class=\"sk-container\" hidden><div class=\"sk-item\"><div class=\"sk-estimator fitted sk-toggleable\"><input class=\"sk-toggleable__control sk-hidden--visually\" id=\"sk-estimator-id-1\" type=\"checkbox\" checked><label for=\"sk-estimator-id-1\" class=\"sk-toggleable__label fitted sk-toggleable__label-arrow fitted\">&nbsp;&nbsp;DecisionTreeClassifier<a class=\"sk-estimator-doc-link fitted\" rel=\"noreferrer\" target=\"_blank\" href=\"https://scikit-learn.org/1.5/modules/generated/sklearn.tree.DecisionTreeClassifier.html\">?<span>Documentation for DecisionTreeClassifier</span></a><span class=\"sk-estimator-doc-link fitted\">i<span>Fitted</span></span></label><div class=\"sk-toggleable__content fitted\"><pre>DecisionTreeClassifier(random_state=0)</pre></div> </div></div></div></div>"
            ],
            "text/plain": [
              "DecisionTreeClassifier(random_state=0)"
            ]
          },
          "execution_count": 22,
          "metadata": {},
          "output_type": "execute_result"
        }
      ],
      "source": [
        "from sklearn.tree import DecisionTreeClassifier\n",
        "clf = DecisionTreeClassifier(random_state=0)\n",
        "clf.fit(X_train, y_train)"
      ]
    },
    {
      "cell_type": "markdown",
      "id": "79b6c02b-484b-477e-a375-632f9b4059c2",
      "metadata": {
        "id": "79b6c02b-484b-477e-a375-632f9b4059c2"
      },
      "source": [
        "## Visualización del árbol de decisión"
      ]
    },
    {
      "cell_type": "code",
      "execution_count": 23,
      "id": "89a30059",
      "metadata": {},
      "outputs": [
        {
          "name": "stderr",
          "output_type": "stream",
          "text": [
            "Matplotlib is building the font cache; this may take a moment.\n"
          ]
        }
      ],
      "source": [
        "from sklearn import tree\n",
        "from matplotlib import pyplot as plt"
      ]
    },
    {
      "cell_type": "code",
      "execution_count": 24,
      "id": "4fc1d283-7029-4235-9ba9-02e9e6bd19f4",
      "metadata": {
        "id": "4fc1d283-7029-4235-9ba9-02e9e6bd19f4"
      },
      "outputs": [
        {
          "data": {
            "image/png": "[encoded data removed]",
            "text/plain": [
              "<Figure size 640x480 with 1 Axes>"
            ]
          },
          "metadata": {},
          "output_type": "display_data"
        }
      ],
      "source": [
        "tree.plot_tree(clf)\n",
        "plt.show()"
      ]
    },
    {
      "cell_type": "markdown",
      "id": "2c429114-05c9-42b7-a092-08e257e2fb7b",
      "metadata": {
        "id": "2c429114-05c9-42b7-a092-08e257e2fb7b"
      },
      "source": [
        "## Evaluación del modelo"
      ]
    },
    {
      "cell_type": "code",
      "execution_count": 25,
      "id": "75938d65-99d1-4ebf-8fa1-f7508954f9e1",
      "metadata": {
        "id": "75938d65-99d1-4ebf-8fa1-f7508954f9e1"
      },
      "outputs": [],
      "source": [
        "predicciones_modelo = clf.predict(X_test) # con esto aplicamos el modelo a los datos de prueba"
      ]
    },
    {
      "cell_type": "code",
      "execution_count": 26,
      "id": "47445552-6f94-4a5f-acd8-8de0d7c3a6e7",
      "metadata": {
        "id": "47445552-6f94-4a5f-acd8-8de0d7c3a6e7"
      },
      "outputs": [
        {
          "name": "stdout",
          "output_type": "stream",
          "text": [
            "Confusion Matrix : \n",
            " [[181  69]\n",
            " [ 61 169]]\n",
            "Test accuracy =  0.7291666666666666\n"
          ]
        }
      ],
      "source": [
        "from sklearn.metrics import (confusion_matrix,\n",
        "                           accuracy_score)\n",
        "from sklearn.metrics import ConfusionMatrixDisplay\n",
        "\n",
        "# confusion matrix\n",
        "cm = confusion_matrix(y_test, predicciones_modelo)\n",
        "print (\"Confusion Matrix : \\n\", cm)\n",
        "\n",
        "\n",
        "# Exactitud de modelo\n",
        "print('Test accuracy = ', accuracy_score(y_test,predicciones_modelo))"
      ]
    }
  ],
  "metadata": {
    "colab": {
      "provenance": []
    },
    "kernelspec": {
      "display_name": "Python 3 (ipykernel)",
      "language": "python",
      "name": "python3"
    },
    "language_info": {
      "codemirror_mode": {
        "name": "ipython",
        "version": 3
      },
      "file_extension": ".py",
      "mimetype": "text/x-python",
      "name": "python",
      "nbconvert_exporter": "python",
      "pygments_lexer": "ipython3",
      "version": "3.12.0"
    }
  },
  "nbformat": 4,
  "nbformat_minor": 5
}
